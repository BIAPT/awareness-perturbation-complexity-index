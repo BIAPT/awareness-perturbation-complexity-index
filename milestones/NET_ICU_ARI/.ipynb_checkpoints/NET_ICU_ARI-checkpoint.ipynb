{
 "cells": [
  {
   "cell_type": "code",
   "execution_count": null,
   "id": "577d0148",
   "metadata": {},
   "outputs": [],
   "source": [
    "%%javascript\n",
    "IPython.OutputArea.prototype._should_scroll = function(lines) {\n",
    "    return false;\n",
    "}"
   ]
  },
  {
   "cell_type": "code",
   "execution_count": null,
   "id": "6ea5c32e",
   "metadata": {},
   "outputs": [],
   "source": [
    "import matplotlib.pyplot as plt\n",
    "import seaborn as sns\n",
    "import pandas as pd\n",
    "import numpy as np\n",
    "from scipy.stats import pearsonr, kendalltau\n"
   ]
  },
  {
   "cell_type": "code",
   "execution_count": null,
   "id": "76c89048",
   "metadata": {},
   "outputs": [],
   "source": [
    "data_dir = 'results/ARI_alpha_reduced_No/NET_ICU_ARI_variables.txt'\n",
    "patient_information = 'data/part_info.txt'\n"
   ]
  },
  {
   "cell_type": "code",
   "execution_count": null,
   "id": "751b9771",
   "metadata": {},
   "outputs": [],
   "source": [
    "# load patient info\n",
    "info = pd.read_csv(patient_information, sep = '\\t')\n",
    "info.head()"
   ]
  },
  {
   "cell_type": "code",
   "execution_count": null,
   "id": "26a28804",
   "metadata": {},
   "outputs": [],
   "source": [
    "# load data\n",
    "features = pd.read_csv(data_dir, sep = ',')\n",
    "features['ARI'] = features['hub_ARI'] + features['dpli_ARI']\n",
    "features"
   ]
  },
  {
   "cell_type": "code",
   "execution_count": null,
   "id": "c545b0ee",
   "metadata": {},
   "outputs": [],
   "source": [
    "data = pd.concat([info, features], axis = 1)\n",
    "data_favorable = data[data['Outcome']=='Favorable']\n",
    "data_favorable_3m = data_favorable[data_favorable['3m_GOSE']!='-']\n",
    "data_favorable_6m = data_favorable[data_favorable['6m_GOSE']!='-']\n",
    "\n",
    "data_2 = data[data['States']==2]\n",
    "data_3 = data[data['States']==3]\n",
    "data_3_favorable = data_3[data_3['Outcome']=='Favorable']\n",
    "\n",
    "data_3_favorable_3m = data_3_favorable[data_3_favorable['3m_DRS']!='-']\n",
    "data_3_favorable_6m = data_3_favorable[data_3_favorable['6m_DRS']!='-']\n",
    "\n",
    "data_GOSE6m = data[data['6m_GOSE']!='-']\n",
    "data_3_GOSE6m = data_GOSE6m[data_GOSE6m['States']==3]"
   ]
  },
  {
   "cell_type": "code",
   "execution_count": null,
   "id": "d24ae3b7",
   "metadata": {},
   "outputs": [],
   "source": [
    "data_3_favorable_6m.iloc[:,0:20]"
   ]
  },
  {
   "cell_type": "code",
   "execution_count": null,
   "id": "c29b6f56",
   "metadata": {},
   "outputs": [],
   "source": [
    "data_GOSE6m['6m_GOSE'] = data_GOSE6m['6m_GOSE'].astype(int)\n",
    "data_3_GOSE6m['6m_GOSE'] = data_3_GOSE6m['6m_GOSE'].astype(int)\n",
    "data_favorable_3m['3m_GOSE'] = data_favorable_3m['3m_GOSE'].astype(int)\n",
    "data_favorable_6m['6m_GOSE'] = data_favorable_6m['6m_GOSE'].astype(int)\n",
    "data_favorable_3m['3m_DRS'] = data_favorable_3m['3m_DRS'].astype(int)\n",
    "\n",
    "data_3_favorable_6m['6m_DRS'] = data_3_favorable_6m['6m_DRS'].astype(int)\n",
    "data_3_favorable_6m['6m_GOSE'] = data_3_favorable_6m['6m_GOSE'].astype(int)\n",
    "data_3_favorable_3m['3m_DRS'] = data_3_favorable_3m['3m_DRS'].astype(int)\n",
    "data_3_favorable_3m['3m_GOSE'] = data_3_favorable_3m['3m_GOSE'].astype(int)\n"
   ]
  },
  {
   "cell_type": "code",
   "execution_count": null,
   "id": "40c0e753",
   "metadata": {},
   "outputs": [],
   "source": [
    "data_favorable"
   ]
  },
  {
   "cell_type": "code",
   "execution_count": null,
   "id": "08512c7f",
   "metadata": {},
   "outputs": [],
   "source": [
    "colors = [\"skyblue\", \"lightseagreen\",\"lightcoral\"]# Set your custom color palette\n",
    "sns.set_palette(sns.color_palette(colors))\n"
   ]
  },
  {
   "cell_type": "code",
   "execution_count": null,
   "id": "4bca5f41",
   "metadata": {},
   "outputs": [],
   "source": [
    "plt.figure(figsize = (19,5))\n",
    "\n",
    "ax = plt.subplot(131)\n",
    "# PLOT HEALTHY\n",
    "ax = sns.boxplot(y = 'dpli_on1', x = 'Outcome', data = data)\n",
    "ax = sns.swarmplot(y = 'dpli_on1', x = 'Outcome', data = data, color=\"black\", size = 5)\n",
    "ax.set_ylabel(\"DPLI Sedation ON1 \",fontsize=15)\n",
    "\n",
    "ax = plt.subplot(132)\n",
    "# PLOT HEALTHY\n",
    "ax = sns.boxplot(y = 'dpli_off', x = 'Outcome', data = data)\n",
    "ax = sns.swarmplot(y = 'dpli_off', x = 'Outcome', data = data, color=\"black\", size = 5)\n",
    "ax.set_ylabel(\"DPLI Sedation OFF \",fontsize=15)\n",
    "\n",
    "ax = plt.subplot(133)\n",
    "# PLOT HEALTHY\n",
    "ax = sns.boxplot(y = 'dpli_on2', x = 'Outcome', data = data)\n",
    "ax = sns.swarmplot(y = 'dpli_on2', x = 'Outcome', data = data, color=\"black\", size = 5)\n",
    "ax.set_ylabel(\"DPLI Sedation ON2 \",fontsize=15)"
   ]
  },
  {
   "cell_type": "code",
   "execution_count": null,
   "id": "2bb10b63",
   "metadata": {},
   "outputs": [],
   "source": [
    "plt.figure(figsize = (19,5))\n",
    "\n",
    "ax = plt.subplot(131)\n",
    "# PLOT HEALTHY\n",
    "ax = sns.boxplot(y = 'dpli_diff_on1_off', x = 'Outcome', data = data)\n",
    "ax = sns.swarmplot(y = 'dpli_diff_on1_off', x = 'Outcome', data = data, color=\"black\", size = 5)\n",
    "ax.set_ylabel(\"\\u0394 DPLI ON1-OFF \",fontsize=15)\n",
    "\n",
    "ax = plt.subplot(132)\n",
    "# PLOT HEALTHY\n",
    "ax = sns.boxplot(y = 'dpli_diff_on1_on2', x = 'Outcome', data = data)\n",
    "ax = sns.swarmplot(y = 'dpli_diff_on1_on2', x = 'Outcome', data = data, color=\"black\", size = 5)\n",
    "ax.set_ylabel(\"\\u0394 DPLI ON1-ON2 \",fontsize=15)\n",
    "\n",
    "ax = plt.subplot(133)\n",
    "# PLOT HEALTHY\n",
    "ax = sns.boxplot(y = 'dpli_diff_off_on2', x = 'Outcome', data = data)\n",
    "ax = sns.swarmplot(y = 'dpli_diff_off_on2', x = 'Outcome', data = data, color=\"black\", size = 5)\n",
    "ax.set_ylabel(\"\\u0394 DPLI OFF-ON2 \",fontsize=15)\n"
   ]
  },
  {
   "cell_type": "code",
   "execution_count": null,
   "id": "03e0c536",
   "metadata": {},
   "outputs": [],
   "source": [
    "plt.figure(figsize = (19,5))\n",
    "\n",
    "ax = plt.subplot(131)\n",
    "# PLOT HEALTHY\n",
    "ax = sns.boxplot(y = 'hub_diff_on1_off', x = 'Outcome', data = data)\n",
    "ax = sns.swarmplot(y = 'hub_diff_on1_off', x = 'Outcome', data = data, color=\"black\", size = 5)\n",
    "ax.set_ylabel(\"\\u0394 hub ON1-OFF \",fontsize=15)\n",
    "\n",
    "ax = plt.subplot(132)\n",
    "# PLOT HEALTHY\n",
    "ax = sns.boxplot(y = 'hub_diff_on1_on2', x = 'Outcome', data = data)\n",
    "ax = sns.swarmplot(y = 'hub_diff_on1_on2', x = 'Outcome', data = data, color=\"black\", size = 5)\n",
    "ax.set_ylabel(\"\\u0394 hub ON1-ON2 \",fontsize=15)\n",
    "\n",
    "ax = plt.subplot(133)\n",
    "# PLOT HEALTHY\n",
    "ax = sns.boxplot(y = 'hub_diff_off_on2', x = 'Outcome', data = data)\n",
    "ax = sns.swarmplot(y = 'hub_diff_off_on2', x = 'Outcome', data = data, color=\"black\", size = 5)\n",
    "ax.set_ylabel(\"\\u0394 hub OFF-ON2 \",fontsize=15)\n"
   ]
  },
  {
   "cell_type": "code",
   "execution_count": null,
   "id": "759380f2",
   "metadata": {},
   "outputs": [],
   "source": [
    "plt.figure(figsize = (13,5))\n",
    "\n",
    "ax = plt.subplot(121)\n",
    "# PLOT HEALTHY\n",
    "ax = sns.boxplot(y = 'hub_ARI', x = 'Outcome', data = data)\n",
    "ax = sns.swarmplot(y = 'hub_ARI', x = 'Outcome', data = data, color=\"black\", size = 5)\n",
    "ax.set_ylabel(\" hub Reconfiguration \",fontsize=15)\n",
    "\n",
    "ax = plt.subplot(122)\n",
    "# PLOT HEALTHY\n",
    "ax = sns.boxplot(y = 'dpli_ARI', x = 'Outcome', data = data)\n",
    "ax = sns.swarmplot(y = 'dpli_ARI', x = 'Outcome', data = data, color=\"black\", size = 5)\n",
    "ax.set_ylabel(\"dPLI Reconfiguration  \",fontsize=15)\n"
   ]
  },
  {
   "cell_type": "code",
   "execution_count": null,
   "id": "8be3a24b",
   "metadata": {},
   "outputs": [],
   "source": [
    "sns.scatterplot(y = 'hub_ARI', x = 'dpli_ARI', data = data, hue='Outcome', s = 100)\n",
    "\n",
    "plt.ylabel('Hub Reconfiguration', fontsize = 20)\n",
    "plt.xlabel('dPLI Reconfiguration', fontsize = 20)"
   ]
  },
  {
   "cell_type": "code",
   "execution_count": null,
   "id": "ebda10e1",
   "metadata": {},
   "outputs": [],
   "source": [
    "y = \"hub_diff_on1_off\"\n",
    "x = \"3m_GOSE\"\n",
    "data_r = data_favorable_3m\n",
    "\n",
    "# plot CRSR or GCS scale correlation\n",
    "plt.figure(figsize = (10,10))\n",
    "ax = plt.subplot(111)\n",
    "\n",
    "corr = pearsonr(data_r[x], data_r[y])\n",
    "print(corr)\n",
    "sns.regplot(x=x, y=y, data=data_r, color=\"skyblue\")\n",
    "sns.scatterplot(x=x, y=y,data=data_r, s = 200)\n",
    "plt.legend(markerscale=1.5,prop={'size': 20})\n",
    "\n",
    "ax.set_xlabel(x, fontsize=20)\n",
    "ax.set_ylabel(y + '\\n', fontsize=20)\n",
    "ax.tick_params(axis='both', which='major', labelsize=20)"
   ]
  },
  {
   "cell_type": "code",
   "execution_count": null,
   "id": "b0f499e0",
   "metadata": {},
   "outputs": [],
   "source": [
    "y = \"dpli_ARI\"\n",
    "x = \"6m_GOSE\"\n",
    "data_r = data_3_GOSE6m\n",
    "hue = 'Outcome'\n",
    "# plot CRSR or GCS scale correlation\n",
    "plt.figure(figsize = (10,10))\n",
    "ax = plt.subplot(111)\n",
    "\n",
    "corr = pearsonr(data_r[x], data_r[y])\n",
    "print(corr)\n",
    "sns.regplot(x=x, y=y, data=data_r, color=\"skyblue\")\n",
    "sns.scatterplot(x=x, y=y,data=data_r, hue = hue, s = 200)\n",
    "plt.legend(markerscale=1.5,prop={'size': 20})\n",
    "\n",
    "ax.set_xlabel(x, fontsize=20)\n",
    "ax.set_ylabel(y + '\\n', fontsize=20)\n",
    "ax.tick_params(axis='both', which='major', labelsize=20)"
   ]
  },
  {
   "cell_type": "code",
   "execution_count": null,
   "id": "f98a60df",
   "metadata": {},
   "outputs": [],
   "source": [
    "y = \"hub_ARI\"\n",
    "x = \"3m_GOSE\"\n",
    "data_r = data_3_favorable_3m\n",
    "\n",
    "# plot CRSR or GCS scale correlation\n",
    "plt.figure(figsize = (10,10))\n",
    "ax = plt.subplot(111)\n",
    "\n",
    "corr = kendalltau(data_r[x],data_r[y])\n",
    "print(corr)\n",
    "\n",
    "sns.regplot(x=x, y=y, data=data_r, color=\"skyblue\")\n",
    "sns.scatterplot(x=x, y=y,data=data_r, s = 200)\n",
    "plt.legend(markerscale=1.5,prop={'size': 20})\n",
    "\n",
    "ax.set_xlabel(x, fontsize=20)\n",
    "ax.set_ylabel(y + '\\n', fontsize=20)\n",
    "ax.tick_params(axis='both', which='major', labelsize=20)"
   ]
  },
  {
   "cell_type": "code",
   "execution_count": null,
   "id": "cac46c68",
   "metadata": {},
   "outputs": [],
   "source": [
    "y = \"hub_ARI\"\n",
    "x = \"3m_GOSE\"\n",
    "data_r = data_3_favorable_3m\n",
    "\n",
    "# plot CRSR or GCS scale correlation\n",
    "plt.figure(figsize = (10,10))\n",
    "ax = plt.subplot(111)\n",
    "\n",
    "corr = kendalltau(data_r[x], data_r[y])\n",
    "print(corr)\n",
    "sns.regplot(x=x, y=y, data=data_r, color=\"skyblue\")\n",
    "sns.scatterplot(x=x, y=y,data=data_r, s = 200)\n",
    "plt.legend(markerscale=1.5,prop={'size': 20})\n",
    "\n",
    "ax.set_xlabel(x, fontsize=20)\n",
    "ax.set_ylabel(y + '\\n', fontsize=20)\n",
    "ax.tick_params(axis='both', which='major', labelsize=20)"
   ]
  },
  {
   "cell_type": "code",
   "execution_count": null,
   "id": "6863b410",
   "metadata": {},
   "outputs": [],
   "source": [
    "y = \"hub_ARI\"\n",
    "x = \"3m_DRS\"\n",
    "data_r = data_3_favorable_3m\n",
    "\n",
    "# plot CRSR or GCS scale correlation\n",
    "plt.figure(figsize = (10,10))\n",
    "ax = plt.subplot(111)\n",
    "\n",
    "corr = kendalltau(data_r[x], data_r[y])\n",
    "print(corr)\n",
    "sns.regplot(x=x, y=y, data=data_r, color=\"skyblue\")\n",
    "sns.scatterplot(x=x, y=y,data=data_r, s = 200)\n",
    "plt.legend(markerscale=1.5,prop={'size': 20})\n",
    "\n",
    "ax.set_xlabel(x, fontsize=20)\n",
    "ax.set_ylabel(y + '\\n', fontsize=20)\n",
    "ax.tick_params(axis='both', which='major', labelsize=20)"
   ]
  },
  {
   "cell_type": "code",
   "execution_count": null,
   "id": "7da83d4b",
   "metadata": {},
   "outputs": [],
   "source": [
    "y = \"ARI\"\n",
    "x = \"3m_DRS\"\n",
    "data_r = data_3_favorable_3m\n",
    "\n",
    "# plot CRSR or GCS scale correlation\n",
    "plt.figure(figsize = (10,10))\n",
    "ax = plt.subplot(111)\n",
    "\n",
    "corr = kendalltau(data_r[x], data_r[y])\n",
    "print(corr)\n",
    "sns.regplot(x=x, y=y, data=data_r, color=\"green\")\n",
    "sns.scatterplot(x=x, y=y,data=data_r, s = 200, color = 'grey')\n",
    "\n",
    "sig_corr = \"tau = \"+\"%.2f\" % corr[0]+ \"\\np = \"+ \"%.2f\" % corr[1]\n",
    "laby = ax.get_ylim()[0] + ((ax.get_ylim()[1]-ax.get_ylim()[0])/20)\n",
    "labx = ax.get_xlim()[1] - ((ax.get_xlim()[1]-ax.get_xlim()[0])/20)\n",
    "ax.text(labx, laby, sig_corr, fontsize = 25, fontstyle = 'italic', horizontalalignment = 'right')\n",
    "    \n",
    "\n",
    "ax.spines['right'].set_visible(False)\n",
    "ax.spines['top'].set_visible(False)\n",
    "ax.set_xlabel('3-month DRS score', fontsize=25)\n",
    "ax.set_ylabel(y + '\\n', fontsize=25)\n",
    "ax.tick_params(axis='both', which='major', labelsize=25)"
   ]
  },
  {
   "cell_type": "code",
   "execution_count": null,
   "id": "03fd4705",
   "metadata": {},
   "outputs": [],
   "source": [
    "y = \"ARI\"\n",
    "x = \"3m_GOSE\"\n",
    "data_r = data_3_favorable_3m\n",
    "\n",
    "# plot CRSR or GCS scale correlation\n",
    "plt.figure(figsize = (10,10))\n",
    "ax = plt.subplot(111)\n",
    "\n",
    "corr = kendalltau(data_r[x], data_r[y])\n",
    "print(corr)\n",
    "sns.regplot(x=x, y=y, data=data_r, color=\"green\")\n",
    "sns.scatterplot(x=x, y=y,data=data_r, s = 200, color = 'grey')\n",
    "\n",
    "sig_corr = \"tau = \"+\"%.2f\" % corr[0]+ \"\\np = \"+ \"%.2f\" % corr[1]\n",
    "laby = ax.get_ylim()[0] + ((ax.get_ylim()[1]-ax.get_ylim()[0])/20)\n",
    "labx = ax.get_xlim()[1] - ((ax.get_xlim()[1]-ax.get_xlim()[0])/20)\n",
    "ax.text(labx, laby, sig_corr, fontsize = 25, fontstyle = 'italic', horizontalalignment = 'right')\n",
    "    \n",
    "\n",
    "ax.spines['right'].set_visible(False)\n",
    "ax.spines['top'].set_visible(False)\n",
    "ax.set_xlabel('3-month GOSE score', fontsize=25)\n",
    "ax.set_ylabel(y + '\\n', fontsize=25)\n",
    "ax.tick_params(axis='both', which='major', labelsize=25)"
   ]
  },
  {
   "cell_type": "code",
   "execution_count": null,
   "id": "65a7b25c",
   "metadata": {},
   "outputs": [],
   "source": [
    "y = \"ARI\"\n",
    "x = \"6m_GOSE\"\n",
    "data_r = data_3_favorable_6m\n",
    "\n",
    "# plot CRSR or GCS scale correlation\n",
    "plt.figure(figsize = (10,10))\n",
    "ax = plt.subplot(111)\n",
    "\n",
    "corr = kendalltau(data_r[x], data_r[y])\n",
    "print(corr)\n",
    "sns.regplot(x=x, y=y, data=data_r, color=\"orange\")\n",
    "sns.scatterplot(x=x, y=y,data=data_r, s = 200, color = 'grey')\n",
    "\n",
    "sig_corr = \"tau = \"+\"%.2f\" % corr[0]+ \"\\np = \"+ \"%.2f\" % corr[1]\n",
    "laby = ax.get_ylim()[0] + ((ax.get_ylim()[1]-ax.get_ylim()[0])/20)\n",
    "labx = ax.get_xlim()[1] - ((ax.get_xlim()[1]-ax.get_xlim()[0])/20)\n",
    "ax.text(labx, laby, sig_corr, fontsize = 25, fontstyle = 'italic', horizontalalignment = 'right')\n",
    "    \n",
    "\n",
    "ax.spines['right'].set_visible(False)\n",
    "ax.spines['top'].set_visible(False)\n",
    "ax.set_xlabel('6-month GOSE score', fontsize=25)\n",
    "ax.set_ylabel(y + '\\n', fontsize=25)\n",
    "ax.tick_params(axis='both', which='major', labelsize=25)"
   ]
  },
  {
   "cell_type": "code",
   "execution_count": null,
   "id": "36117a75",
   "metadata": {},
   "outputs": [],
   "source": [
    "y = \"ARI\"\n",
    "x = \"6m_DRS\"\n",
    "data_r = data_3_favorable_6m\n",
    "\n",
    "# plot CRSR or GCS scale correlation\n",
    "plt.figure(figsize = (10,10))\n",
    "ax = plt.subplot(111)\n",
    "\n",
    "corr = kendalltau(data_r[x], data_r[y])\n",
    "print(corr)\n",
    "sns.regplot(x=x, y=y, data=data_r, color=\"orange\")\n",
    "sns.scatterplot(x=x, y=y,data=data_r, s = 200, color = 'grey')\n",
    "\n",
    "sig_corr = \"tau = \"+\"%.2f\" % corr[0]+ \"\\np = \"+ \"%.2f\" % corr[1]\n",
    "laby = ax.get_ylim()[0] + ((ax.get_ylim()[1]-ax.get_ylim()[0])/20)\n",
    "labx = ax.get_xlim()[1] - ((ax.get_xlim()[1]-ax.get_xlim()[0])/20)\n",
    "ax.text(labx, laby, sig_corr, fontsize = 25, fontstyle = 'italic', horizontalalignment = 'right')\n",
    "    \n",
    "\n",
    "ax.spines['right'].set_visible(False)\n",
    "ax.spines['top'].set_visible(False)\n",
    "ax.set_xlabel('6-month DRS score', fontsize=25)\n",
    "ax.set_ylabel(y + '\\n', fontsize=25)\n",
    "ax.tick_params(axis='both', which='major', labelsize=25)"
   ]
  }
 ],
 "metadata": {
  "kernelspec": {
   "display_name": "Python 3 (ipykernel)",
   "language": "python",
   "name": "python3"
  },
  "language_info": {
   "codemirror_mode": {
    "name": "ipython",
    "version": 3
   },
   "file_extension": ".py",
   "mimetype": "text/x-python",
   "name": "python",
   "nbconvert_exporter": "python",
   "pygments_lexer": "ipython3",
   "version": "3.8.12"
  }
 },
 "nbformat": 4,
 "nbformat_minor": 5
}
