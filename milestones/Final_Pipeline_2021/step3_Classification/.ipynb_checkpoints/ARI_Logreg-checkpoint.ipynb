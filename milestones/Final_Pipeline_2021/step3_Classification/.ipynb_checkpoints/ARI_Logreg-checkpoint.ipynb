{
 "cells": [
  {
   "cell_type": "code",
   "execution_count": 104,
   "metadata": {
    "colab": {},
    "colab_type": "code",
    "executionInfo": {
     "elapsed": 1036,
     "status": "ok",
     "timestamp": 1597432079387,
     "user": {
      "displayName": "lotte o",
      "photoUrl": "",
      "userId": "09078078803801089148"
     },
     "user_tz": 240
    },
    "id": "fLSO0VYJZYUj"
   },
   "outputs": [],
   "source": [
    "#  import some packages\n",
    "import pandas as pd\n",
    "import numpy as np\n",
    "import matplotlib.pyplot as plt\n",
    "from sklearn import preprocessing\n",
    "from sklearn.metrics import roc_curve, auc\n",
    "import numpy as np\n",
    "from sklearn import metrics\n"
   ]
  },
  {
   "cell_type": "markdown",
   "metadata": {
    "colab_type": "text",
    "id": "0dMJpe-WWgJ9"
   },
   "source": [
    "#  import data and specify patient diagnose and outcome"
   ]
  },
  {
   "cell_type": "code",
   "execution_count": 105,
   "metadata": {},
   "outputs": [
    {
     "name": "stderr",
     "output_type": "stream",
     "text": [
      "C:\\Users\\User\\Anaconda3\\lib\\site-packages\\ipykernel_launcher.py:1: FutureWarning: read_table is deprecated, use read_csv instead.\n",
      "  \"\"\"Entry point for launching an IPython kernel.\n"
     ]
    }
   ],
   "source": [
    "data = pd.read_table('ARI.txt',sep = ',')"
   ]
  },
  {
   "cell_type": "code",
   "execution_count": 106,
   "metadata": {},
   "outputs": [
    {
     "data": {
      "text/html": [
       "<div>\n",
       "<style scoped>\n",
       "    .dataframe tbody tr th:only-of-type {\n",
       "        vertical-align: middle;\n",
       "    }\n",
       "\n",
       "    .dataframe tbody tr th {\n",
       "        vertical-align: top;\n",
       "    }\n",
       "\n",
       "    .dataframe thead th {\n",
       "        text-align: right;\n",
       "    }\n",
       "</style>\n",
       "<table border=\"1\" class=\"dataframe\">\n",
       "  <thead>\n",
       "    <tr style=\"text-align: right;\">\n",
       "      <th></th>\n",
       "      <th>ID</th>\n",
       "      <th>dPLI</th>\n",
       "      <th>Hub</th>\n",
       "      <th>CRSR</th>\n",
       "    </tr>\n",
       "  </thead>\n",
       "  <tbody>\n",
       "    <tr>\n",
       "      <th>0</th>\n",
       "      <td>WSAS02</td>\n",
       "      <td>0.052253</td>\n",
       "      <td>2.201892</td>\n",
       "      <td>4</td>\n",
       "    </tr>\n",
       "    <tr>\n",
       "      <th>1</th>\n",
       "      <td>WSAS05</td>\n",
       "      <td>0.033583</td>\n",
       "      <td>1.284143</td>\n",
       "      <td>10</td>\n",
       "    </tr>\n",
       "    <tr>\n",
       "      <th>2</th>\n",
       "      <td>WSAS09</td>\n",
       "      <td>0.122368</td>\n",
       "      <td>1.867642</td>\n",
       "      <td>4</td>\n",
       "    </tr>\n",
       "    <tr>\n",
       "      <th>3</th>\n",
       "      <td>WSAS10</td>\n",
       "      <td>0.055298</td>\n",
       "      <td>0.936156</td>\n",
       "      <td>5</td>\n",
       "    </tr>\n",
       "    <tr>\n",
       "      <th>4</th>\n",
       "      <td>WSAS11</td>\n",
       "      <td>0.024191</td>\n",
       "      <td>1.285684</td>\n",
       "      <td>6</td>\n",
       "    </tr>\n",
       "    <tr>\n",
       "      <th>5</th>\n",
       "      <td>WSAS12</td>\n",
       "      <td>0.039730</td>\n",
       "      <td>0.680283</td>\n",
       "      <td>11</td>\n",
       "    </tr>\n",
       "    <tr>\n",
       "      <th>6</th>\n",
       "      <td>WSAS13</td>\n",
       "      <td>0.041347</td>\n",
       "      <td>0.958628</td>\n",
       "      <td>5</td>\n",
       "    </tr>\n",
       "    <tr>\n",
       "      <th>7</th>\n",
       "      <td>WSAS18</td>\n",
       "      <td>0.029963</td>\n",
       "      <td>1.039139</td>\n",
       "      <td>5</td>\n",
       "    </tr>\n",
       "    <tr>\n",
       "      <th>8</th>\n",
       "      <td>WSAS19</td>\n",
       "      <td>0.100620</td>\n",
       "      <td>1.517578</td>\n",
       "      <td>0</td>\n",
       "    </tr>\n",
       "    <tr>\n",
       "      <th>9</th>\n",
       "      <td>WSAS20</td>\n",
       "      <td>0.053043</td>\n",
       "      <td>1.771634</td>\n",
       "      <td>3</td>\n",
       "    </tr>\n",
       "    <tr>\n",
       "      <th>10</th>\n",
       "      <td>WSAS22</td>\n",
       "      <td>0.025602</td>\n",
       "      <td>1.482151</td>\n",
       "      <td>5</td>\n",
       "    </tr>\n",
       "  </tbody>\n",
       "</table>\n",
       "</div>"
      ],
      "text/plain": [
       "        ID      dPLI       Hub  CRSR\n",
       "0   WSAS02  0.052253  2.201892     4\n",
       "1   WSAS05  0.033583  1.284143    10\n",
       "2   WSAS09  0.122368  1.867642     4\n",
       "3   WSAS10  0.055298  0.936156     5\n",
       "4   WSAS11  0.024191  1.285684     6\n",
       "5   WSAS12  0.039730  0.680283    11\n",
       "6   WSAS13  0.041347  0.958628     5\n",
       "7   WSAS18  0.029963  1.039139     5\n",
       "8   WSAS19  0.100620  1.517578     0\n",
       "9   WSAS20  0.053043  1.771634     3\n",
       "10  WSAS22  0.025602  1.482151     5"
      ]
     },
     "execution_count": 106,
     "metadata": {},
     "output_type": "execute_result"
    }
   ],
   "source": [
    "data"
   ]
  },
  {
   "cell_type": "code",
   "execution_count": 107,
   "metadata": {
    "colab": {},
    "colab_type": "code",
    "executionInfo": {
     "elapsed": 1032,
     "status": "ok",
     "timestamp": 1597432079392,
     "user": {
      "displayName": "lotte o",
      "photoUrl": "",
      "userId": "09078078803801089148"
     },
     "user_tz": 240
    },
    "id": "64RSzTf1WPeJ"
   },
   "outputs": [],
   "source": [
    "ID=data['ID']"
   ]
  },
  {
   "cell_type": "code",
   "execution_count": 108,
   "metadata": {
    "colab": {},
    "colab_type": "code",
    "executionInfo": {
     "elapsed": 1030,
     "status": "ok",
     "timestamp": 1597432079395,
     "user": {
      "displayName": "lotte o",
      "photoUrl": "",
      "userId": "09078078803801089148"
     },
     "user_tz": 240
    },
    "id": "c1tv2dv4Xe5R"
   },
   "outputs": [],
   "source": [
    "dPLI=data['dPLI']"
   ]
  },
  {
   "cell_type": "code",
   "execution_count": 109,
   "metadata": {
    "colab": {},
    "colab_type": "code",
    "executionInfo": {
     "elapsed": 1029,
     "status": "ok",
     "timestamp": 1597432079398,
     "user": {
      "displayName": "lotte o",
      "photoUrl": "",
      "userId": "09078078803801089148"
     },
     "user_tz": 240
    },
    "id": "UTM8CDf9YQTt"
   },
   "outputs": [],
   "source": [
    "Hub=data['Hub']"
   ]
  },
  {
   "cell_type": "code",
   "execution_count": 110,
   "metadata": {
    "colab": {},
    "colab_type": "code",
    "executionInfo": {
     "elapsed": 1029,
     "status": "ok",
     "timestamp": 1597432079398,
     "user": {
      "displayName": "lotte o",
      "photoUrl": "",
      "userId": "09078078803801089148"
     },
     "user_tz": 240
    },
    "id": "UTM8CDf9YQTt"
   },
   "outputs": [],
   "source": [
    "CRSR=data['CRSR']"
   ]
  },
  {
   "cell_type": "code",
   "execution_count": 111,
   "metadata": {
    "colab": {},
    "colab_type": "code",
    "executionInfo": {
     "elapsed": 1025,
     "status": "ok",
     "timestamp": 1597432079400,
     "user": {
      "displayName": "lotte o",
      "photoUrl": "",
      "userId": "09078078803801089148"
     },
     "user_tz": 240
    },
    "id": "ZOGoXmPnZRd5"
   },
   "outputs": [],
   "source": [
    "Outcome=[1,0,1,0,0,0,0,0,1,1,0]"
   ]
  },
  {
   "cell_type": "code",
   "execution_count": 114,
   "metadata": {
    "colab": {},
    "colab_type": "code",
    "executionInfo": {
     "elapsed": 1023,
     "status": "ok",
     "timestamp": 1597432079402,
     "user": {
      "displayName": "lotte o",
      "photoUrl": "",
      "userId": "09078078803801089148"
     },
     "user_tz": 240
    },
    "id": "en6A9O8I2tcE"
   },
   "outputs": [],
   "source": [
    "Diagnose=[0,1,0,0,0,1,0,0,0,0,0]"
   ]
  },
  {
   "cell_type": "code",
   "execution_count": 115,
   "metadata": {
    "colab": {},
    "colab_type": "code",
    "executionInfo": {
     "elapsed": 1020,
     "status": "ok",
     "timestamp": 1597432079404,
     "user": {
      "displayName": "lotte o",
      "photoUrl": "",
      "userId": "09078078803801089148"
     },
     "user_tz": 240
    },
    "id": "cebIqcauZWHv"
   },
   "outputs": [],
   "source": [
    "data= np.stack((ID, dPLI, Hub, Outcome,Diagnose,CRSR),axis=1)"
   ]
  },
  {
   "cell_type": "markdown",
   "metadata": {
    "colab_type": "text",
    "id": "guqrqhyJve7g"
   },
   "source": [
    "I need to adapt the dataformat here into float and ineger (otherwise the numbers will be represented as a category)"
   ]
  },
  {
   "cell_type": "code",
   "execution_count": 116,
   "metadata": {
    "colab": {},
    "colab_type": "code",
    "executionInfo": {
     "elapsed": 1017,
     "status": "ok",
     "timestamp": 1597432079406,
     "user": {
      "displayName": "lotte o",
      "photoUrl": "",
      "userId": "09078078803801089148"
     },
     "user_tz": 240
    },
    "id": "ksWIQR_lZnAB"
   },
   "outputs": [],
   "source": [
    "data=pd.DataFrame(data)\n",
    "data.columns=['ID','dPLI','Hub','Outcome','Diagnose','CRSR']\n",
    "data['dPLI']=data['dPLI'].astype(float)\n",
    "data['Hub']=data['Hub'].astype(float)\n",
    "data['Outcome']=data['Outcome'].astype(int)\n",
    "data['Diagnose']=data['Diagnose'].astype(int)\n",
    "data['CRSR']=data['CRSR'].astype(int)\n"
   ]
  },
  {
   "cell_type": "markdown",
   "metadata": {
    "colab_type": "text",
    "id": "PeolhGnSvryT"
   },
   "source": [
    "This is how the data looks like"
   ]
  },
  {
   "cell_type": "code",
   "execution_count": 117,
   "metadata": {},
   "outputs": [
    {
     "data": {
      "text/html": [
       "<div>\n",
       "<style scoped>\n",
       "    .dataframe tbody tr th:only-of-type {\n",
       "        vertical-align: middle;\n",
       "    }\n",
       "\n",
       "    .dataframe tbody tr th {\n",
       "        vertical-align: top;\n",
       "    }\n",
       "\n",
       "    .dataframe thead th {\n",
       "        text-align: right;\n",
       "    }\n",
       "</style>\n",
       "<table border=\"1\" class=\"dataframe\">\n",
       "  <thead>\n",
       "    <tr style=\"text-align: right;\">\n",
       "      <th></th>\n",
       "      <th>ID</th>\n",
       "      <th>dPLI</th>\n",
       "      <th>Hub</th>\n",
       "      <th>Outcome</th>\n",
       "      <th>Diagnose</th>\n",
       "      <th>CRSR</th>\n",
       "    </tr>\n",
       "  </thead>\n",
       "  <tbody>\n",
       "    <tr>\n",
       "      <th>0</th>\n",
       "      <td>WSAS02</td>\n",
       "      <td>0.052253</td>\n",
       "      <td>2.201892</td>\n",
       "      <td>1</td>\n",
       "      <td>0</td>\n",
       "      <td>4</td>\n",
       "    </tr>\n",
       "    <tr>\n",
       "      <th>1</th>\n",
       "      <td>WSAS05</td>\n",
       "      <td>0.033583</td>\n",
       "      <td>1.284143</td>\n",
       "      <td>0</td>\n",
       "      <td>1</td>\n",
       "      <td>10</td>\n",
       "    </tr>\n",
       "    <tr>\n",
       "      <th>2</th>\n",
       "      <td>WSAS09</td>\n",
       "      <td>0.122368</td>\n",
       "      <td>1.867642</td>\n",
       "      <td>1</td>\n",
       "      <td>0</td>\n",
       "      <td>4</td>\n",
       "    </tr>\n",
       "    <tr>\n",
       "      <th>3</th>\n",
       "      <td>WSAS10</td>\n",
       "      <td>0.055298</td>\n",
       "      <td>0.936156</td>\n",
       "      <td>0</td>\n",
       "      <td>0</td>\n",
       "      <td>5</td>\n",
       "    </tr>\n",
       "    <tr>\n",
       "      <th>4</th>\n",
       "      <td>WSAS11</td>\n",
       "      <td>0.024191</td>\n",
       "      <td>1.285684</td>\n",
       "      <td>0</td>\n",
       "      <td>0</td>\n",
       "      <td>6</td>\n",
       "    </tr>\n",
       "    <tr>\n",
       "      <th>5</th>\n",
       "      <td>WSAS12</td>\n",
       "      <td>0.039730</td>\n",
       "      <td>0.680283</td>\n",
       "      <td>0</td>\n",
       "      <td>1</td>\n",
       "      <td>11</td>\n",
       "    </tr>\n",
       "    <tr>\n",
       "      <th>6</th>\n",
       "      <td>WSAS13</td>\n",
       "      <td>0.041347</td>\n",
       "      <td>0.958628</td>\n",
       "      <td>0</td>\n",
       "      <td>0</td>\n",
       "      <td>5</td>\n",
       "    </tr>\n",
       "    <tr>\n",
       "      <th>7</th>\n",
       "      <td>WSAS18</td>\n",
       "      <td>0.029963</td>\n",
       "      <td>1.039139</td>\n",
       "      <td>0</td>\n",
       "      <td>0</td>\n",
       "      <td>5</td>\n",
       "    </tr>\n",
       "    <tr>\n",
       "      <th>8</th>\n",
       "      <td>WSAS19</td>\n",
       "      <td>0.100620</td>\n",
       "      <td>1.517578</td>\n",
       "      <td>1</td>\n",
       "      <td>0</td>\n",
       "      <td>0</td>\n",
       "    </tr>\n",
       "    <tr>\n",
       "      <th>9</th>\n",
       "      <td>WSAS20</td>\n",
       "      <td>0.053043</td>\n",
       "      <td>1.771634</td>\n",
       "      <td>1</td>\n",
       "      <td>0</td>\n",
       "      <td>3</td>\n",
       "    </tr>\n",
       "    <tr>\n",
       "      <th>10</th>\n",
       "      <td>WSAS22</td>\n",
       "      <td>0.025602</td>\n",
       "      <td>1.482151</td>\n",
       "      <td>0</td>\n",
       "      <td>0</td>\n",
       "      <td>5</td>\n",
       "    </tr>\n",
       "  </tbody>\n",
       "</table>\n",
       "</div>"
      ],
      "text/plain": [
       "        ID      dPLI       Hub  Outcome  Diagnose  CRSR\n",
       "0   WSAS02  0.052253  2.201892        1         0     4\n",
       "1   WSAS05  0.033583  1.284143        0         1    10\n",
       "2   WSAS09  0.122368  1.867642        1         0     4\n",
       "3   WSAS10  0.055298  0.936156        0         0     5\n",
       "4   WSAS11  0.024191  1.285684        0         0     6\n",
       "5   WSAS12  0.039730  0.680283        0         1    11\n",
       "6   WSAS13  0.041347  0.958628        0         0     5\n",
       "7   WSAS18  0.029963  1.039139        0         0     5\n",
       "8   WSAS19  0.100620  1.517578        1         0     0\n",
       "9   WSAS20  0.053043  1.771634        1         0     3\n",
       "10  WSAS22  0.025602  1.482151        0         0     5"
      ]
     },
     "execution_count": 117,
     "metadata": {},
     "output_type": "execute_result"
    }
   ],
   "source": [
    "data"
   ]
  },
  {
   "cell_type": "code",
   "execution_count": 118,
   "metadata": {},
   "outputs": [
    {
     "data": {
      "text/plain": [
       "Text(0.5, 1.0, 'dPLI for recovered 1 and nonrecovered 0 ')"
      ]
     },
     "execution_count": 118,
     "metadata": {},
     "output_type": "execute_result"
    },
    {
     "data": {
      "image/png": "[encoded data removed]",
      "text/plain": [
       "<Figure size 432x288 with 1 Axes>"
      ]
     },
     "metadata": {
      "needs_background": "light"
     },
     "output_type": "display_data"
    }
   ],
   "source": [
    "import seaborn as sns\n",
    "ax = sns.boxplot(x=\"Outcome\", y=\"dPLI\", data=data)\n",
    "sns.swarmplot(x=\"Outcome\", y=\"dPLI\", data=data, color=\".25\", size = 6)\n",
    "ax.set_title('dPLI for recovered 1 and nonrecovered 0 ')"
   ]
  },
  {
   "cell_type": "code",
   "execution_count": 119,
   "metadata": {},
   "outputs": [
    {
     "data": {
      "text/plain": [
       "Text(0.5, 1.0, 'Hub for recovered 1 and nonrecovered 0 ')"
      ]
     },
     "execution_count": 119,
     "metadata": {},
     "output_type": "execute_result"
    },
    {
     "data": {
      "image/png": "[encoded data removed]",
      "text/plain": [
       "<Figure size 432x288 with 1 Axes>"
      ]
     },
     "metadata": {
      "needs_background": "light"
     },
     "output_type": "display_data"
    }
   ],
   "source": [
    "import seaborn as sns\n",
    "ax = sns.boxplot(x=\"Outcome\", y=\"Hub\", data=data)\n",
    "sns.swarmplot(x=\"Outcome\", y=\"Hub\", data=data,color=\".25\",size = 6)\n",
    "ax.set_title('Hub for recovered 1 and nonrecovered 0 ')"
   ]
  },
  {
   "cell_type": "code",
   "execution_count": 120,
   "metadata": {},
   "outputs": [
    {
     "data": {
      "text/plain": [
       "Text(0.5, 1.0, 'Hub for recovered 1 and nonrecovered 0 ')"
      ]
     },
     "execution_count": 120,
     "metadata": {},
     "output_type": "execute_result"
    },
    {
     "data": {
      "image/png": "[encoded data removed]",
      "text/plain": [
       "<Figure size 432x288 with 1 Axes>"
      ]
     },
     "metadata": {
      "needs_background": "light"
     },
     "output_type": "display_data"
    }
   ],
   "source": [
    "ax = sns.swarmplot(x=\"CRSR\", y=\"Hub\", data=data, hue =\"Outcome\",dodge=True,size=8)\n",
    "ax.set_title('Hub for recovered 1 and nonrecovered 0 ')\n"
   ]
  },
  {
   "cell_type": "code",
   "execution_count": 121,
   "metadata": {},
   "outputs": [
    {
     "data": {
      "text/plain": [
       "Text(0.5, 1.0, 'dPLI and CRsr for recovered 1 and nonrecovered 0 ')"
      ]
     },
     "execution_count": 121,
     "metadata": {},
     "output_type": "execute_result"
    },
    {
     "data": {
      "image/png": "[encoded data removed]",
      "text/plain": [
       "<Figure size 432x288 with 1 Axes>"
      ]
     },
     "metadata": {
      "needs_background": "light"
     },
     "output_type": "display_data"
    }
   ],
   "source": [
    "ax = sns.swarmplot(x=\"CRSR\", y=\"dPLI\", data=data, hue =\"Outcome\",dodge=True,size=8)\n",
    "ax.set_title('dPLI and CRsr for recovered 1 and nonrecovered 0 ')\n"
   ]
  },
  {
   "cell_type": "code",
   "execution_count": 122,
   "metadata": {},
   "outputs": [],
   "source": [
    "X = data[['dPLI','Hub']]\n",
    "scaler = preprocessing.StandardScaler()\n",
    "X_stand = pd.DataFrame(scaler.fit_transform(X))\n",
    "X_stand.columns=X.columns\n"
   ]
  },
  {
   "cell_type": "code",
   "execution_count": 123,
   "metadata": {},
   "outputs": [
    {
     "data": {
      "text/html": [
       "<div>\n",
       "<style scoped>\n",
       "    .dataframe tbody tr th:only-of-type {\n",
       "        vertical-align: middle;\n",
       "    }\n",
       "\n",
       "    .dataframe tbody tr th {\n",
       "        vertical-align: top;\n",
       "    }\n",
       "\n",
       "    .dataframe thead th {\n",
       "        text-align: right;\n",
       "    }\n",
       "</style>\n",
       "<table border=\"1\" class=\"dataframe\">\n",
       "  <thead>\n",
       "    <tr style=\"text-align: right;\">\n",
       "      <th></th>\n",
       "      <th>ID</th>\n",
       "      <th>dPLI</th>\n",
       "      <th>Hub</th>\n",
       "      <th>Outcome</th>\n",
       "      <th>Diagnose</th>\n",
       "      <th>CRSR</th>\n",
       "      <th>ARI</th>\n",
       "    </tr>\n",
       "  </thead>\n",
       "  <tbody>\n",
       "    <tr>\n",
       "      <th>0</th>\n",
       "      <td>WSAS02</td>\n",
       "      <td>-0.009751</td>\n",
       "      <td>1.916846</td>\n",
       "      <td>1</td>\n",
       "      <td>0</td>\n",
       "      <td>4</td>\n",
       "      <td>1.907094</td>\n",
       "    </tr>\n",
       "    <tr>\n",
       "      <th>1</th>\n",
       "      <td>WSAS05</td>\n",
       "      <td>-0.632616</td>\n",
       "      <td>-0.187467</td>\n",
       "      <td>0</td>\n",
       "      <td>1</td>\n",
       "      <td>10</td>\n",
       "      <td>-0.820083</td>\n",
       "    </tr>\n",
       "    <tr>\n",
       "      <th>2</th>\n",
       "      <td>WSAS09</td>\n",
       "      <td>2.329378</td>\n",
       "      <td>1.150441</td>\n",
       "      <td>1</td>\n",
       "      <td>0</td>\n",
       "      <td>4</td>\n",
       "      <td>3.479819</td>\n",
       "    </tr>\n",
       "    <tr>\n",
       "      <th>3</th>\n",
       "      <td>WSAS10</td>\n",
       "      <td>0.091848</td>\n",
       "      <td>-0.985369</td>\n",
       "      <td>0</td>\n",
       "      <td>0</td>\n",
       "      <td>5</td>\n",
       "      <td>-0.893521</td>\n",
       "    </tr>\n",
       "    <tr>\n",
       "      <th>4</th>\n",
       "      <td>WSAS11</td>\n",
       "      <td>-0.945929</td>\n",
       "      <td>-0.183933</td>\n",
       "      <td>0</td>\n",
       "      <td>0</td>\n",
       "      <td>6</td>\n",
       "      <td>-1.129862</td>\n",
       "    </tr>\n",
       "    <tr>\n",
       "      <th>5</th>\n",
       "      <td>WSAS12</td>\n",
       "      <td>-0.427533</td>\n",
       "      <td>-1.572062</td>\n",
       "      <td>0</td>\n",
       "      <td>1</td>\n",
       "      <td>11</td>\n",
       "      <td>-1.999595</td>\n",
       "    </tr>\n",
       "    <tr>\n",
       "      <th>6</th>\n",
       "      <td>WSAS13</td>\n",
       "      <td>-0.373585</td>\n",
       "      <td>-0.933843</td>\n",
       "      <td>0</td>\n",
       "      <td>0</td>\n",
       "      <td>5</td>\n",
       "      <td>-1.307428</td>\n",
       "    </tr>\n",
       "    <tr>\n",
       "      <th>7</th>\n",
       "      <td>WSAS18</td>\n",
       "      <td>-0.753370</td>\n",
       "      <td>-0.749239</td>\n",
       "      <td>0</td>\n",
       "      <td>0</td>\n",
       "      <td>5</td>\n",
       "      <td>-1.502608</td>\n",
       "    </tr>\n",
       "    <tr>\n",
       "      <th>8</th>\n",
       "      <td>WSAS19</td>\n",
       "      <td>1.603845</td>\n",
       "      <td>0.347776</td>\n",
       "      <td>1</td>\n",
       "      <td>0</td>\n",
       "      <td>0</td>\n",
       "      <td>1.951621</td>\n",
       "    </tr>\n",
       "    <tr>\n",
       "      <th>9</th>\n",
       "      <td>WSAS20</td>\n",
       "      <td>0.016587</td>\n",
       "      <td>0.930303</td>\n",
       "      <td>1</td>\n",
       "      <td>0</td>\n",
       "      <td>3</td>\n",
       "      <td>0.946890</td>\n",
       "    </tr>\n",
       "    <tr>\n",
       "      <th>10</th>\n",
       "      <td>WSAS22</td>\n",
       "      <td>-0.898874</td>\n",
       "      <td>0.266547</td>\n",
       "      <td>0</td>\n",
       "      <td>0</td>\n",
       "      <td>5</td>\n",
       "      <td>-0.632327</td>\n",
       "    </tr>\n",
       "  </tbody>\n",
       "</table>\n",
       "</div>"
      ],
      "text/plain": [
       "        ID      dPLI       Hub  Outcome  Diagnose  CRSR       ARI\n",
       "0   WSAS02 -0.009751  1.916846        1         0     4  1.907094\n",
       "1   WSAS05 -0.632616 -0.187467        0         1    10 -0.820083\n",
       "2   WSAS09  2.329378  1.150441        1         0     4  3.479819\n",
       "3   WSAS10  0.091848 -0.985369        0         0     5 -0.893521\n",
       "4   WSAS11 -0.945929 -0.183933        0         0     6 -1.129862\n",
       "5   WSAS12 -0.427533 -1.572062        0         1    11 -1.999595\n",
       "6   WSAS13 -0.373585 -0.933843        0         0     5 -1.307428\n",
       "7   WSAS18 -0.753370 -0.749239        0         0     5 -1.502608\n",
       "8   WSAS19  1.603845  0.347776        1         0     0  1.951621\n",
       "9   WSAS20  0.016587  0.930303        1         0     3  0.946890\n",
       "10  WSAS22 -0.898874  0.266547        0         0     5 -0.632327"
      ]
     },
     "execution_count": 123,
     "metadata": {},
     "output_type": "execute_result"
    }
   ],
   "source": [
    "data_stand = data.copy()\n",
    "data_stand['Hub']= X_stand['Hub'].copy()\n",
    "data_stand['dPLI']= X_stand['dPLI'].copy()\n",
    "data_stand['ARI']=data_stand['dPLI']+data_stand['Hub']\n",
    "data_stand"
   ]
  },
  {
   "cell_type": "code",
   "execution_count": 124,
   "metadata": {},
   "outputs": [
    {
     "data": {
      "text/plain": [
       "Text(0.5, 1.0, 'ARI and CRsr for recovered 1 and nonrecovered 0 ')"
      ]
     },
     "execution_count": 124,
     "metadata": {},
     "output_type": "execute_result"
    },
    {
     "data": {
      "image/png": "[encoded data removed]",
      "text/plain": [
       "<Figure size 432x288 with 1 Axes>"
      ]
     },
     "metadata": {
      "needs_background": "light"
     },
     "output_type": "display_data"
    }
   ],
   "source": [
    "ax = sns.swarmplot(x=\"CRSR\", y=\"ARI\", data=data_stand, hue =\"Outcome\",dodge=True,size=8)\n",
    "ax.set_title('ARI and CRsr for recovered 1 and nonrecovered 0 ')\n"
   ]
  },
  {
   "cell_type": "code",
   "execution_count": 128,
   "metadata": {},
   "outputs": [
    {
     "data": {
      "text/html": [
       "<div>\n",
       "<style scoped>\n",
       "    .dataframe tbody tr th:only-of-type {\n",
       "        vertical-align: middle;\n",
       "    }\n",
       "\n",
       "    .dataframe tbody tr th {\n",
       "        vertical-align: top;\n",
       "    }\n",
       "\n",
       "    .dataframe thead th {\n",
       "        text-align: right;\n",
       "    }\n",
       "</style>\n",
       "<table border=\"1\" class=\"dataframe\">\n",
       "  <thead>\n",
       "    <tr style=\"text-align: right;\">\n",
       "      <th></th>\n",
       "      <th>index</th>\n",
       "      <th>ID</th>\n",
       "      <th>dPLI</th>\n",
       "      <th>Hub</th>\n",
       "      <th>Outcome</th>\n",
       "      <th>Diagnose</th>\n",
       "      <th>CRSR</th>\n",
       "      <th>ARI</th>\n",
       "    </tr>\n",
       "  </thead>\n",
       "  <tbody>\n",
       "    <tr>\n",
       "      <th>0</th>\n",
       "      <td>0</td>\n",
       "      <td>WSAS02</td>\n",
       "      <td>-0.009751</td>\n",
       "      <td>1.916846</td>\n",
       "      <td>1</td>\n",
       "      <td>0</td>\n",
       "      <td>4</td>\n",
       "      <td>1.907094</td>\n",
       "    </tr>\n",
       "    <tr>\n",
       "      <th>1</th>\n",
       "      <td>1</td>\n",
       "      <td>WSAS05</td>\n",
       "      <td>-0.632616</td>\n",
       "      <td>-0.187467</td>\n",
       "      <td>0</td>\n",
       "      <td>1</td>\n",
       "      <td>10</td>\n",
       "      <td>-0.820083</td>\n",
       "    </tr>\n",
       "    <tr>\n",
       "      <th>2</th>\n",
       "      <td>2</td>\n",
       "      <td>WSAS09</td>\n",
       "      <td>2.329378</td>\n",
       "      <td>1.150441</td>\n",
       "      <td>1</td>\n",
       "      <td>0</td>\n",
       "      <td>4</td>\n",
       "      <td>3.479819</td>\n",
       "    </tr>\n",
       "    <tr>\n",
       "      <th>3</th>\n",
       "      <td>3</td>\n",
       "      <td>WSAS10</td>\n",
       "      <td>0.091848</td>\n",
       "      <td>-0.985369</td>\n",
       "      <td>0</td>\n",
       "      <td>0</td>\n",
       "      <td>5</td>\n",
       "      <td>-0.893521</td>\n",
       "    </tr>\n",
       "    <tr>\n",
       "      <th>4</th>\n",
       "      <td>4</td>\n",
       "      <td>WSAS11</td>\n",
       "      <td>-0.945929</td>\n",
       "      <td>-0.183933</td>\n",
       "      <td>0</td>\n",
       "      <td>0</td>\n",
       "      <td>6</td>\n",
       "      <td>-1.129862</td>\n",
       "    </tr>\n",
       "    <tr>\n",
       "      <th>5</th>\n",
       "      <td>5</td>\n",
       "      <td>WSAS12</td>\n",
       "      <td>-0.427533</td>\n",
       "      <td>-1.572062</td>\n",
       "      <td>0</td>\n",
       "      <td>1</td>\n",
       "      <td>11</td>\n",
       "      <td>-1.999595</td>\n",
       "    </tr>\n",
       "    <tr>\n",
       "      <th>6</th>\n",
       "      <td>6</td>\n",
       "      <td>WSAS13</td>\n",
       "      <td>-0.373585</td>\n",
       "      <td>-0.933843</td>\n",
       "      <td>0</td>\n",
       "      <td>0</td>\n",
       "      <td>5</td>\n",
       "      <td>-1.307428</td>\n",
       "    </tr>\n",
       "    <tr>\n",
       "      <th>7</th>\n",
       "      <td>7</td>\n",
       "      <td>WSAS18</td>\n",
       "      <td>-0.753370</td>\n",
       "      <td>-0.749239</td>\n",
       "      <td>0</td>\n",
       "      <td>0</td>\n",
       "      <td>5</td>\n",
       "      <td>-1.502608</td>\n",
       "    </tr>\n",
       "    <tr>\n",
       "      <th>8</th>\n",
       "      <td>9</td>\n",
       "      <td>WSAS20</td>\n",
       "      <td>0.016587</td>\n",
       "      <td>0.930303</td>\n",
       "      <td>1</td>\n",
       "      <td>0</td>\n",
       "      <td>3</td>\n",
       "      <td>0.946890</td>\n",
       "    </tr>\n",
       "    <tr>\n",
       "      <th>9</th>\n",
       "      <td>10</td>\n",
       "      <td>WSAS22</td>\n",
       "      <td>-0.898874</td>\n",
       "      <td>0.266547</td>\n",
       "      <td>0</td>\n",
       "      <td>0</td>\n",
       "      <td>5</td>\n",
       "      <td>-0.632327</td>\n",
       "    </tr>\n",
       "  </tbody>\n",
       "</table>\n",
       "</div>"
      ],
      "text/plain": [
       "   index      ID      dPLI       Hub  Outcome  Diagnose  CRSR       ARI\n",
       "0      0  WSAS02 -0.009751  1.916846        1         0     4  1.907094\n",
       "1      1  WSAS05 -0.632616 -0.187467        0         1    10 -0.820083\n",
       "2      2  WSAS09  2.329378  1.150441        1         0     4  3.479819\n",
       "3      3  WSAS10  0.091848 -0.985369        0         0     5 -0.893521\n",
       "4      4  WSAS11 -0.945929 -0.183933        0         0     6 -1.129862\n",
       "5      5  WSAS12 -0.427533 -1.572062        0         1    11 -1.999595\n",
       "6      6  WSAS13 -0.373585 -0.933843        0         0     5 -1.307428\n",
       "7      7  WSAS18 -0.753370 -0.749239        0         0     5 -1.502608\n",
       "8      9  WSAS20  0.016587  0.930303        1         0     3  0.946890\n",
       "9     10  WSAS22 -0.898874  0.266547        0         0     5 -0.632327"
      ]
     },
     "execution_count": 128,
     "metadata": {},
     "output_type": "execute_result"
    }
   ],
   "source": [
    "# remove WSAS 19\n",
    "data_stand = data_stand.query(\"ID != 'WSAS19'\")\n",
    "data_stand = data_stand.reset_index()\n",
    "data_stand"
   ]
  },
  {
   "cell_type": "code",
   "execution_count": 130,
   "metadata": {},
   "outputs": [],
   "source": [
    "X_stand = data_stand[['dPLI','Hub']]\n",
    "Y = data_stand['Outcome']"
   ]
  },
  {
   "cell_type": "markdown",
   "metadata": {},
   "source": [
    "## Perform Logistic Regression"
   ]
  },
  {
   "cell_type": "code",
   "execution_count": 131,
   "metadata": {},
   "outputs": [
    {
     "name": "stderr",
     "output_type": "stream",
     "text": [
      "C:\\Users\\User\\Anaconda3\\lib\\site-packages\\sklearn\\linear_model\\logistic.py:432: FutureWarning: Default solver will be changed to 'lbfgs' in 0.22. Specify a solver to silence this warning.\n",
      "  FutureWarning)\n"
     ]
    }
   ],
   "source": [
    "from sklearn.linear_model import LogisticRegression\n",
    "clf = LogisticRegression(random_state=0).fit(X_stand, Y)\n"
   ]
  },
  {
   "cell_type": "code",
   "execution_count": 132,
   "metadata": {},
   "outputs": [
    {
     "data": {
      "text/plain": [
       "1.0"
      ]
     },
     "execution_count": 132,
     "metadata": {},
     "output_type": "execute_result"
    }
   ],
   "source": [
    "pred = clf.predict(X_stand)\n",
    "pred\n",
    "clf.score(X_stand, pred)\n",
    "#clf.score(pred, data['Outcome'])"
   ]
  },
  {
   "cell_type": "code",
   "execution_count": 133,
   "metadata": {},
   "outputs": [
    {
     "data": {
      "text/plain": [
       "10"
      ]
     },
     "execution_count": 133,
     "metadata": {},
     "output_type": "execute_result"
    }
   ],
   "source": [
    "from sklearn.model_selection import LeaveOneOut\n",
    "loo = LeaveOneOut()\n",
    "loo.get_n_splits(X)"
   ]
  },
  {
   "cell_type": "code",
   "execution_count": 135,
   "metadata": {},
   "outputs": [
    {
     "name": "stdout",
     "output_type": "stream",
     "text": [
      "TRAIN: [1 2 3 4 5 6 7 8 9] TEST: [0]\n",
      "LOSO Accuracy:   1.0\n",
      "TRAIN: [0 2 3 4 5 6 7 8 9] TEST: [1]\n",
      "LOSO Accuracy:   1.0\n",
      "TRAIN: [0 1 3 4 5 6 7 8 9] TEST: [2]\n",
      "LOSO Accuracy:   1.0\n",
      "TRAIN: [0 1 2 4 5 6 7 8 9] TEST: [3]\n",
      "LOSO Accuracy:   1.0\n",
      "TRAIN: [0 1 2 3 5 6 7 8 9] TEST: [4]\n",
      "LOSO Accuracy:   1.0\n",
      "TRAIN: [0 1 2 3 4 6 7 8 9] TEST: [5]\n",
      "LOSO Accuracy:   1.0\n",
      "TRAIN: [0 1 2 3 4 5 7 8 9] TEST: [6]\n",
      "LOSO Accuracy:   1.0\n",
      "TRAIN: [0 1 2 3 4 5 6 8 9] TEST: [7]\n",
      "LOSO Accuracy:   1.0\n",
      "TRAIN: [0 1 2 3 4 5 6 7 9] TEST: [8]\n",
      "LOSO Accuracy:   1.0\n",
      "TRAIN: [0 1 2 3 4 5 6 7 8] TEST: [9]\n",
      "LOSO Accuracy:   1.0\n"
     ]
    },
    {
     "name": "stderr",
     "output_type": "stream",
     "text": [
      "C:\\Users\\User\\Anaconda3\\lib\\site-packages\\sklearn\\linear_model\\logistic.py:432: FutureWarning: Default solver will be changed to 'lbfgs' in 0.22. Specify a solver to silence this warning.\n",
      "  FutureWarning)\n",
      "C:\\Users\\User\\Anaconda3\\lib\\site-packages\\sklearn\\linear_model\\logistic.py:432: FutureWarning: Default solver will be changed to 'lbfgs' in 0.22. Specify a solver to silence this warning.\n",
      "  FutureWarning)\n",
      "C:\\Users\\User\\Anaconda3\\lib\\site-packages\\sklearn\\linear_model\\logistic.py:432: FutureWarning: Default solver will be changed to 'lbfgs' in 0.22. Specify a solver to silence this warning.\n",
      "  FutureWarning)\n",
      "C:\\Users\\User\\Anaconda3\\lib\\site-packages\\sklearn\\linear_model\\logistic.py:432: FutureWarning: Default solver will be changed to 'lbfgs' in 0.22. Specify a solver to silence this warning.\n",
      "  FutureWarning)\n",
      "C:\\Users\\User\\Anaconda3\\lib\\site-packages\\sklearn\\linear_model\\logistic.py:432: FutureWarning: Default solver will be changed to 'lbfgs' in 0.22. Specify a solver to silence this warning.\n",
      "  FutureWarning)\n",
      "C:\\Users\\User\\Anaconda3\\lib\\site-packages\\sklearn\\linear_model\\logistic.py:432: FutureWarning: Default solver will be changed to 'lbfgs' in 0.22. Specify a solver to silence this warning.\n",
      "  FutureWarning)\n",
      "C:\\Users\\User\\Anaconda3\\lib\\site-packages\\sklearn\\linear_model\\logistic.py:432: FutureWarning: Default solver will be changed to 'lbfgs' in 0.22. Specify a solver to silence this warning.\n",
      "  FutureWarning)\n",
      "C:\\Users\\User\\Anaconda3\\lib\\site-packages\\sklearn\\linear_model\\logistic.py:432: FutureWarning: Default solver will be changed to 'lbfgs' in 0.22. Specify a solver to silence this warning.\n",
      "  FutureWarning)\n",
      "C:\\Users\\User\\Anaconda3\\lib\\site-packages\\sklearn\\linear_model\\logistic.py:432: FutureWarning: Default solver will be changed to 'lbfgs' in 0.22. Specify a solver to silence this warning.\n",
      "  FutureWarning)\n",
      "C:\\Users\\User\\Anaconda3\\lib\\site-packages\\sklearn\\linear_model\\logistic.py:432: FutureWarning: Default solver will be changed to 'lbfgs' in 0.22. Specify a solver to silence this warning.\n",
      "  FutureWarning)\n"
     ]
    }
   ],
   "source": [
    "LOSO_scores = []\n",
    "for train_index, test_index in loo.split(X_stand):\n",
    "    print(\"TRAIN:\", train_index, \"TEST:\", test_index)\n",
    "    X_train, X_test = X_stand.iloc[train_index], X_stand.iloc[test_index]\n",
    "    y_train, y_test = Y[train_index], Y[test_index]\n",
    "    #print(X_train, X_test, y_train, y_test)\n",
    "    clf = LogisticRegression(random_state=0).fit(X_train, y_train)\n",
    "    pred = clf.predict(X_test)\n",
    "    acc = clf.score(X_test, y_test)\n",
    "    print('LOSO Accuracy:  ', acc)\n",
    "    LOSO_scores.append(acc)\n"
   ]
  },
  {
   "cell_type": "code",
   "execution_count": 139,
   "metadata": {},
   "outputs": [
    {
     "data": {
      "image/png": "[encoded data removed]",
      "text/plain": [
       "<Figure size 432x288 with 1 Axes>"
      ]
     },
     "metadata": {
      "needs_background": "light"
     },
     "output_type": "display_data"
    }
   ],
   "source": [
    "# Retrieve the model parameters.\n",
    "b = clf.intercept_[0]\n",
    "w1, w2 = clf.coef_.T\n",
    "# Calculate the intercept and gradient of the decision boundary.\n",
    "c = -b/w2\n",
    "m = -w1/w2\n",
    "\n",
    "# Plot the data and the classification with the decision boundary.\n",
    "xmin, xmax = -1.5, 3\n",
    "ymin, ymax = -1.5, 2.5\n",
    "\n",
    "xd = np.array([xmin, xmax])\n",
    "yd = m*xd + c\n",
    "plt.plot(xd, yd, 'k', lw=1, ls='--')\n",
    "plt.fill_between(xd, yd, ymin, color='tab:blue', alpha=0.2)\n",
    "plt.fill_between(xd, yd, ymax, color='tab:orange', alpha=0.2)\n",
    "\n",
    "plt.scatter(X_stand['dPLI'][Y==0],X_stand['Hub'][Y==0], s = 30)\n",
    "plt.scatter(X_stand['dPLI'][Y==1],X_stand['Hub'][Y==1], s = 30)\n",
    "plt.xlim(xmin, xmax)\n",
    "plt.ylim(ymin, ymax)\n",
    "plt.ylabel('dPLI')\n",
    "plt.xlabel('Hub')\n",
    "\n",
    "plt.show()"
   ]
  },
  {
   "cell_type": "code",
   "execution_count": 143,
   "metadata": {},
   "outputs": [
    {
     "name": "stderr",
     "output_type": "stream",
     "text": [
      "C:\\Users\\User\\Anaconda3\\lib\\site-packages\\sklearn\\linear_model\\logistic.py:432: FutureWarning: Default solver will be changed to 'lbfgs' in 0.22. Specify a solver to silence this warning.\n",
      "  FutureWarning)\n"
     ]
    },
    {
     "data": {
      "image/png": "[encoded data removed]",
      "text/plain": [
       "<Figure size 432x288 with 2 Axes>"
      ]
     },
     "metadata": {
      "needs_background": "light"
     },
     "output_type": "display_data"
    }
   ],
   "source": [
    "fig = plt.figure()\n",
    "# Plot the data and the classification with the decision boundary.\n",
    "xmin, xmax = -1.5, 3.2\n",
    "ymin, ymax = -2, 2.5\n",
    "\n",
    "# define the x and y scale\n",
    "x1grid = np.arange(xmin, xmax, 0.1)\n",
    "x2grid = np.arange(ymin, ymax, 0.1)\n",
    "# create all of the lines and rows of the grid\n",
    "xx, yy = np.meshgrid(x1grid, x2grid)\n",
    "# flatten each grid to a vector\n",
    "r1, r2 = xx.flatten(), yy.flatten()\n",
    "r1, r2 = r1.reshape((len(r1), 1)), r2.reshape((len(r2), 1))\n",
    "\n",
    "# horizontal stack vectors to create x1,x2 input for the model\n",
    "grid = np.hstack((r1,r2))\n",
    "# define the model\n",
    "model = LogisticRegression()\n",
    "# fit the model\n",
    "model.fit(X_stand, Y)\n",
    "# make predictions for the grid\n",
    "yhat = model.predict_proba(grid)\n",
    "# keep just the probabilities for class 0\n",
    "yhat = yhat[:, 0]\n",
    "# reshape the predictions back into a grid\n",
    "zz = yhat.reshape(xx.shape)*100\n",
    "# plot the grid of x, y and z values as a surface\n",
    "c = plt.contourf(xx, yy, zz, cmap='RdBu',alpha= 0.3)\n",
    "# add a legend, called a color bar\n",
    "plt.colorbar(c)\n",
    "# create scatter plot for samples from each class\n",
    "\n",
    "# create scatter of these samples\n",
    "plt.scatter(X_stand['dPLI'][Y == 0], X_stand['Hub'][Y == 0], color = 'Blue',s = 50)\n",
    "plt.scatter(X_stand['dPLI'][Y == 1], X_stand['Hub'][Y == 1], color = 'Red',s = 50)\n",
    "\n",
    "# show the plot\n",
    "plt.show()"
   ]
  }
 ],
 "metadata": {
  "colab": {
   "collapsed_sections": [],
   "name": "K-Means_dPLI_Hub_SET-1&2.ipynb",
   "provenance": []
  },
  "kernelspec": {
   "display_name": "Python 3",
   "language": "python",
   "name": "python3"
  },
  "language_info": {
   "codemirror_mode": {
    "name": "ipython",
    "version": 3
   },
   "file_extension": ".py",
   "mimetype": "text/x-python",
   "name": "python",
   "nbconvert_exporter": "python",
   "pygments_lexer": "ipython3",
   "version": "3.7.3"
  }
 },
 "nbformat": 4,
 "nbformat_minor": 1
}
