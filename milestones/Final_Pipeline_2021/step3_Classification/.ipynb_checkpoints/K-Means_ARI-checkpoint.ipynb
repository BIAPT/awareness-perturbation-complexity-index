{
 "cells": [
  {
   "cell_type": "markdown",
   "metadata": {
    "colab_type": "text",
    "id": "YeZEquknWQKL"
   },
   "source": [
    "**K-Means** **clustering** "
   ]
  },
  {
   "cell_type": "code",
   "execution_count": 1,
   "metadata": {
    "colab": {},
    "colab_type": "code",
    "executionInfo": {
     "elapsed": 1036,
     "status": "ok",
     "timestamp": 1597432079387,
     "user": {
      "displayName": "lotte o",
      "photoUrl": "",
      "userId": "09078078803801089148"
     },
     "user_tz": 240
    },
    "id": "fLSO0VYJZYUj"
   },
   "outputs": [],
   "source": [
    "#  import some packages\n",
    "import pandas as pd\n",
    "import numpy as np\n",
    "import matplotlib.pyplot as plt\n",
    "from sklearn.cluster import KMeans\n",
    "from sklearn import preprocessing\n",
    "from sklearn.metrics import accuracy_score\n"
   ]
  },
  {
   "cell_type": "markdown",
   "metadata": {
    "colab_type": "text",
    "id": "0dMJpe-WWgJ9"
   },
   "source": [
    "#  Dataset ONE and TWO"
   ]
  },
  {
   "cell_type": "code",
   "execution_count": 2,
   "metadata": {},
   "outputs": [
    {
     "name": "stderr",
     "output_type": "stream",
     "text": [
      "C:\\Users\\User\\Anaconda3\\lib\\site-packages\\ipykernel_launcher.py:1: FutureWarning: read_table is deprecated, use read_csv instead.\n",
      "  \"\"\"Entry point for launching an IPython kernel.\n"
     ]
    }
   ],
   "source": [
    "data = pd.read_table('ARI_reduced.txt',sep = ',')"
   ]
  },
  {
   "cell_type": "code",
   "execution_count": 3,
   "metadata": {},
   "outputs": [
    {
     "data": {
      "text/html": [
       "<div>\n",
       "<style scoped>\n",
       "    .dataframe tbody tr th:only-of-type {\n",
       "        vertical-align: middle;\n",
       "    }\n",
       "\n",
       "    .dataframe tbody tr th {\n",
       "        vertical-align: top;\n",
       "    }\n",
       "\n",
       "    .dataframe thead th {\n",
       "        text-align: right;\n",
       "    }\n",
       "</style>\n",
       "<table border=\"1\" class=\"dataframe\">\n",
       "  <thead>\n",
       "    <tr style=\"text-align: right;\">\n",
       "      <th></th>\n",
       "      <th>ID</th>\n",
       "      <th>dPLI</th>\n",
       "      <th>Hub</th>\n",
       "    </tr>\n",
       "  </thead>\n",
       "  <tbody>\n",
       "    <tr>\n",
       "      <th>0</th>\n",
       "      <td>WSAS02</td>\n",
       "      <td>0.058498</td>\n",
       "      <td>2.193022</td>\n",
       "    </tr>\n",
       "    <tr>\n",
       "      <th>1</th>\n",
       "      <td>WSAS05</td>\n",
       "      <td>0.026443</td>\n",
       "      <td>1.186783</td>\n",
       "    </tr>\n",
       "    <tr>\n",
       "      <th>2</th>\n",
       "      <td>WSAS09</td>\n",
       "      <td>0.149108</td>\n",
       "      <td>1.780670</td>\n",
       "    </tr>\n",
       "    <tr>\n",
       "      <th>3</th>\n",
       "      <td>WSAS10</td>\n",
       "      <td>0.064347</td>\n",
       "      <td>0.780469</td>\n",
       "    </tr>\n",
       "    <tr>\n",
       "      <th>4</th>\n",
       "      <td>WSAS11</td>\n",
       "      <td>0.028571</td>\n",
       "      <td>1.249950</td>\n",
       "    </tr>\n",
       "    <tr>\n",
       "      <th>5</th>\n",
       "      <td>WSAS12</td>\n",
       "      <td>0.038568</td>\n",
       "      <td>0.924782</td>\n",
       "    </tr>\n",
       "    <tr>\n",
       "      <th>6</th>\n",
       "      <td>WSAS13</td>\n",
       "      <td>0.036793</td>\n",
       "      <td>0.463616</td>\n",
       "    </tr>\n",
       "    <tr>\n",
       "      <th>7</th>\n",
       "      <td>WSAS18</td>\n",
       "      <td>0.024797</td>\n",
       "      <td>0.792147</td>\n",
       "    </tr>\n",
       "    <tr>\n",
       "      <th>8</th>\n",
       "      <td>WSAS19</td>\n",
       "      <td>0.129391</td>\n",
       "      <td>1.157935</td>\n",
       "    </tr>\n",
       "    <tr>\n",
       "      <th>9</th>\n",
       "      <td>WSAS20</td>\n",
       "      <td>0.062986</td>\n",
       "      <td>1.875000</td>\n",
       "    </tr>\n",
       "    <tr>\n",
       "      <th>10</th>\n",
       "      <td>WSAS22</td>\n",
       "      <td>0.028161</td>\n",
       "      <td>1.536514</td>\n",
       "    </tr>\n",
       "  </tbody>\n",
       "</table>\n",
       "</div>"
      ],
      "text/plain": [
       "        ID      dPLI       Hub\n",
       "0   WSAS02  0.058498  2.193022\n",
       "1   WSAS05  0.026443  1.186783\n",
       "2   WSAS09  0.149108  1.780670\n",
       "3   WSAS10  0.064347  0.780469\n",
       "4   WSAS11  0.028571  1.249950\n",
       "5   WSAS12  0.038568  0.924782\n",
       "6   WSAS13  0.036793  0.463616\n",
       "7   WSAS18  0.024797  0.792147\n",
       "8   WSAS19  0.129391  1.157935\n",
       "9   WSAS20  0.062986  1.875000\n",
       "10  WSAS22  0.028161  1.536514"
      ]
     },
     "execution_count": 3,
     "metadata": {},
     "output_type": "execute_result"
    }
   ],
   "source": [
    "data"
   ]
  },
  {
   "cell_type": "code",
   "execution_count": 4,
   "metadata": {
    "colab": {},
    "colab_type": "code",
    "executionInfo": {
     "elapsed": 1032,
     "status": "ok",
     "timestamp": 1597432079392,
     "user": {
      "displayName": "lotte o",
      "photoUrl": "",
      "userId": "09078078803801089148"
     },
     "user_tz": 240
    },
    "id": "64RSzTf1WPeJ"
   },
   "outputs": [],
   "source": [
    "ID=data['ID']"
   ]
  },
  {
   "cell_type": "code",
   "execution_count": 5,
   "metadata": {
    "colab": {},
    "colab_type": "code",
    "executionInfo": {
     "elapsed": 1030,
     "status": "ok",
     "timestamp": 1597432079395,
     "user": {
      "displayName": "lotte o",
      "photoUrl": "",
      "userId": "09078078803801089148"
     },
     "user_tz": 240
    },
    "id": "c1tv2dv4Xe5R"
   },
   "outputs": [],
   "source": [
    "dPLI=data['dPLI']"
   ]
  },
  {
   "cell_type": "code",
   "execution_count": 6,
   "metadata": {
    "colab": {},
    "colab_type": "code",
    "executionInfo": {
     "elapsed": 1029,
     "status": "ok",
     "timestamp": 1597432079398,
     "user": {
      "displayName": "lotte o",
      "photoUrl": "",
      "userId": "09078078803801089148"
     },
     "user_tz": 240
    },
    "id": "UTM8CDf9YQTt"
   },
   "outputs": [],
   "source": [
    "Hub=data['Hub']"
   ]
  },
  {
   "cell_type": "code",
   "execution_count": 7,
   "metadata": {
    "colab": {},
    "colab_type": "code",
    "executionInfo": {
     "elapsed": 1025,
     "status": "ok",
     "timestamp": 1597432079400,
     "user": {
      "displayName": "lotte o",
      "photoUrl": "",
      "userId": "09078078803801089148"
     },
     "user_tz": 240
    },
    "id": "ZOGoXmPnZRd5"
   },
   "outputs": [],
   "source": [
    "Outcome=[1,0,1,0,0,0,0,0,1,1,0]"
   ]
  },
  {
   "cell_type": "code",
   "execution_count": 8,
   "metadata": {
    "colab": {},
    "colab_type": "code",
    "executionInfo": {
     "elapsed": 1023,
     "status": "ok",
     "timestamp": 1597432079402,
     "user": {
      "displayName": "lotte o",
      "photoUrl": "",
      "userId": "09078078803801089148"
     },
     "user_tz": 240
    },
    "id": "en6A9O8I2tcE"
   },
   "outputs": [],
   "source": [
    "Diagnose=[0,1,0,0,0,1,0,0,0,0,0]"
   ]
  },
  {
   "cell_type": "code",
   "execution_count": 9,
   "metadata": {
    "colab": {},
    "colab_type": "code",
    "executionInfo": {
     "elapsed": 1020,
     "status": "ok",
     "timestamp": 1597432079404,
     "user": {
      "displayName": "lotte o",
      "photoUrl": "",
      "userId": "09078078803801089148"
     },
     "user_tz": 240
    },
    "id": "cebIqcauZWHv"
   },
   "outputs": [],
   "source": [
    "data= np.stack((ID, dPLI, Hub, Outcome,Diagnose),axis=1)"
   ]
  },
  {
   "cell_type": "markdown",
   "metadata": {
    "colab_type": "text",
    "id": "guqrqhyJve7g"
   },
   "source": [
    "I need to adapt the dataformat here into float and ineger (otherwise the numbers will be represented as a category)"
   ]
  },
  {
   "cell_type": "code",
   "execution_count": 10,
   "metadata": {
    "colab": {},
    "colab_type": "code",
    "executionInfo": {
     "elapsed": 1017,
     "status": "ok",
     "timestamp": 1597432079406,
     "user": {
      "displayName": "lotte o",
      "photoUrl": "",
      "userId": "09078078803801089148"
     },
     "user_tz": 240
    },
    "id": "ksWIQR_lZnAB"
   },
   "outputs": [],
   "source": [
    "data=pd.DataFrame(data)\n",
    "data.columns=['ID','dPLI','Hub','Outcome','Diagnose']\n",
    "data['dPLI']=data['dPLI'].astype(float)\n",
    "data['Hub']=data['Hub'].astype(float)\n",
    "data['Outcome']=data['Outcome'].astype(int)\n",
    "data['Diagnose']=data['Diagnose'].astype(int)\n"
   ]
  },
  {
   "cell_type": "markdown",
   "metadata": {
    "colab_type": "text",
    "id": "PeolhGnSvryT"
   },
   "source": [
    "This is how the data looks like"
   ]
  },
  {
   "cell_type": "code",
   "execution_count": 11,
   "metadata": {
    "colab": {
     "base_uri": "https://localhost:8080/",
     "height": 386
    },
    "colab_type": "code",
    "executionInfo": {
     "elapsed": 991,
     "status": "ok",
     "timestamp": 1597432079407,
     "user": {
      "displayName": "lotte o",
      "photoUrl": "",
      "userId": "09078078803801089148"
     },
     "user_tz": 240
    },
    "id": "lQMbnqXLvrh1",
    "outputId": "341f3967-dbbc-4494-8473-d4d607e2fec4"
   },
   "outputs": [
    {
     "data": {
      "text/html": [
       "<div>\n",
       "<style scoped>\n",
       "    .dataframe tbody tr th:only-of-type {\n",
       "        vertical-align: middle;\n",
       "    }\n",
       "\n",
       "    .dataframe tbody tr th {\n",
       "        vertical-align: top;\n",
       "    }\n",
       "\n",
       "    .dataframe thead th {\n",
       "        text-align: right;\n",
       "    }\n",
       "</style>\n",
       "<table border=\"1\" class=\"dataframe\">\n",
       "  <thead>\n",
       "    <tr style=\"text-align: right;\">\n",
       "      <th></th>\n",
       "      <th>ID</th>\n",
       "      <th>dPLI</th>\n",
       "      <th>Hub</th>\n",
       "      <th>Outcome</th>\n",
       "      <th>Diagnose</th>\n",
       "    </tr>\n",
       "  </thead>\n",
       "  <tbody>\n",
       "    <tr>\n",
       "      <th>0</th>\n",
       "      <td>WSAS02</td>\n",
       "      <td>0.058498</td>\n",
       "      <td>2.193022</td>\n",
       "      <td>1</td>\n",
       "      <td>0</td>\n",
       "    </tr>\n",
       "    <tr>\n",
       "      <th>1</th>\n",
       "      <td>WSAS05</td>\n",
       "      <td>0.026443</td>\n",
       "      <td>1.186783</td>\n",
       "      <td>0</td>\n",
       "      <td>1</td>\n",
       "    </tr>\n",
       "    <tr>\n",
       "      <th>2</th>\n",
       "      <td>WSAS09</td>\n",
       "      <td>0.149108</td>\n",
       "      <td>1.780670</td>\n",
       "      <td>1</td>\n",
       "      <td>0</td>\n",
       "    </tr>\n",
       "    <tr>\n",
       "      <th>3</th>\n",
       "      <td>WSAS10</td>\n",
       "      <td>0.064347</td>\n",
       "      <td>0.780469</td>\n",
       "      <td>0</td>\n",
       "      <td>0</td>\n",
       "    </tr>\n",
       "    <tr>\n",
       "      <th>4</th>\n",
       "      <td>WSAS11</td>\n",
       "      <td>0.028571</td>\n",
       "      <td>1.249950</td>\n",
       "      <td>0</td>\n",
       "      <td>0</td>\n",
       "    </tr>\n",
       "    <tr>\n",
       "      <th>5</th>\n",
       "      <td>WSAS12</td>\n",
       "      <td>0.038568</td>\n",
       "      <td>0.924782</td>\n",
       "      <td>0</td>\n",
       "      <td>1</td>\n",
       "    </tr>\n",
       "    <tr>\n",
       "      <th>6</th>\n",
       "      <td>WSAS13</td>\n",
       "      <td>0.036793</td>\n",
       "      <td>0.463616</td>\n",
       "      <td>0</td>\n",
       "      <td>0</td>\n",
       "    </tr>\n",
       "    <tr>\n",
       "      <th>7</th>\n",
       "      <td>WSAS18</td>\n",
       "      <td>0.024797</td>\n",
       "      <td>0.792147</td>\n",
       "      <td>0</td>\n",
       "      <td>0</td>\n",
       "    </tr>\n",
       "    <tr>\n",
       "      <th>8</th>\n",
       "      <td>WSAS19</td>\n",
       "      <td>0.129391</td>\n",
       "      <td>1.157935</td>\n",
       "      <td>1</td>\n",
       "      <td>0</td>\n",
       "    </tr>\n",
       "    <tr>\n",
       "      <th>9</th>\n",
       "      <td>WSAS20</td>\n",
       "      <td>0.062986</td>\n",
       "      <td>1.875000</td>\n",
       "      <td>1</td>\n",
       "      <td>0</td>\n",
       "    </tr>\n",
       "    <tr>\n",
       "      <th>10</th>\n",
       "      <td>WSAS22</td>\n",
       "      <td>0.028161</td>\n",
       "      <td>1.536514</td>\n",
       "      <td>0</td>\n",
       "      <td>0</td>\n",
       "    </tr>\n",
       "  </tbody>\n",
       "</table>\n",
       "</div>"
      ],
      "text/plain": [
       "        ID      dPLI       Hub  Outcome  Diagnose\n",
       "0   WSAS02  0.058498  2.193022        1         0\n",
       "1   WSAS05  0.026443  1.186783        0         1\n",
       "2   WSAS09  0.149108  1.780670        1         0\n",
       "3   WSAS10  0.064347  0.780469        0         0\n",
       "4   WSAS11  0.028571  1.249950        0         0\n",
       "5   WSAS12  0.038568  0.924782        0         1\n",
       "6   WSAS13  0.036793  0.463616        0         0\n",
       "7   WSAS18  0.024797  0.792147        0         0\n",
       "8   WSAS19  0.129391  1.157935        1         0\n",
       "9   WSAS20  0.062986  1.875000        1         0\n",
       "10  WSAS22  0.028161  1.536514        0         0"
      ]
     },
     "execution_count": 11,
     "metadata": {},
     "output_type": "execute_result"
    }
   ],
   "source": [
    "data"
   ]
  },
  {
   "cell_type": "code",
   "execution_count": 12,
   "metadata": {
    "colab": {
     "base_uri": "https://localhost:8080/",
     "height": 312
    },
    "colab_type": "code",
    "executionInfo": {
     "elapsed": 1321,
     "status": "ok",
     "timestamp": 1597432079748,
     "user": {
      "displayName": "lotte o",
      "photoUrl": "",
      "userId": "09078078803801089148"
     },
     "user_tz": 240
    },
    "id": "w_ZNUNreaONJ",
    "outputId": "3c43a8f6-efdd-43e5-9932-e64c911e8fd4"
   },
   "outputs": [
    {
     "data": {
      "text/plain": [
       "Text(0, 0.5, 'Hub')"
      ]
     },
     "execution_count": 12,
     "metadata": {},
     "output_type": "execute_result"
    },
    {
     "data": {
      "image/png": "[encoded data removed]",
      "text/plain": [
       "<Figure size 432x288 with 1 Axes>"
      ]
     },
     "metadata": {
      "needs_background": "light"
     },
     "output_type": "display_data"
    }
   ],
   "source": [
    "plt.scatter(data['dPLI'],data['Hub'],c=data['Outcome'])\n",
    "plt.title('Data and outcome')\n",
    "plt.xlabel('dPLI')\n",
    "plt.ylabel('Hub')"
   ]
  },
  {
   "cell_type": "code",
   "execution_count": 13,
   "metadata": {
    "colab": {
     "base_uri": "https://localhost:8080/",
     "height": 312
    },
    "colab_type": "code",
    "executionInfo": {
     "elapsed": 1297,
     "status": "ok",
     "timestamp": 1597432079750,
     "user": {
      "displayName": "lotte o",
      "photoUrl": "",
      "userId": "09078078803801089148"
     },
     "user_tz": 240
    },
    "id": "ZjGpT-a933QC",
    "outputId": "f5da29f7-f147-41fb-d333-f441c5e8c209"
   },
   "outputs": [
    {
     "data": {
      "text/plain": [
       "Text(0, 0.5, 'Hub')"
      ]
     },
     "execution_count": 13,
     "metadata": {},
     "output_type": "execute_result"
    },
    {
     "data": {
      "image/png": "[encoded data removed]",
      "text/plain": [
       "<Figure size 432x288 with 1 Axes>"
      ]
     },
     "metadata": {
      "needs_background": "light"
     },
     "output_type": "display_data"
    }
   ],
   "source": [
    "plt.scatter(data['dPLI'],data['Hub'],c=data['Diagnose'])\n",
    "plt.title('Data and Diagnose')\n",
    "plt.xlabel('dPLI')\n",
    "plt.ylabel('Hub')"
   ]
  },
  {
   "cell_type": "markdown",
   "metadata": {
    "colab_type": "text",
    "id": "yJvtqntYwCQV"
   },
   "source": [
    "# K-Means Clustering Dataset One according to Outcome \n"
   ]
  },
  {
   "cell_type": "code",
   "execution_count": 14,
   "metadata": {
    "colab": {},
    "colab_type": "code",
    "executionInfo": {
     "elapsed": 1297,
     "status": "ok",
     "timestamp": 1597432079753,
     "user": {
      "displayName": "lotte o",
      "photoUrl": "",
      "userId": "09078078803801089148"
     },
     "user_tz": 240
    },
    "id": "qujDQR_Fb9sx"
   },
   "outputs": [],
   "source": [
    "# prepare data as X and Y\n",
    "X = data[['dPLI','Hub']]\n",
    "scaler = preprocessing.StandardScaler()\n",
    "X_stand = pd.DataFrame(scaler.fit_transform(X))\n",
    "X_stand.columns=X.columns"
   ]
  },
  {
   "cell_type": "code",
   "execution_count": 15,
   "metadata": {
    "colab": {},
    "colab_type": "code",
    "executionInfo": {
     "elapsed": 3235,
     "status": "ok",
     "timestamp": 1597432081694,
     "user": {
      "displayName": "lotte o",
      "photoUrl": "",
      "userId": "09078078803801089148"
     },
     "user_tz": 240
    },
    "id": "UZXl7JbbiaW5"
   },
   "outputs": [],
   "source": [
    "kmeans = KMeans(n_clusters=2,n_init=1000).fit(X_stand)\n",
    "predicted_Y=kmeans.predict(X_stand)"
   ]
  },
  {
   "cell_type": "code",
   "execution_count": 16,
   "metadata": {},
   "outputs": [],
   "source": [
    "X_stand = pd.concat((ID, X_stand['dPLI'],X_stand['Hub']),axis=1)"
   ]
  },
  {
   "cell_type": "code",
   "execution_count": 17,
   "metadata": {},
   "outputs": [
    {
     "data": {
      "text/html": [
       "<div>\n",
       "<style scoped>\n",
       "    .dataframe tbody tr th:only-of-type {\n",
       "        vertical-align: middle;\n",
       "    }\n",
       "\n",
       "    .dataframe tbody tr th {\n",
       "        vertical-align: top;\n",
       "    }\n",
       "\n",
       "    .dataframe thead th {\n",
       "        text-align: right;\n",
       "    }\n",
       "</style>\n",
       "<table border=\"1\" class=\"dataframe\">\n",
       "  <thead>\n",
       "    <tr style=\"text-align: right;\">\n",
       "      <th></th>\n",
       "      <th>ID</th>\n",
       "      <th>dPLI</th>\n",
       "      <th>Hub</th>\n",
       "    </tr>\n",
       "  </thead>\n",
       "  <tbody>\n",
       "    <tr>\n",
       "      <th>0</th>\n",
       "      <td>WSAS02</td>\n",
       "      <td>-0.009374</td>\n",
       "      <td>1.832434</td>\n",
       "    </tr>\n",
       "    <tr>\n",
       "      <th>1</th>\n",
       "      <td>WSAS05</td>\n",
       "      <td>-0.798795</td>\n",
       "      <td>-0.159496</td>\n",
       "    </tr>\n",
       "    <tr>\n",
       "      <th>2</th>\n",
       "      <td>WSAS09</td>\n",
       "      <td>2.222135</td>\n",
       "      <td>1.016150</td>\n",
       "    </tr>\n",
       "    <tr>\n",
       "      <th>3</th>\n",
       "      <td>WSAS10</td>\n",
       "      <td>0.134672</td>\n",
       "      <td>-0.963826</td>\n",
       "    </tr>\n",
       "    <tr>\n",
       "      <th>4</th>\n",
       "      <td>WSAS11</td>\n",
       "      <td>-0.746409</td>\n",
       "      <td>-0.034452</td>\n",
       "    </tr>\n",
       "    <tr>\n",
       "      <th>5</th>\n",
       "      <td>WSAS12</td>\n",
       "      <td>-0.500199</td>\n",
       "      <td>-0.678146</td>\n",
       "    </tr>\n",
       "    <tr>\n",
       "      <th>6</th>\n",
       "      <td>WSAS13</td>\n",
       "      <td>-0.543903</td>\n",
       "      <td>-1.591062</td>\n",
       "    </tr>\n",
       "    <tr>\n",
       "      <th>7</th>\n",
       "      <td>WSAS18</td>\n",
       "      <td>-0.839351</td>\n",
       "      <td>-0.940709</td>\n",
       "    </tr>\n",
       "    <tr>\n",
       "      <th>8</th>\n",
       "      <td>WSAS19</td>\n",
       "      <td>1.736558</td>\n",
       "      <td>-0.216602</td>\n",
       "    </tr>\n",
       "    <tr>\n",
       "      <th>9</th>\n",
       "      <td>WSAS20</td>\n",
       "      <td>0.101159</td>\n",
       "      <td>1.202884</td>\n",
       "    </tr>\n",
       "    <tr>\n",
       "      <th>10</th>\n",
       "      <td>WSAS22</td>\n",
       "      <td>-0.756495</td>\n",
       "      <td>0.532824</td>\n",
       "    </tr>\n",
       "  </tbody>\n",
       "</table>\n",
       "</div>"
      ],
      "text/plain": [
       "        ID      dPLI       Hub\n",
       "0   WSAS02 -0.009374  1.832434\n",
       "1   WSAS05 -0.798795 -0.159496\n",
       "2   WSAS09  2.222135  1.016150\n",
       "3   WSAS10  0.134672 -0.963826\n",
       "4   WSAS11 -0.746409 -0.034452\n",
       "5   WSAS12 -0.500199 -0.678146\n",
       "6   WSAS13 -0.543903 -1.591062\n",
       "7   WSAS18 -0.839351 -0.940709\n",
       "8   WSAS19  1.736558 -0.216602\n",
       "9   WSAS20  0.101159  1.202884\n",
       "10  WSAS22 -0.756495  0.532824"
      ]
     },
     "execution_count": 17,
     "metadata": {},
     "output_type": "execute_result"
    }
   ],
   "source": [
    "X_stand"
   ]
  },
  {
   "cell_type": "code",
   "execution_count": 18,
   "metadata": {
    "colab": {
     "base_uri": "https://localhost:8080/",
     "height": 312
    },
    "colab_type": "code",
    "executionInfo": {
     "elapsed": 3226,
     "status": "ok",
     "timestamp": 1597432081709,
     "user": {
      "displayName": "lotte o",
      "photoUrl": "",
      "userId": "09078078803801089148"
     },
     "user_tz": 240
    },
    "id": "zm7JM1ksifhe",
    "outputId": "2d5840c2-f15d-4d7b-dd18-32dec1db457f"
   },
   "outputs": [
    {
     "data": {
      "text/plain": [
       "Text(0, 0.5, 'Hub')"
      ]
     },
     "execution_count": 18,
     "metadata": {},
     "output_type": "execute_result"
    },
    {
     "data": {
      "image/png": "[encoded data removed]",
      "text/plain": [
       "<Figure size 432x288 with 1 Axes>"
      ]
     },
     "metadata": {
      "needs_background": "light"
     },
     "output_type": "display_data"
    }
   ],
   "source": [
    "plt.scatter(X_stand['dPLI'],X_stand['Hub'], c=predicted_Y )\n",
    "plt.title('Predicted outcome Cluster')\n",
    "plt.xlabel('dPLI')\n",
    "plt.ylabel('Hub')"
   ]
  },
  {
   "cell_type": "code",
   "execution_count": 19,
   "metadata": {
    "colab": {
     "base_uri": "https://localhost:8080/",
     "height": 52
    },
    "colab_type": "code",
    "executionInfo": {
     "elapsed": 3216,
     "status": "ok",
     "timestamp": 1597432081710,
     "user": {
      "displayName": "lotte o",
      "photoUrl": "",
      "userId": "09078078803801089148"
     },
     "user_tz": 240
    },
    "id": "lvVmsKBh67Su",
    "outputId": "36f7ea15-915d-414d-e720-9feb6d05d360"
   },
   "outputs": [
    {
     "data": {
      "text/plain": [
       "array([[ 1.01261972,  0.95871649],\n",
       "       [-0.57863984, -0.547838  ]])"
      ]
     },
     "execution_count": 19,
     "metadata": {},
     "output_type": "execute_result"
    }
   ],
   "source": [
    "centroids=kmeans.cluster_centers_\n",
    "#scaler.inverse_transform(centroids)\n",
    "centroids"
   ]
  },
  {
   "cell_type": "markdown",
   "metadata": {
    "colab_type": "text",
    "id": "gNKOhEFowZcs"
   },
   "source": [
    "To visualize, you can plot the cluster centroids inside "
   ]
  },
  {
   "cell_type": "code",
   "execution_count": 20,
   "metadata": {
    "colab": {
     "base_uri": "https://localhost:8080/",
     "height": 312
    },
    "colab_type": "code",
    "executionInfo": {
     "elapsed": 3208,
     "status": "ok",
     "timestamp": 1597432081712,
     "user": {
      "displayName": "lotte o",
      "photoUrl": "",
      "userId": "09078078803801089148"
     },
     "user_tz": 240
    },
    "id": "SAv1lNBQjBcf",
    "outputId": "85af2f07-9e9f-4b31-f617-e3bdf08e1ee4"
   },
   "outputs": [
    {
     "data": {
      "text/plain": [
       "Text(0, 0.5, 'Hub')"
      ]
     },
     "execution_count": 20,
     "metadata": {},
     "output_type": "execute_result"
    },
    {
     "data": {
      "image/png": "[encoded data removed]",
      "text/plain": [
       "<Figure size 432x288 with 1 Axes>"
      ]
     },
     "metadata": {
      "needs_background": "light"
     },
     "output_type": "display_data"
    }
   ],
   "source": [
    "plt.scatter(X_stand['dPLI'],X_stand['Hub'], c=predicted_Y)\n",
    "plt.scatter(\n",
    "    kmeans.cluster_centers_[:, 0], kmeans.cluster_centers_[:, 1],\n",
    "    s=250, marker='*',\n",
    "    c='red', edgecolor='black',\n",
    "    label='centroids'\n",
    ")\n",
    "\n",
    "plt.title('Clustering on standardized dataset one')\n",
    "plt.xlabel('dPLI')\n",
    "plt.ylabel('Hub')"
   ]
  },
  {
   "cell_type": "code",
   "execution_count": 21,
   "metadata": {
    "colab": {
     "base_uri": "https://localhost:8080/",
     "height": 34
    },
    "colab_type": "code",
    "executionInfo": {
     "elapsed": 3199,
     "status": "ok",
     "timestamp": 1597432081714,
     "user": {
      "displayName": "lotte o",
      "photoUrl": "",
      "userId": "09078078803801089148"
     },
     "user_tz": 240
    },
    "id": "vACaPrn4-ej4",
    "outputId": "716bf1c2-d298-4014-c198-b009c73e903b"
   },
   "outputs": [
    {
     "data": {
      "text/plain": [
       "array([0, 1, 0, 1, 1, 1, 1, 1, 0, 0, 1])"
      ]
     },
     "execution_count": 21,
     "metadata": {},
     "output_type": "execute_result"
    }
   ],
   "source": [
    "predicted_Y"
   ]
  },
  {
   "cell_type": "code",
   "execution_count": 22,
   "metadata": {
    "colab": {
     "base_uri": "https://localhost:8080/",
     "height": 34
    },
    "colab_type": "code",
    "executionInfo": {
     "elapsed": 3191,
     "status": "ok",
     "timestamp": 1597432081716,
     "user": {
      "displayName": "lotte o",
      "photoUrl": "",
      "userId": "09078078803801089148"
     },
     "user_tz": 240
    },
    "id": "AjKyBNdY-4cM",
    "outputId": "42d1240e-4eff-4424-c514-b1d2f3338957"
   },
   "outputs": [
    {
     "name": "stdout",
     "output_type": "stream",
     "text": [
      "Accuracy according to recovery 100.0 %\n"
     ]
    }
   ],
   "source": [
    "acc = accuracy_score(data['Outcome'], predicted_Y)\n",
    "if acc < 0.50:\n",
    "  acc=1-acc \n",
    "\n",
    "print('Accuracy according to recovery {} %'.format(acc*100))\n"
   ]
  },
  {
   "cell_type": "code",
   "execution_count": 23,
   "metadata": {
    "colab": {
     "base_uri": "https://localhost:8080/",
     "height": 34
    },
    "colab_type": "code",
    "executionInfo": {
     "elapsed": 3580,
     "status": "ok",
     "timestamp": 1597432082114,
     "user": {
      "displayName": "lotte o",
      "photoUrl": "",
      "userId": "09078078803801089148"
     },
     "user_tz": 240
    },
    "id": "wk5dERRZ_UOk",
    "outputId": "4df3c392-bebb-4792-9d36-e3c1d379709a"
   },
   "outputs": [
    {
     "name": "stdout",
     "output_type": "stream",
     "text": [
      "Accuracy according to Diagnose 54.54545454545454 %\n"
     ]
    }
   ],
   "source": [
    "acc_d=accuracy_score(data['Diagnose'], predicted_Y)\n",
    "print('Accuracy according to Diagnose {} %'.format(acc_d*100))"
   ]
  }
 ],
 "metadata": {
  "colab": {
   "collapsed_sections": [],
   "name": "K-Means_dPLI_Hub_SET-1&2.ipynb",
   "provenance": []
  },
  "kernelspec": {
   "display_name": "Python 3",
   "language": "python",
   "name": "python3"
  },
  "language_info": {
   "codemirror_mode": {
    "name": "ipython",
    "version": 3
   },
   "file_extension": ".py",
   "mimetype": "text/x-python",
   "name": "python",
   "nbconvert_exporter": "python",
   "pygments_lexer": "ipython3",
   "version": "3.7.3"
  }
 },
 "nbformat": 4,
 "nbformat_minor": 1
}
