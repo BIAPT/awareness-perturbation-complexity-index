{
 "cells": [
  {
   "cell_type": "code",
   "execution_count": 1,
   "metadata": {},
   "outputs": [],
   "source": [
    "import pandas as pd\n",
    "import numpy as np\n",
    "import matplotlib.pyplot as plt\n",
    "import matplotlib\n",
    "matplotlib.use('Qt5Agg')\n",
    "from sklearn.cluster import KMeans\n",
    "from sklearn import preprocessing\n",
    "from sklearn.metrics import accuracy_score\n",
    "import matplotlib.backends.backend_pdf"
   ]
  },
  {
   "cell_type": "markdown",
   "metadata": {},
   "source": [
    "# Import data"
   ]
  },
  {
   "cell_type": "code",
   "execution_count": 2,
   "metadata": {},
   "outputs": [],
   "source": [
    "#pdf = matplotlib.backends.backend_pdf.PdfPages(\"Set1_Diagnose_K-means_Crossval_Boundary.pdf\")\n",
    "Y_value=\"Prognose\""
   ]
  },
  {
   "cell_type": "code",
   "execution_count": 3,
   "metadata": {},
   "outputs": [
    {
     "name": "stderr",
     "output_type": "stream",
     "text": [
      "C:\\Users\\User\\Anaconda3\\lib\\site-packages\\ipykernel_launcher.py:1: FutureWarning: read_table is deprecated, use read_csv instead.\n",
      "  \"\"\"Entry point for launching an IPython kernel.\n"
     ]
    }
   ],
   "source": [
    "data = pd.read_table('ARI_reduced.txt',sep = ',')\n",
    "\n",
    "Outcome=[1,0,1,0,0,0,0,0,1,1,0]\n",
    "Diagnose=[0,1,0,0,0,1,0,0,0,0,0]\n",
    "\n",
    "dPLI=data['dPLI']\n",
    "ID=data['ID']\n",
    "Hub=data['Hub']"
   ]
  },
  {
   "cell_type": "code",
   "execution_count": 4,
   "metadata": {},
   "outputs": [],
   "source": [
    "data= np.stack((ID, dPLI, Hub, Outcome,Diagnose),axis=1)"
   ]
  },
  {
   "cell_type": "code",
   "execution_count": 5,
   "metadata": {},
   "outputs": [],
   "source": [
    "data=pd.DataFrame(data)\n",
    "data.columns=['ID','dPLI','Hub','Outcome','Diagnose']\n",
    "data['dPLI']=data['dPLI'].astype(float)\n",
    "data['Hub']=data['Hub'].astype(float)\n",
    "data['Outcome']=data['Outcome'].astype(int)\n",
    "data['Diagnose']=data['Diagnose'].astype(int)"
   ]
  },
  {
   "cell_type": "code",
   "execution_count": 6,
   "metadata": {
    "scrolled": true
   },
   "outputs": [
    {
     "data": {
      "text/html": [
       "<div>\n",
       "<style scoped>\n",
       "    .dataframe tbody tr th:only-of-type {\n",
       "        vertical-align: middle;\n",
       "    }\n",
       "\n",
       "    .dataframe tbody tr th {\n",
       "        vertical-align: top;\n",
       "    }\n",
       "\n",
       "    .dataframe thead th {\n",
       "        text-align: right;\n",
       "    }\n",
       "</style>\n",
       "<table border=\"1\" class=\"dataframe\">\n",
       "  <thead>\n",
       "    <tr style=\"text-align: right;\">\n",
       "      <th></th>\n",
       "      <th>ID</th>\n",
       "      <th>dPLI</th>\n",
       "      <th>Hub</th>\n",
       "      <th>Outcome</th>\n",
       "      <th>Diagnose</th>\n",
       "    </tr>\n",
       "  </thead>\n",
       "  <tbody>\n",
       "    <tr>\n",
       "      <th>0</th>\n",
       "      <td>WSAS02</td>\n",
       "      <td>0.058498</td>\n",
       "      <td>2.193022</td>\n",
       "      <td>1</td>\n",
       "      <td>0</td>\n",
       "    </tr>\n",
       "    <tr>\n",
       "      <th>1</th>\n",
       "      <td>WSAS05</td>\n",
       "      <td>0.026443</td>\n",
       "      <td>1.186783</td>\n",
       "      <td>0</td>\n",
       "      <td>1</td>\n",
       "    </tr>\n",
       "    <tr>\n",
       "      <th>2</th>\n",
       "      <td>WSAS09</td>\n",
       "      <td>0.149108</td>\n",
       "      <td>1.780670</td>\n",
       "      <td>1</td>\n",
       "      <td>0</td>\n",
       "    </tr>\n",
       "    <tr>\n",
       "      <th>3</th>\n",
       "      <td>WSAS10</td>\n",
       "      <td>0.064347</td>\n",
       "      <td>0.780469</td>\n",
       "      <td>0</td>\n",
       "      <td>0</td>\n",
       "    </tr>\n",
       "    <tr>\n",
       "      <th>4</th>\n",
       "      <td>WSAS11</td>\n",
       "      <td>0.028571</td>\n",
       "      <td>1.249950</td>\n",
       "      <td>0</td>\n",
       "      <td>0</td>\n",
       "    </tr>\n",
       "    <tr>\n",
       "      <th>5</th>\n",
       "      <td>WSAS12</td>\n",
       "      <td>0.038568</td>\n",
       "      <td>0.924782</td>\n",
       "      <td>0</td>\n",
       "      <td>1</td>\n",
       "    </tr>\n",
       "    <tr>\n",
       "      <th>6</th>\n",
       "      <td>WSAS13</td>\n",
       "      <td>0.036793</td>\n",
       "      <td>0.463616</td>\n",
       "      <td>0</td>\n",
       "      <td>0</td>\n",
       "    </tr>\n",
       "    <tr>\n",
       "      <th>7</th>\n",
       "      <td>WSAS18</td>\n",
       "      <td>0.024797</td>\n",
       "      <td>0.792147</td>\n",
       "      <td>0</td>\n",
       "      <td>0</td>\n",
       "    </tr>\n",
       "    <tr>\n",
       "      <th>8</th>\n",
       "      <td>WSAS19</td>\n",
       "      <td>0.129391</td>\n",
       "      <td>1.157935</td>\n",
       "      <td>1</td>\n",
       "      <td>0</td>\n",
       "    </tr>\n",
       "    <tr>\n",
       "      <th>9</th>\n",
       "      <td>WSAS20</td>\n",
       "      <td>0.062986</td>\n",
       "      <td>1.875000</td>\n",
       "      <td>1</td>\n",
       "      <td>0</td>\n",
       "    </tr>\n",
       "    <tr>\n",
       "      <th>10</th>\n",
       "      <td>WSAS22</td>\n",
       "      <td>0.028161</td>\n",
       "      <td>1.536514</td>\n",
       "      <td>0</td>\n",
       "      <td>0</td>\n",
       "    </tr>\n",
       "  </tbody>\n",
       "</table>\n",
       "</div>"
      ],
      "text/plain": [
       "        ID      dPLI       Hub  Outcome  Diagnose\n",
       "0   WSAS02  0.058498  2.193022        1         0\n",
       "1   WSAS05  0.026443  1.186783        0         1\n",
       "2   WSAS09  0.149108  1.780670        1         0\n",
       "3   WSAS10  0.064347  0.780469        0         0\n",
       "4   WSAS11  0.028571  1.249950        0         0\n",
       "5   WSAS12  0.038568  0.924782        0         1\n",
       "6   WSAS13  0.036793  0.463616        0         0\n",
       "7   WSAS18  0.024797  0.792147        0         0\n",
       "8   WSAS19  0.129391  1.157935        1         0\n",
       "9   WSAS20  0.062986  1.875000        1         0\n",
       "10  WSAS22  0.028161  1.536514        0         0"
      ]
     },
     "execution_count": 6,
     "metadata": {},
     "output_type": "execute_result"
    }
   ],
   "source": [
    "data"
   ]
  },
  {
   "cell_type": "code",
   "execution_count": 7,
   "metadata": {},
   "outputs": [
    {
     "data": {
      "image/png": "[encoded data removed]",
      "text/plain": [
       "<Figure size 432x288 with 1 Axes>"
      ]
     },
     "metadata": {
      "needs_background": "light"
     },
     "output_type": "display_data"
    }
   ],
   "source": [
    "plt.scatter(data['dPLI'],data['Hub'],c=data['Outcome'])\n",
    "plt.title('Data and outcome')\n",
    "plt.xlabel('dPLI')\n",
    "plt.ylabel('Hub')\n",
    "plt.show ()"
   ]
  },
  {
   "cell_type": "code",
   "execution_count": 8,
   "metadata": {},
   "outputs": [],
   "source": [
    "# prepare data as X and Y\n",
    "X = data[['dPLI','Hub']]\n",
    "scaler = preprocessing.StandardScaler()\n",
    "X_stand = pd.DataFrame(scaler.fit_transform(X))\n",
    "X_stand.columns=X.columns"
   ]
  },
  {
   "cell_type": "code",
   "execution_count": 9,
   "metadata": {},
   "outputs": [
    {
     "data": {
      "text/html": [
       "<div>\n",
       "<style scoped>\n",
       "    .dataframe tbody tr th:only-of-type {\n",
       "        vertical-align: middle;\n",
       "    }\n",
       "\n",
       "    .dataframe tbody tr th {\n",
       "        vertical-align: top;\n",
       "    }\n",
       "\n",
       "    .dataframe thead th {\n",
       "        text-align: right;\n",
       "    }\n",
       "</style>\n",
       "<table border=\"1\" class=\"dataframe\">\n",
       "  <thead>\n",
       "    <tr style=\"text-align: right;\">\n",
       "      <th></th>\n",
       "      <th>dPLI</th>\n",
       "      <th>Hub</th>\n",
       "    </tr>\n",
       "  </thead>\n",
       "  <tbody>\n",
       "    <tr>\n",
       "      <th>0</th>\n",
       "      <td>-0.009374</td>\n",
       "      <td>1.832434</td>\n",
       "    </tr>\n",
       "    <tr>\n",
       "      <th>1</th>\n",
       "      <td>-0.798795</td>\n",
       "      <td>-0.159496</td>\n",
       "    </tr>\n",
       "    <tr>\n",
       "      <th>2</th>\n",
       "      <td>2.222135</td>\n",
       "      <td>1.016150</td>\n",
       "    </tr>\n",
       "    <tr>\n",
       "      <th>3</th>\n",
       "      <td>0.134672</td>\n",
       "      <td>-0.963826</td>\n",
       "    </tr>\n",
       "    <tr>\n",
       "      <th>4</th>\n",
       "      <td>-0.746409</td>\n",
       "      <td>-0.034452</td>\n",
       "    </tr>\n",
       "    <tr>\n",
       "      <th>5</th>\n",
       "      <td>-0.500199</td>\n",
       "      <td>-0.678146</td>\n",
       "    </tr>\n",
       "    <tr>\n",
       "      <th>6</th>\n",
       "      <td>-0.543903</td>\n",
       "      <td>-1.591062</td>\n",
       "    </tr>\n",
       "    <tr>\n",
       "      <th>7</th>\n",
       "      <td>-0.839351</td>\n",
       "      <td>-0.940709</td>\n",
       "    </tr>\n",
       "    <tr>\n",
       "      <th>8</th>\n",
       "      <td>1.736558</td>\n",
       "      <td>-0.216602</td>\n",
       "    </tr>\n",
       "    <tr>\n",
       "      <th>9</th>\n",
       "      <td>0.101159</td>\n",
       "      <td>1.202884</td>\n",
       "    </tr>\n",
       "    <tr>\n",
       "      <th>10</th>\n",
       "      <td>-0.756495</td>\n",
       "      <td>0.532824</td>\n",
       "    </tr>\n",
       "  </tbody>\n",
       "</table>\n",
       "</div>"
      ],
      "text/plain": [
       "        dPLI       Hub\n",
       "0  -0.009374  1.832434\n",
       "1  -0.798795 -0.159496\n",
       "2   2.222135  1.016150\n",
       "3   0.134672 -0.963826\n",
       "4  -0.746409 -0.034452\n",
       "5  -0.500199 -0.678146\n",
       "6  -0.543903 -1.591062\n",
       "7  -0.839351 -0.940709\n",
       "8   1.736558 -0.216602\n",
       "9   0.101159  1.202884\n",
       "10 -0.756495  0.532824"
      ]
     },
     "execution_count": 9,
     "metadata": {},
     "output_type": "execute_result"
    }
   ],
   "source": [
    "X_stand"
   ]
  },
  {
   "cell_type": "code",
   "execution_count": 10,
   "metadata": {},
   "outputs": [],
   "source": [
    "data['dPLI'] = X_stand['dPLI']\n",
    "data['Hub'] = X_stand['Hub']"
   ]
  },
  {
   "cell_type": "code",
   "execution_count": 23,
   "metadata": {},
   "outputs": [],
   "source": [
    "accuracies_train = []\n",
    "accuracies_test = []"
   ]
  },
  {
   "cell_type": "code",
   "execution_count": 24,
   "metadata": {},
   "outputs": [],
   "source": [
    "for i in data['ID']:\n",
    "    X_train = data[data['ID'] != i][['dPLI','Hub']]\n",
    "    X_test = data[data['ID'] == i][['dPLI','Hub']]\n",
    "    Y_train = data[data['ID'] != i]['Outcome']\n",
    "    Y_test = data[data['ID'] == i]['Outcome']\n",
    "    \n",
    "    kmeans = KMeans(n_clusters=2,n_init=1000).fit(X_train)\n",
    "    pred_train = kmeans.predict(X_train)\n",
    "    pred_test = kmeans.predict(X_test)\n",
    "    \n",
    "    acc_train = accuracy_score(Y_train,pred_train)\n",
    "    # assign label for maximum accuracy in the training. \n",
    "    # If labels are switched in the training, also switch them in the test prediction\n",
    "    if acc_train < 0.50:\n",
    "        pred_train=1-pred_train\n",
    "        pred_test=1-pred_test\n",
    "\n",
    "    acc_train = accuracy_score(Y_train,pred_train)\n",
    "    acc_test = accuracy_score(Y_test,pred_test)\n",
    "\n",
    "    accuracies_train.append(acc_train)\n",
    "    accuracies_test.append(acc_test)\n",
    "    "
   ]
  },
  {
   "cell_type": "code",
   "execution_count": 25,
   "metadata": {},
   "outputs": [
    {
     "name": "stdout",
     "output_type": "stream",
     "text": [
      "average training accuracy 100.0 %\n",
      "average validation accuracy using LOSO 100.0 %\n"
     ]
    }
   ],
   "source": [
    "print('average training accuracy {} %'.format(np.mean(accuracies_train)*100))\n",
    "print('average validation accuracy using LOSO {} %'.format(np.mean(accuracies_test)*100))"
   ]
  }
 ],
 "metadata": {
  "kernelspec": {
   "display_name": "Python 3",
   "language": "python",
   "name": "python3"
  },
  "language_info": {
   "codemirror_mode": {
    "name": "ipython",
    "version": 3
   },
   "file_extension": ".py",
   "mimetype": "text/x-python",
   "name": "python",
   "nbconvert_exporter": "python",
   "pygments_lexer": "ipython3",
   "version": "3.7.3"
  }
 },
 "nbformat": 4,
 "nbformat_minor": 2
}
