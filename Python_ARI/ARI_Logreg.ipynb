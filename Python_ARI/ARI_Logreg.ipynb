{
 "cells": [
  {
   "cell_type": "code",
   "execution_count": 51,
   "metadata": {
    "colab": {},
    "colab_type": "code",
    "executionInfo": {
     "elapsed": 1036,
     "status": "ok",
     "timestamp": 1597432079387,
     "user": {
      "displayName": "lotte o",
      "photoUrl": "",
      "userId": "09078078803801089148"
     },
     "user_tz": 240
    },
    "id": "fLSO0VYJZYUj"
   },
   "outputs": [],
   "source": [
    "#  import some packages\n",
    "import pandas as pd\n",
    "import numpy as np\n",
    "import matplotlib.pyplot as plt\n",
    "from sklearn import preprocessing\n",
    "from sklearn.metrics import roc_curve, auc\n",
    "import numpy as np\n",
    "from sklearn import metrics\n",
    "import seaborn as sns\n",
    "from sklearn.linear_model import LogisticRegression\n",
    "from sklearn.metrics import accuracy_score\n",
    "from sklearn.model_selection import LeaveOneOut"
   ]
  },
  {
   "cell_type": "markdown",
   "metadata": {
    "colab_type": "text",
    "id": "0dMJpe-WWgJ9"
   },
   "source": [
    "#  import data and specify patient diagnose and outcome"
   ]
  },
  {
   "cell_type": "code",
   "execution_count": 52,
   "metadata": {},
   "outputs": [],
   "source": [
    "#info = pd.read_csv('data/data_2states.txt', sep = '\\t')\n",
    "#features = pd.read_table('results/2state_ARI.txt',sep = ',')\n",
    "\n",
    "info = pd.read_csv('data/data_2states.txt', sep = '\\t')\n",
    "features = pd.read_table('results/2state_ARI.txt',sep = ',')\n",
    "\n",
    "data = pd.concat([info, features], axis = 1)\n",
    "# drop unknown measures\n",
    "data = data.drop(data[(data.Outcome_Prog == 3)].index)"
   ]
  },
  {
   "cell_type": "code",
   "execution_count": 53,
   "metadata": {},
   "outputs": [
    {
     "data": {
      "text/html": [
       "<div>\n",
       "<style scoped>\n",
       "    .dataframe tbody tr th:only-of-type {\n",
       "        vertical-align: middle;\n",
       "    }\n",
       "\n",
       "    .dataframe tbody tr th {\n",
       "        vertical-align: top;\n",
       "    }\n",
       "\n",
       "    .dataframe thead th {\n",
       "        text-align: right;\n",
       "    }\n",
       "</style>\n",
       "<table border=\"1\" class=\"dataframe\">\n",
       "  <thead>\n",
       "    <tr style=\"text-align: right;\">\n",
       "      <th></th>\n",
       "      <th>Patient</th>\n",
       "      <th>Diag</th>\n",
       "      <th>Age</th>\n",
       "      <th>Sex</th>\n",
       "      <th>Injury</th>\n",
       "      <th>TSI</th>\n",
       "      <th>State</th>\n",
       "      <th>CRSR</th>\n",
       "      <th>Outcome_Diag</th>\n",
       "      <th>Group_Diag</th>\n",
       "      <th>Outcome_Prog</th>\n",
       "      <th>Group_Prog</th>\n",
       "      <th>ID</th>\n",
       "      <th>dPLI_ARI</th>\n",
       "      <th>Hub_ARI</th>\n",
       "      <th>dirhub_ARI</th>\n",
       "    </tr>\n",
       "  </thead>\n",
       "  <tbody>\n",
       "    <tr>\n",
       "      <th>0</th>\n",
       "      <td>WSAS02</td>\n",
       "      <td>UWS</td>\n",
       "      <td>29</td>\n",
       "      <td>M</td>\n",
       "      <td>TBI</td>\n",
       "      <td>-</td>\n",
       "      <td>Acute</td>\n",
       "      <td>4</td>\n",
       "      <td>1</td>\n",
       "      <td>UWS</td>\n",
       "      <td>1</td>\n",
       "      <td>Recovered</td>\n",
       "      <td>WSAS02</td>\n",
       "      <td>0.026312</td>\n",
       "      <td>1.235972</td>\n",
       "      <td>0.194829</td>\n",
       "    </tr>\n",
       "    <tr>\n",
       "      <th>1</th>\n",
       "      <td>WSAS05</td>\n",
       "      <td>MCS</td>\n",
       "      <td>28</td>\n",
       "      <td>M</td>\n",
       "      <td>TBI</td>\n",
       "      <td>9 Y</td>\n",
       "      <td>Chronic</td>\n",
       "      <td>10</td>\n",
       "      <td>2</td>\n",
       "      <td>MCS</td>\n",
       "      <td>0</td>\n",
       "      <td>Non-recovered</td>\n",
       "      <td>WSAS05</td>\n",
       "      <td>0.019862</td>\n",
       "      <td>1.145439</td>\n",
       "      <td>0.331827</td>\n",
       "    </tr>\n",
       "    <tr>\n",
       "      <th>2</th>\n",
       "      <td>WSAS09</td>\n",
       "      <td>UWS</td>\n",
       "      <td>50</td>\n",
       "      <td>F</td>\n",
       "      <td>Stroke</td>\n",
       "      <td>25 D</td>\n",
       "      <td>Acute</td>\n",
       "      <td>4</td>\n",
       "      <td>1</td>\n",
       "      <td>UWS</td>\n",
       "      <td>1</td>\n",
       "      <td>Recovered</td>\n",
       "      <td>WSAS09</td>\n",
       "      <td>0.065431</td>\n",
       "      <td>1.075923</td>\n",
       "      <td>1.352848</td>\n",
       "    </tr>\n",
       "    <tr>\n",
       "      <th>3</th>\n",
       "      <td>WSAS10</td>\n",
       "      <td>UWS</td>\n",
       "      <td>75</td>\n",
       "      <td>F</td>\n",
       "      <td>Stroke</td>\n",
       "      <td>NaN</td>\n",
       "      <td>Acute</td>\n",
       "      <td>5</td>\n",
       "      <td>1</td>\n",
       "      <td>UWS</td>\n",
       "      <td>0</td>\n",
       "      <td>Non-recovered</td>\n",
       "      <td>WSAS10</td>\n",
       "      <td>0.024221</td>\n",
       "      <td>1.020861</td>\n",
       "      <td>0.357689</td>\n",
       "    </tr>\n",
       "    <tr>\n",
       "      <th>4</th>\n",
       "      <td>WSAS11</td>\n",
       "      <td>UWS</td>\n",
       "      <td>28</td>\n",
       "      <td>F</td>\n",
       "      <td>Anoxic</td>\n",
       "      <td>1Y</td>\n",
       "      <td>Chronic</td>\n",
       "      <td>6</td>\n",
       "      <td>1</td>\n",
       "      <td>UWS</td>\n",
       "      <td>0</td>\n",
       "      <td>Non-recovered</td>\n",
       "      <td>WSAS11</td>\n",
       "      <td>0.023570</td>\n",
       "      <td>1.116612</td>\n",
       "      <td>0.412443</td>\n",
       "    </tr>\n",
       "    <tr>\n",
       "      <th>5</th>\n",
       "      <td>WSAS12</td>\n",
       "      <td>MCS</td>\n",
       "      <td>36</td>\n",
       "      <td>F</td>\n",
       "      <td>TBI</td>\n",
       "      <td>2Y</td>\n",
       "      <td>Chronic</td>\n",
       "      <td>11</td>\n",
       "      <td>2</td>\n",
       "      <td>MCS</td>\n",
       "      <td>0</td>\n",
       "      <td>Non-recovered</td>\n",
       "      <td>WSAS12</td>\n",
       "      <td>0.023890</td>\n",
       "      <td>0.905420</td>\n",
       "      <td>0.458246</td>\n",
       "    </tr>\n",
       "    <tr>\n",
       "      <th>6</th>\n",
       "      <td>WSAS13</td>\n",
       "      <td>UWS</td>\n",
       "      <td>24</td>\n",
       "      <td>M</td>\n",
       "      <td>Anoxic</td>\n",
       "      <td>8Y</td>\n",
       "      <td>Chronic</td>\n",
       "      <td>5</td>\n",
       "      <td>1</td>\n",
       "      <td>UWS</td>\n",
       "      <td>0</td>\n",
       "      <td>Non-recovered</td>\n",
       "      <td>WSAS13</td>\n",
       "      <td>0.023967</td>\n",
       "      <td>0.815346</td>\n",
       "      <td>0.445385</td>\n",
       "    </tr>\n",
       "    <tr>\n",
       "      <th>7</th>\n",
       "      <td>WSAS17</td>\n",
       "      <td>Coma</td>\n",
       "      <td>74</td>\n",
       "      <td>F</td>\n",
       "      <td>Anoxic</td>\n",
       "      <td>10D</td>\n",
       "      <td>Acute</td>\n",
       "      <td>0</td>\n",
       "      <td>0</td>\n",
       "      <td>Coma</td>\n",
       "      <td>0</td>\n",
       "      <td>Non-recovered</td>\n",
       "      <td>WSAS17</td>\n",
       "      <td>0.017042</td>\n",
       "      <td>0.815962</td>\n",
       "      <td>0.171083</td>\n",
       "    </tr>\n",
       "    <tr>\n",
       "      <th>8</th>\n",
       "      <td>WSAS18</td>\n",
       "      <td>UWS</td>\n",
       "      <td>53</td>\n",
       "      <td>F</td>\n",
       "      <td>Anoxic</td>\n",
       "      <td>9M</td>\n",
       "      <td>Chronic</td>\n",
       "      <td>5</td>\n",
       "      <td>1</td>\n",
       "      <td>UWS</td>\n",
       "      <td>0</td>\n",
       "      <td>Non-recovered</td>\n",
       "      <td>WSAS18</td>\n",
       "      <td>0.019688</td>\n",
       "      <td>1.127676</td>\n",
       "      <td>0.457895</td>\n",
       "    </tr>\n",
       "    <tr>\n",
       "      <th>10</th>\n",
       "      <td>WSAS20</td>\n",
       "      <td>UWS</td>\n",
       "      <td>42</td>\n",
       "      <td>F</td>\n",
       "      <td>Stroke</td>\n",
       "      <td>20D</td>\n",
       "      <td>Acute</td>\n",
       "      <td>3</td>\n",
       "      <td>1</td>\n",
       "      <td>UWS</td>\n",
       "      <td>1</td>\n",
       "      <td>Recovered</td>\n",
       "      <td>WSAS20</td>\n",
       "      <td>0.026574</td>\n",
       "      <td>1.137479</td>\n",
       "      <td>0.662575</td>\n",
       "    </tr>\n",
       "    <tr>\n",
       "      <th>11</th>\n",
       "      <td>WSAS22</td>\n",
       "      <td>UWS</td>\n",
       "      <td>18</td>\n",
       "      <td>F</td>\n",
       "      <td>TBI</td>\n",
       "      <td>20D</td>\n",
       "      <td>Acute</td>\n",
       "      <td>5</td>\n",
       "      <td>1</td>\n",
       "      <td>UWS</td>\n",
       "      <td>0</td>\n",
       "      <td>Non-recovered</td>\n",
       "      <td>WSAS22</td>\n",
       "      <td>0.018033</td>\n",
       "      <td>0.681887</td>\n",
       "      <td>0.382020</td>\n",
       "    </tr>\n",
       "    <tr>\n",
       "      <th>12</th>\n",
       "      <td>WSAS25</td>\n",
       "      <td>UWS</td>\n",
       "      <td>66</td>\n",
       "      <td>M</td>\n",
       "      <td>ICH</td>\n",
       "      <td>3D</td>\n",
       "      <td>Acute</td>\n",
       "      <td>2</td>\n",
       "      <td>1</td>\n",
       "      <td>UWS</td>\n",
       "      <td>0</td>\n",
       "      <td>Non-recovered</td>\n",
       "      <td>WSAS25</td>\n",
       "      <td>0.015587</td>\n",
       "      <td>1.052380</td>\n",
       "      <td>0.609471</td>\n",
       "    </tr>\n",
       "    <tr>\n",
       "      <th>13</th>\n",
       "      <td>WSAS27</td>\n",
       "      <td>UWS</td>\n",
       "      <td>38</td>\n",
       "      <td>F</td>\n",
       "      <td>ICH</td>\n",
       "      <td>24D</td>\n",
       "      <td>Acute</td>\n",
       "      <td>5</td>\n",
       "      <td>1</td>\n",
       "      <td>UWS</td>\n",
       "      <td>1</td>\n",
       "      <td>Recovered</td>\n",
       "      <td>WSAS27</td>\n",
       "      <td>0.031107</td>\n",
       "      <td>1.067179</td>\n",
       "      <td>1.195994</td>\n",
       "    </tr>\n",
       "    <tr>\n",
       "      <th>14</th>\n",
       "      <td>WSAS28</td>\n",
       "      <td>MCS</td>\n",
       "      <td>38</td>\n",
       "      <td>F</td>\n",
       "      <td>ICH</td>\n",
       "      <td>23D</td>\n",
       "      <td>Acute</td>\n",
       "      <td>7</td>\n",
       "      <td>2</td>\n",
       "      <td>MCS</td>\n",
       "      <td>1</td>\n",
       "      <td>Recovered</td>\n",
       "      <td>WSAS28</td>\n",
       "      <td>0.040103</td>\n",
       "      <td>1.208406</td>\n",
       "      <td>1.222233</td>\n",
       "    </tr>\n",
       "    <tr>\n",
       "      <th>15</th>\n",
       "      <td>WSAS29</td>\n",
       "      <td>Coma</td>\n",
       "      <td>74</td>\n",
       "      <td>F</td>\n",
       "      <td>ICH</td>\n",
       "      <td>33D</td>\n",
       "      <td>Acute</td>\n",
       "      <td>0</td>\n",
       "      <td>0</td>\n",
       "      <td>Coma</td>\n",
       "      <td>0</td>\n",
       "      <td>Non-recovered</td>\n",
       "      <td>WSAS29</td>\n",
       "      <td>0.013035</td>\n",
       "      <td>0.949283</td>\n",
       "      <td>0.317966</td>\n",
       "    </tr>\n",
       "  </tbody>\n",
       "</table>\n",
       "</div>"
      ],
      "text/plain": [
       "   Patient  Diag  Age Sex  Injury   TSI    State  CRSR  Outcome_Diag  \\\n",
       "0   WSAS02   UWS   29   M     TBI     -    Acute     4             1   \n",
       "1   WSAS05   MCS   28   M     TBI   9 Y  Chronic    10             2   \n",
       "2   WSAS09   UWS   50   F  Stroke  25 D    Acute     4             1   \n",
       "3   WSAS10   UWS   75   F  Stroke   NaN    Acute     5             1   \n",
       "4   WSAS11   UWS   28   F  Anoxic    1Y  Chronic     6             1   \n",
       "5   WSAS12   MCS   36   F     TBI    2Y  Chronic    11             2   \n",
       "6   WSAS13   UWS   24   M  Anoxic    8Y  Chronic     5             1   \n",
       "7   WSAS17  Coma   74   F  Anoxic   10D    Acute     0             0   \n",
       "8   WSAS18   UWS   53   F  Anoxic    9M  Chronic     5             1   \n",
       "10  WSAS20   UWS   42   F  Stroke   20D    Acute     3             1   \n",
       "11  WSAS22   UWS   18   F     TBI   20D    Acute     5             1   \n",
       "12  WSAS25   UWS   66   M     ICH    3D    Acute     2             1   \n",
       "13  WSAS27   UWS   38   F     ICH   24D    Acute     5             1   \n",
       "14  WSAS28   MCS   38   F     ICH   23D    Acute     7             2   \n",
       "15  WSAS29  Coma   74   F     ICH   33D    Acute     0             0   \n",
       "\n",
       "   Group_Diag  Outcome_Prog     Group_Prog      ID  dPLI_ARI   Hub_ARI  \\\n",
       "0         UWS             1      Recovered  WSAS02  0.026312  1.235972   \n",
       "1         MCS             0  Non-recovered  WSAS05  0.019862  1.145439   \n",
       "2         UWS             1      Recovered  WSAS09  0.065431  1.075923   \n",
       "3         UWS             0  Non-recovered  WSAS10  0.024221  1.020861   \n",
       "4         UWS             0  Non-recovered  WSAS11  0.023570  1.116612   \n",
       "5         MCS             0  Non-recovered  WSAS12  0.023890  0.905420   \n",
       "6         UWS             0  Non-recovered  WSAS13  0.023967  0.815346   \n",
       "7        Coma             0  Non-recovered  WSAS17  0.017042  0.815962   \n",
       "8         UWS             0  Non-recovered  WSAS18  0.019688  1.127676   \n",
       "10        UWS             1      Recovered  WSAS20  0.026574  1.137479   \n",
       "11        UWS             0  Non-recovered  WSAS22  0.018033  0.681887   \n",
       "12        UWS             0  Non-recovered  WSAS25  0.015587  1.052380   \n",
       "13        UWS             1      Recovered  WSAS27  0.031107  1.067179   \n",
       "14        MCS             1      Recovered  WSAS28  0.040103  1.208406   \n",
       "15       Coma             0  Non-recovered  WSAS29  0.013035  0.949283   \n",
       "\n",
       "    dirhub_ARI  \n",
       "0     0.194829  \n",
       "1     0.331827  \n",
       "2     1.352848  \n",
       "3     0.357689  \n",
       "4     0.412443  \n",
       "5     0.458246  \n",
       "6     0.445385  \n",
       "7     0.171083  \n",
       "8     0.457895  \n",
       "10    0.662575  \n",
       "11    0.382020  \n",
       "12    0.609471  \n",
       "13    1.195994  \n",
       "14    1.222233  \n",
       "15    0.317966  "
      ]
     },
     "execution_count": 53,
     "metadata": {},
     "output_type": "execute_result"
    }
   ],
   "source": [
    "data"
   ]
  },
  {
   "cell_type": "code",
   "execution_count": 54,
   "metadata": {
    "colab": {},
    "colab_type": "code",
    "executionInfo": {
     "elapsed": 1032,
     "status": "ok",
     "timestamp": 1597432079392,
     "user": {
      "displayName": "lotte o",
      "photoUrl": "",
      "userId": "09078078803801089148"
     },
     "user_tz": 240
    },
    "id": "64RSzTf1WPeJ"
   },
   "outputs": [],
   "source": [
    "ID=data['ID']"
   ]
  },
  {
   "cell_type": "code",
   "execution_count": 55,
   "metadata": {
    "colab": {},
    "colab_type": "code",
    "executionInfo": {
     "elapsed": 1030,
     "status": "ok",
     "timestamp": 1597432079395,
     "user": {
      "displayName": "lotte o",
      "photoUrl": "",
      "userId": "09078078803801089148"
     },
     "user_tz": 240
    },
    "id": "c1tv2dv4Xe5R"
   },
   "outputs": [],
   "source": [
    "dPLI=data['dPLI_ARI']"
   ]
  },
  {
   "cell_type": "code",
   "execution_count": 56,
   "metadata": {
    "colab": {},
    "colab_type": "code",
    "executionInfo": {
     "elapsed": 1029,
     "status": "ok",
     "timestamp": 1597432079398,
     "user": {
      "displayName": "lotte o",
      "photoUrl": "",
      "userId": "09078078803801089148"
     },
     "user_tz": 240
    },
    "id": "UTM8CDf9YQTt"
   },
   "outputs": [],
   "source": [
    "Hub=data['Hub_ARI']"
   ]
  },
  {
   "cell_type": "code",
   "execution_count": 57,
   "metadata": {
    "colab": {},
    "colab_type": "code",
    "executionInfo": {
     "elapsed": 1025,
     "status": "ok",
     "timestamp": 1597432079400,
     "user": {
      "displayName": "lotte o",
      "photoUrl": "",
      "userId": "09078078803801089148"
     },
     "user_tz": 240
    },
    "id": "ZOGoXmPnZRd5"
   },
   "outputs": [],
   "source": [
    "Outcome=data['Outcome_Prog']\n",
    "Diagnose=data['Outcome_Diag']\n",
    "CRSR=data['CRSR']"
   ]
  },
  {
   "cell_type": "code",
   "execution_count": 58,
   "metadata": {
    "colab": {},
    "colab_type": "code",
    "executionInfo": {
     "elapsed": 1020,
     "status": "ok",
     "timestamp": 1597432079404,
     "user": {
      "displayName": "lotte o",
      "photoUrl": "",
      "userId": "09078078803801089148"
     },
     "user_tz": 240
    },
    "id": "cebIqcauZWHv"
   },
   "outputs": [],
   "source": [
    "data= np.stack((ID, dPLI, Hub, Outcome,Diagnose,CRSR),axis=1)"
   ]
  },
  {
   "cell_type": "markdown",
   "metadata": {
    "colab_type": "text",
    "id": "guqrqhyJve7g"
   },
   "source": [
    "I need to adapt the dataformat here into float and ineger (otherwise the numbers will be represented as a category)"
   ]
  },
  {
   "cell_type": "code",
   "execution_count": 59,
   "metadata": {
    "colab": {},
    "colab_type": "code",
    "executionInfo": {
     "elapsed": 1017,
     "status": "ok",
     "timestamp": 1597432079406,
     "user": {
      "displayName": "lotte o",
      "photoUrl": "",
      "userId": "09078078803801089148"
     },
     "user_tz": 240
    },
    "id": "ksWIQR_lZnAB"
   },
   "outputs": [],
   "source": [
    "data=pd.DataFrame(data)\n",
    "data.columns=['ID','dPLI','Hub','Outcome','Diagnose','CRSR']\n",
    "data['dPLI']=data['dPLI'].astype(float)\n",
    "data['Hub']=data['Hub'].astype(float)\n",
    "data['Outcome']=data['Outcome'].astype(int)\n",
    "data['Diagnose']=data['Diagnose'].astype(int)\n",
    "data['CRSR']=data['CRSR'].astype(int)\n"
   ]
  },
  {
   "cell_type": "markdown",
   "metadata": {
    "colab_type": "text",
    "id": "PeolhGnSvryT"
   },
   "source": [
    "This is how the data looks like"
   ]
  },
  {
   "cell_type": "code",
   "execution_count": 60,
   "metadata": {},
   "outputs": [
    {
     "data": {
      "text/html": [
       "<div>\n",
       "<style scoped>\n",
       "    .dataframe tbody tr th:only-of-type {\n",
       "        vertical-align: middle;\n",
       "    }\n",
       "\n",
       "    .dataframe tbody tr th {\n",
       "        vertical-align: top;\n",
       "    }\n",
       "\n",
       "    .dataframe thead th {\n",
       "        text-align: right;\n",
       "    }\n",
       "</style>\n",
       "<table border=\"1\" class=\"dataframe\">\n",
       "  <thead>\n",
       "    <tr style=\"text-align: right;\">\n",
       "      <th></th>\n",
       "      <th>ID</th>\n",
       "      <th>dPLI</th>\n",
       "      <th>Hub</th>\n",
       "      <th>Outcome</th>\n",
       "      <th>Diagnose</th>\n",
       "      <th>CRSR</th>\n",
       "    </tr>\n",
       "  </thead>\n",
       "  <tbody>\n",
       "    <tr>\n",
       "      <th>0</th>\n",
       "      <td>WSAS02</td>\n",
       "      <td>0.026312</td>\n",
       "      <td>1.235972</td>\n",
       "      <td>1</td>\n",
       "      <td>1</td>\n",
       "      <td>4</td>\n",
       "    </tr>\n",
       "    <tr>\n",
       "      <th>1</th>\n",
       "      <td>WSAS05</td>\n",
       "      <td>0.019862</td>\n",
       "      <td>1.145439</td>\n",
       "      <td>0</td>\n",
       "      <td>2</td>\n",
       "      <td>10</td>\n",
       "    </tr>\n",
       "    <tr>\n",
       "      <th>2</th>\n",
       "      <td>WSAS09</td>\n",
       "      <td>0.065431</td>\n",
       "      <td>1.075923</td>\n",
       "      <td>1</td>\n",
       "      <td>1</td>\n",
       "      <td>4</td>\n",
       "    </tr>\n",
       "    <tr>\n",
       "      <th>3</th>\n",
       "      <td>WSAS10</td>\n",
       "      <td>0.024221</td>\n",
       "      <td>1.020861</td>\n",
       "      <td>0</td>\n",
       "      <td>1</td>\n",
       "      <td>5</td>\n",
       "    </tr>\n",
       "    <tr>\n",
       "      <th>4</th>\n",
       "      <td>WSAS11</td>\n",
       "      <td>0.023570</td>\n",
       "      <td>1.116612</td>\n",
       "      <td>0</td>\n",
       "      <td>1</td>\n",
       "      <td>6</td>\n",
       "    </tr>\n",
       "    <tr>\n",
       "      <th>5</th>\n",
       "      <td>WSAS12</td>\n",
       "      <td>0.023890</td>\n",
       "      <td>0.905420</td>\n",
       "      <td>0</td>\n",
       "      <td>2</td>\n",
       "      <td>11</td>\n",
       "    </tr>\n",
       "    <tr>\n",
       "      <th>6</th>\n",
       "      <td>WSAS13</td>\n",
       "      <td>0.023967</td>\n",
       "      <td>0.815346</td>\n",
       "      <td>0</td>\n",
       "      <td>1</td>\n",
       "      <td>5</td>\n",
       "    </tr>\n",
       "    <tr>\n",
       "      <th>7</th>\n",
       "      <td>WSAS17</td>\n",
       "      <td>0.017042</td>\n",
       "      <td>0.815962</td>\n",
       "      <td>0</td>\n",
       "      <td>0</td>\n",
       "      <td>0</td>\n",
       "    </tr>\n",
       "    <tr>\n",
       "      <th>8</th>\n",
       "      <td>WSAS18</td>\n",
       "      <td>0.019688</td>\n",
       "      <td>1.127676</td>\n",
       "      <td>0</td>\n",
       "      <td>1</td>\n",
       "      <td>5</td>\n",
       "    </tr>\n",
       "    <tr>\n",
       "      <th>9</th>\n",
       "      <td>WSAS20</td>\n",
       "      <td>0.026574</td>\n",
       "      <td>1.137479</td>\n",
       "      <td>1</td>\n",
       "      <td>1</td>\n",
       "      <td>3</td>\n",
       "    </tr>\n",
       "    <tr>\n",
       "      <th>10</th>\n",
       "      <td>WSAS22</td>\n",
       "      <td>0.018033</td>\n",
       "      <td>0.681887</td>\n",
       "      <td>0</td>\n",
       "      <td>1</td>\n",
       "      <td>5</td>\n",
       "    </tr>\n",
       "    <tr>\n",
       "      <th>11</th>\n",
       "      <td>WSAS25</td>\n",
       "      <td>0.015587</td>\n",
       "      <td>1.052380</td>\n",
       "      <td>0</td>\n",
       "      <td>1</td>\n",
       "      <td>2</td>\n",
       "    </tr>\n",
       "    <tr>\n",
       "      <th>12</th>\n",
       "      <td>WSAS27</td>\n",
       "      <td>0.031107</td>\n",
       "      <td>1.067179</td>\n",
       "      <td>1</td>\n",
       "      <td>1</td>\n",
       "      <td>5</td>\n",
       "    </tr>\n",
       "    <tr>\n",
       "      <th>13</th>\n",
       "      <td>WSAS28</td>\n",
       "      <td>0.040103</td>\n",
       "      <td>1.208406</td>\n",
       "      <td>1</td>\n",
       "      <td>2</td>\n",
       "      <td>7</td>\n",
       "    </tr>\n",
       "    <tr>\n",
       "      <th>14</th>\n",
       "      <td>WSAS29</td>\n",
       "      <td>0.013035</td>\n",
       "      <td>0.949283</td>\n",
       "      <td>0</td>\n",
       "      <td>0</td>\n",
       "      <td>0</td>\n",
       "    </tr>\n",
       "  </tbody>\n",
       "</table>\n",
       "</div>"
      ],
      "text/plain": [
       "        ID      dPLI       Hub  Outcome  Diagnose  CRSR\n",
       "0   WSAS02  0.026312  1.235972        1         1     4\n",
       "1   WSAS05  0.019862  1.145439        0         2    10\n",
       "2   WSAS09  0.065431  1.075923        1         1     4\n",
       "3   WSAS10  0.024221  1.020861        0         1     5\n",
       "4   WSAS11  0.023570  1.116612        0         1     6\n",
       "5   WSAS12  0.023890  0.905420        0         2    11\n",
       "6   WSAS13  0.023967  0.815346        0         1     5\n",
       "7   WSAS17  0.017042  0.815962        0         0     0\n",
       "8   WSAS18  0.019688  1.127676        0         1     5\n",
       "9   WSAS20  0.026574  1.137479        1         1     3\n",
       "10  WSAS22  0.018033  0.681887        0         1     5\n",
       "11  WSAS25  0.015587  1.052380        0         1     2\n",
       "12  WSAS27  0.031107  1.067179        1         1     5\n",
       "13  WSAS28  0.040103  1.208406        1         2     7\n",
       "14  WSAS29  0.013035  0.949283        0         0     0"
      ]
     },
     "execution_count": 60,
     "metadata": {},
     "output_type": "execute_result"
    }
   ],
   "source": [
    "data"
   ]
  },
  {
   "cell_type": "code",
   "execution_count": 61,
   "metadata": {},
   "outputs": [
    {
     "data": {
      "text/plain": [
       "[Text(0, 0, 'Non-recovered'), Text(1, 0, 'Recovered')]"
      ]
     },
     "execution_count": 61,
     "metadata": {},
     "output_type": "execute_result"
    },
    {
     "data": {
      "image/png": "[encoded data removed]",
      "text/plain": [
       "<Figure size 640x480 with 1 Axes>"
      ]
     },
     "metadata": {},
     "output_type": "display_data"
    }
   ],
   "source": [
    "\n",
    "ax = sns.boxplot(x=\"Outcome\", y=\"dPLI\", data=data)\n",
    "sns.swarmplot(x=\"Outcome\", y=\"dPLI\", data=data, color=\".25\", size = 6)\n",
    "ax.set_title('dPLI_DRI')\n",
    "ax.set_xticklabels(['Non-recovered','Recovered'])"
   ]
  },
  {
   "cell_type": "code",
   "execution_count": 62,
   "metadata": {
    "scrolled": true
   },
   "outputs": [
    {
     "data": {
      "text/plain": [
       "[Text(0, 0, 'Non-recovered'), Text(1, 0, 'Recovered')]"
      ]
     },
     "execution_count": 62,
     "metadata": {},
     "output_type": "execute_result"
    },
    {
     "data": {
      "image/png": "[encoded data removed]",
      "text/plain": [
       "<Figure size 640x480 with 1 Axes>"
      ]
     },
     "metadata": {},
     "output_type": "display_data"
    }
   ],
   "source": [
    "\n",
    "ax = sns.boxplot(x=\"Outcome\", y=\"Hub\", data=data)\n",
    "sns.swarmplot(x=\"Outcome\", y=\"Hub\", data=data,color=\".25\",size = 6)\n",
    "ax.set_title('Hub_DRI')\n",
    "ax.set_xticklabels(['Non-recovered','Recovered'])"
   ]
  },
  {
   "cell_type": "markdown",
   "metadata": {},
   "source": [
    "# Standardize the Data, show new data and plot"
   ]
  },
  {
   "cell_type": "code",
   "execution_count": 63,
   "metadata": {},
   "outputs": [],
   "source": [
    "X = data[['dPLI','Hub']]\n",
    "scaler = preprocessing.StandardScaler()\n",
    "X_stand = pd.DataFrame(scaler.fit_transform(X))\n",
    "X_stand.columns=X.columns\n"
   ]
  },
  {
   "cell_type": "code",
   "execution_count": 64,
   "metadata": {},
   "outputs": [
    {
     "data": {
      "text/html": [
       "<div>\n",
       "<style scoped>\n",
       "    .dataframe tbody tr th:only-of-type {\n",
       "        vertical-align: middle;\n",
       "    }\n",
       "\n",
       "    .dataframe tbody tr th {\n",
       "        vertical-align: top;\n",
       "    }\n",
       "\n",
       "    .dataframe thead th {\n",
       "        text-align: right;\n",
       "    }\n",
       "</style>\n",
       "<table border=\"1\" class=\"dataframe\">\n",
       "  <thead>\n",
       "    <tr style=\"text-align: right;\">\n",
       "      <th></th>\n",
       "      <th>ID</th>\n",
       "      <th>dPLI</th>\n",
       "      <th>Hub</th>\n",
       "      <th>Outcome</th>\n",
       "      <th>Diagnose</th>\n",
       "      <th>CRSR</th>\n",
       "      <th>ARI</th>\n",
       "    </tr>\n",
       "  </thead>\n",
       "  <tbody>\n",
       "    <tr>\n",
       "      <th>0</th>\n",
       "      <td>WSAS02</td>\n",
       "      <td>0.033749</td>\n",
       "      <td>1.380145</td>\n",
       "      <td>1</td>\n",
       "      <td>1</td>\n",
       "      <td>4</td>\n",
       "      <td>1.413894</td>\n",
       "    </tr>\n",
       "    <tr>\n",
       "      <th>1</th>\n",
       "      <td>WSAS05</td>\n",
       "      <td>-0.487635</td>\n",
       "      <td>0.791457</td>\n",
       "      <td>0</td>\n",
       "      <td>2</td>\n",
       "      <td>10</td>\n",
       "      <td>0.303822</td>\n",
       "    </tr>\n",
       "    <tr>\n",
       "      <th>2</th>\n",
       "      <td>WSAS09</td>\n",
       "      <td>3.196005</td>\n",
       "      <td>0.339437</td>\n",
       "      <td>1</td>\n",
       "      <td>1</td>\n",
       "      <td>4</td>\n",
       "      <td>3.535441</td>\n",
       "    </tr>\n",
       "    <tr>\n",
       "      <th>3</th>\n",
       "      <td>WSAS10</td>\n",
       "      <td>-0.135333</td>\n",
       "      <td>-0.018602</td>\n",
       "      <td>0</td>\n",
       "      <td>1</td>\n",
       "      <td>5</td>\n",
       "      <td>-0.153935</td>\n",
       "    </tr>\n",
       "    <tr>\n",
       "      <th>4</th>\n",
       "      <td>WSAS11</td>\n",
       "      <td>-0.187970</td>\n",
       "      <td>0.604011</td>\n",
       "      <td>0</td>\n",
       "      <td>1</td>\n",
       "      <td>6</td>\n",
       "      <td>0.416041</td>\n",
       "    </tr>\n",
       "    <tr>\n",
       "      <th>5</th>\n",
       "      <td>WSAS12</td>\n",
       "      <td>-0.162084</td>\n",
       "      <td>-0.769250</td>\n",
       "      <td>0</td>\n",
       "      <td>2</td>\n",
       "      <td>11</td>\n",
       "      <td>-0.931333</td>\n",
       "    </tr>\n",
       "    <tr>\n",
       "      <th>6</th>\n",
       "      <td>WSAS13</td>\n",
       "      <td>-0.155847</td>\n",
       "      <td>-1.354948</td>\n",
       "      <td>0</td>\n",
       "      <td>1</td>\n",
       "      <td>5</td>\n",
       "      <td>-1.510796</td>\n",
       "    </tr>\n",
       "    <tr>\n",
       "      <th>7</th>\n",
       "      <td>WSAS17</td>\n",
       "      <td>-0.715672</td>\n",
       "      <td>-1.350942</td>\n",
       "      <td>0</td>\n",
       "      <td>0</td>\n",
       "      <td>0</td>\n",
       "      <td>-2.066614</td>\n",
       "    </tr>\n",
       "    <tr>\n",
       "      <th>8</th>\n",
       "      <td>WSAS18</td>\n",
       "      <td>-0.501709</td>\n",
       "      <td>0.675954</td>\n",
       "      <td>0</td>\n",
       "      <td>1</td>\n",
       "      <td>5</td>\n",
       "      <td>0.174244</td>\n",
       "    </tr>\n",
       "    <tr>\n",
       "      <th>9</th>\n",
       "      <td>WSAS20</td>\n",
       "      <td>0.054922</td>\n",
       "      <td>0.739697</td>\n",
       "      <td>1</td>\n",
       "      <td>1</td>\n",
       "      <td>3</td>\n",
       "      <td>0.794619</td>\n",
       "    </tr>\n",
       "    <tr>\n",
       "      <th>10</th>\n",
       "      <td>WSAS22</td>\n",
       "      <td>-0.635523</td>\n",
       "      <td>-2.222757</td>\n",
       "      <td>0</td>\n",
       "      <td>1</td>\n",
       "      <td>5</td>\n",
       "      <td>-2.858280</td>\n",
       "    </tr>\n",
       "    <tr>\n",
       "      <th>11</th>\n",
       "      <td>WSAS25</td>\n",
       "      <td>-0.833268</td>\n",
       "      <td>0.186351</td>\n",
       "      <td>0</td>\n",
       "      <td>1</td>\n",
       "      <td>2</td>\n",
       "      <td>-0.646917</td>\n",
       "    </tr>\n",
       "    <tr>\n",
       "      <th>12</th>\n",
       "      <td>WSAS27</td>\n",
       "      <td>0.421376</td>\n",
       "      <td>0.282581</td>\n",
       "      <td>1</td>\n",
       "      <td>1</td>\n",
       "      <td>5</td>\n",
       "      <td>0.703957</td>\n",
       "    </tr>\n",
       "    <tr>\n",
       "      <th>13</th>\n",
       "      <td>WSAS28</td>\n",
       "      <td>1.148520</td>\n",
       "      <td>1.200896</td>\n",
       "      <td>1</td>\n",
       "      <td>2</td>\n",
       "      <td>7</td>\n",
       "      <td>2.349416</td>\n",
       "    </tr>\n",
       "    <tr>\n",
       "      <th>14</th>\n",
       "      <td>WSAS29</td>\n",
       "      <td>-1.039531</td>\n",
       "      <td>-0.484029</td>\n",
       "      <td>0</td>\n",
       "      <td>0</td>\n",
       "      <td>0</td>\n",
       "      <td>-1.523560</td>\n",
       "    </tr>\n",
       "  </tbody>\n",
       "</table>\n",
       "</div>"
      ],
      "text/plain": [
       "        ID      dPLI       Hub  Outcome  Diagnose  CRSR       ARI\n",
       "0   WSAS02  0.033749  1.380145        1         1     4  1.413894\n",
       "1   WSAS05 -0.487635  0.791457        0         2    10  0.303822\n",
       "2   WSAS09  3.196005  0.339437        1         1     4  3.535441\n",
       "3   WSAS10 -0.135333 -0.018602        0         1     5 -0.153935\n",
       "4   WSAS11 -0.187970  0.604011        0         1     6  0.416041\n",
       "5   WSAS12 -0.162084 -0.769250        0         2    11 -0.931333\n",
       "6   WSAS13 -0.155847 -1.354948        0         1     5 -1.510796\n",
       "7   WSAS17 -0.715672 -1.350942        0         0     0 -2.066614\n",
       "8   WSAS18 -0.501709  0.675954        0         1     5  0.174244\n",
       "9   WSAS20  0.054922  0.739697        1         1     3  0.794619\n",
       "10  WSAS22 -0.635523 -2.222757        0         1     5 -2.858280\n",
       "11  WSAS25 -0.833268  0.186351        0         1     2 -0.646917\n",
       "12  WSAS27  0.421376  0.282581        1         1     5  0.703957\n",
       "13  WSAS28  1.148520  1.200896        1         2     7  2.349416\n",
       "14  WSAS29 -1.039531 -0.484029        0         0     0 -1.523560"
      ]
     },
     "execution_count": 64,
     "metadata": {},
     "output_type": "execute_result"
    }
   ],
   "source": [
    "data_stand = data.copy()\n",
    "data_stand['Hub']= X_stand['Hub'].copy()\n",
    "data_stand['dPLI']= X_stand['dPLI'].copy()\n",
    "data_stand['ARI']=data_stand['dPLI']+data_stand['Hub']\n",
    "data_stand"
   ]
  },
  {
   "cell_type": "markdown",
   "metadata": {},
   "source": [
    "# Perform Logistic Regression"
   ]
  },
  {
   "cell_type": "code",
   "execution_count": 65,
   "metadata": {},
   "outputs": [],
   "source": [
    "X_stand = data_stand[['dPLI','Hub']]\n",
    "Y = data_stand['Outcome']"
   ]
  },
  {
   "cell_type": "code",
   "execution_count": 98,
   "metadata": {},
   "outputs": [
    {
     "data": {
      "text/plain": [
       "1.0"
      ]
     },
     "execution_count": 98,
     "metadata": {},
     "output_type": "execute_result"
    }
   ],
   "source": [
    "c = 10\n",
    "clf1 = LogisticRegression(random_state=0,penalty='l2',C = c).fit(X_stand, Y)\n",
    "preds = clf1.predict(X_stand)\n",
    "accuracy_score(Y,preds)\n"
   ]
  },
  {
   "cell_type": "code",
   "execution_count": 99,
   "metadata": {},
   "outputs": [
    {
     "data": {
      "text/plain": [
       "15"
      ]
     },
     "execution_count": 99,
     "metadata": {},
     "output_type": "execute_result"
    }
   ],
   "source": [
    "# implement LOSO\n",
    "loo = LeaveOneOut()\n",
    "loo.get_n_splits(X_stand)"
   ]
  },
  {
   "cell_type": "code",
   "execution_count": 100,
   "metadata": {},
   "outputs": [
    {
     "name": "stdout",
     "output_type": "stream",
     "text": [
      "TRAIN: [ 1  2  3  4  5  6  7  8  9 10 11 12 13 14] TEST: [0]\n",
      "LOSO Accuracy:   1.0\n",
      "TRAIN: [ 0  2  3  4  5  6  7  8  9 10 11 12 13 14] TEST: [1]\n",
      "LOSO Accuracy:   1.0\n",
      "TRAIN: [ 0  1  3  4  5  6  7  8  9 10 11 12 13 14] TEST: [2]\n",
      "LOSO Accuracy:   1.0\n",
      "TRAIN: [ 0  1  2  4  5  6  7  8  9 10 11 12 13 14] TEST: [3]\n",
      "LOSO Accuracy:   1.0\n",
      "TRAIN: [ 0  1  2  3  5  6  7  8  9 10 11 12 13 14] TEST: [4]\n",
      "LOSO Accuracy:   1.0\n",
      "TRAIN: [ 0  1  2  3  4  6  7  8  9 10 11 12 13 14] TEST: [5]\n",
      "LOSO Accuracy:   1.0\n",
      "TRAIN: [ 0  1  2  3  4  5  7  8  9 10 11 12 13 14] TEST: [6]\n",
      "LOSO Accuracy:   1.0\n",
      "TRAIN: [ 0  1  2  3  4  5  6  8  9 10 11 12 13 14] TEST: [7]\n",
      "LOSO Accuracy:   1.0\n",
      "TRAIN: [ 0  1  2  3  4  5  6  7  9 10 11 12 13 14] TEST: [8]\n",
      "LOSO Accuracy:   1.0\n",
      "TRAIN: [ 0  1  2  3  4  5  6  7  8 10 11 12 13 14] TEST: [9]\n",
      "LOSO Accuracy:   0.0\n",
      "TRAIN: [ 0  1  2  3  4  5  6  7  8  9 11 12 13 14] TEST: [10]\n",
      "LOSO Accuracy:   1.0\n",
      "TRAIN: [ 0  1  2  3  4  5  6  7  8  9 10 12 13 14] TEST: [11]\n",
      "LOSO Accuracy:   1.0\n",
      "TRAIN: [ 0  1  2  3  4  5  6  7  8  9 10 11 13 14] TEST: [12]\n",
      "LOSO Accuracy:   0.0\n",
      "TRAIN: [ 0  1  2  3  4  5  6  7  8  9 10 11 12 14] TEST: [13]\n",
      "LOSO Accuracy:   1.0\n",
      "TRAIN: [ 0  1  2  3  4  5  6  7  8  9 10 11 12 13] TEST: [14]\n",
      "LOSO Accuracy:   1.0\n"
     ]
    }
   ],
   "source": [
    "LOSO_scores = []\n",
    "Preds = []\n",
    "for train_index, test_index in loo.split(X_stand):\n",
    "    print(\"TRAIN:\", train_index, \"TEST:\", test_index)\n",
    "    X_train, X_test = X_stand.iloc[train_index], X_stand.iloc[test_index]\n",
    "    y_train, y_test = Y[train_index], Y[test_index]\n",
    "    #print(X_train, X_test, y_train, y_test)\n",
    "    clf = LogisticRegression(random_state=0,penalty='l2', C = c).fit(X_train, y_train)\n",
    "    pred = clf.predict(X_test)\n",
    "    Preds.append(pred[0])\n",
    "    acc = clf.score(X_test, y_test)\n",
    "    print('LOSO Accuracy:  ', acc)\n",
    "    LOSO_scores.append(acc)"
   ]
  },
  {
   "cell_type": "code",
   "execution_count": 101,
   "metadata": {},
   "outputs": [
    {
     "name": "stdout",
     "output_type": "stream",
     "text": [
      "Overall LOSO Accuracy:   0.8666666666666667\n"
     ]
    }
   ],
   "source": [
    "#Mean LOSO Score\n",
    "print('Overall LOSO Accuracy:  ', np.mean(LOSO_scores))"
   ]
  },
  {
   "cell_type": "code",
   "execution_count": 102,
   "metadata": {},
   "outputs": [
    {
     "data": {
      "image/png": "[encoded data removed]",
      "text/plain": [
       "<Figure size 640x480 with 1 Axes>"
      ]
     },
     "metadata": {},
     "output_type": "display_data"
    }
   ],
   "source": [
    "# Plot Model \n",
    "\n",
    "# Retrieve the model parameters.\n",
    "b = clf1.intercept_[0]\n",
    "w1, w2 = clf1.coef_.T\n",
    "# Calculate the intercept and gradient of the decision boundary.\n",
    "c = -b/w2\n",
    "m = -w1/w2\n",
    "\n",
    "# Plot the data and the classification with the decision boundary.\n",
    "xmin, xmax = -1.3,3.5\n",
    "ymin, ymax = -3, 2\n",
    "#xmin, xmax = -0.2, 0.2\n",
    "#ymin, ymax = 0, 2.5\n",
    "\n",
    "xd = np.array([xmin, xmax])\n",
    "yd = m*xd + c\n",
    "plt.plot(xd, yd, 'k', lw=1, ls='--')\n",
    "plt.fill_between(xd, yd, ymin, color='tab:orange', alpha=0.2)\n",
    "plt.fill_between(xd, yd, ymax, color='tab:blue', alpha=0.2)\n",
    "\n",
    "plt.scatter(X_stand['dPLI'][Y==1],X_stand['Hub'][Y==1], s = 30)\n",
    "plt.scatter(X_stand['dPLI'][Y==0],X_stand['Hub'][Y==0], s = 30)\n",
    "plt.xlim(xmin, xmax)\n",
    "plt.ylim(ymin, ymax)\n",
    "plt.ylabel('Standardized Hub Reconfiguration', fontsize = 12)\n",
    "plt.xlabel('Standardized dPLI Reconfiguration', fontsize = 12)\n",
    "plt.tick_params(axis='both', which='major', labelsize=12)\n",
    "\n",
    "plt.show()"
   ]
  },
  {
   "cell_type": "code",
   "execution_count": 97,
   "metadata": {},
   "outputs": [
    {
     "name": "stdout",
     "output_type": "stream",
     "text": [
      "Confusion Matrix : \n",
      " [[10  0]\n",
      " [ 2  3]]\n",
      "Accuracy :  0.8666666666666667\n",
      "Sensitivity :  1.0\n",
      "Specificity :  0.6\n"
     ]
    }
   ],
   "source": [
    "#Confusion matrix, Accuracy, sensitivity and specificity\n",
    "from sklearn.metrics import confusion_matrix\n",
    "\n",
    "cm1 = confusion_matrix(Y,Preds)\n",
    "print('Confusion Matrix : \\n', cm1)\n",
    "\n",
    "total1=sum(sum(cm1))\n",
    "#####from confusion matrix calculate accuracy\n",
    "accuracy1=(cm1[0,0]+cm1[1,1])/total1\n",
    "print ('Accuracy : ', accuracy1)\n",
    "\n",
    "sensitivity1 = cm1[0,0]/(cm1[0,0]+cm1[0,1])\n",
    "print('Sensitivity : ', sensitivity1 )\n",
    "\n",
    "specificity1 = cm1[1,1]/(cm1[1,0]+cm1[1,1])\n",
    "print('Specificity : ', specificity1)"
   ]
  },
  {
   "cell_type": "code",
   "execution_count": 72,
   "metadata": {
    "scrolled": false
   },
   "outputs": [
    {
     "name": "stderr",
     "output_type": "stream",
     "text": [
      "/Users/charlotte/.pyenv/versions/3.8.12/lib/python3.8/site-packages/sklearn/base.py:450: UserWarning: X does not have valid feature names, but LogisticRegression was fitted with feature names\n",
      "  warnings.warn(\n"
     ]
    },
    {
     "data": {
      "image/png": "[encoded data removed]",
      "text/plain": [
       "<Figure size 640x480 with 2 Axes>"
      ]
     },
     "metadata": {},
     "output_type": "display_data"
    }
   ],
   "source": [
    "# Plot Model differently \n",
    "\n",
    "fig = plt.figure()\n",
    "# Plot the data and the classification with the decision boundary.\n",
    "xmin, xmax = -1.5, 3.2\n",
    "ymin, ymax = -2, 2.5\n",
    "\n",
    "# define the x and y scale\n",
    "x1grid = np.arange(xmin, xmax, 0.1)\n",
    "x2grid = np.arange(ymin, ymax, 0.1)\n",
    "# create all of the lines and rows of the grid\n",
    "xx, yy = np.meshgrid(x1grid, x2grid)\n",
    "# flatten each grid to a vector\n",
    "r1, r2 = xx.flatten(), yy.flatten()\n",
    "r1, r2 = r1.reshape((len(r1), 1)), r2.reshape((len(r2), 1))\n",
    "\n",
    "# horizontal stack vectors to create x1,x2 input for the model\n",
    "grid = np.hstack((r1,r2))\n",
    "# define the model\n",
    "model = LogisticRegression()\n",
    "# fit the model\n",
    "model.fit(X_stand, Y)\n",
    "# make predictions for the grid\n",
    "yhat = model.predict_proba(grid)\n",
    "# keep just the probabilities for class 0\n",
    "yhat = yhat[:, 0]\n",
    "# reshape the predictions back into a grid\n",
    "zz = yhat.reshape(xx.shape)*100\n",
    "# plot the grid of x, y and z values as a surface\n",
    "c = plt.contourf(xx, yy, zz, cmap='RdBu',alpha= 0.3)\n",
    "# add a legend, called a color bar\n",
    "plt.colorbar(c)\n",
    "# create scatter plot for samples from each class\n",
    "\n",
    "# create scatter of these samples\n",
    "plt.scatter(X_stand['dPLI'][Y == 0], X_stand['Hub'][Y == 0], color = 'Blue',s = 50)\n",
    "plt.scatter(X_stand['dPLI'][Y == 1], X_stand['Hub'][Y == 1], color = 'Red',s = 50)\n",
    "\n",
    "# show the plot\n",
    "plt.show()"
   ]
  },
  {
   "cell_type": "code",
   "execution_count": 73,
   "metadata": {},
   "outputs": [
    {
     "data": {
      "text/plain": [
       "<matplotlib.legend.Legend at 0x294197e50>"
      ]
     },
     "execution_count": 73,
     "metadata": {},
     "output_type": "execute_result"
    },
    {
     "data": {
      "image/png": "[encoded data removed]",
      "text/plain": [
       "<Figure size 640x480 with 1 Axes>"
      ]
     },
     "metadata": {},
     "output_type": "display_data"
    }
   ],
   "source": [
    "# GET ROC AUC\n",
    "y_score = clf1.predict_proba(X_stand)[:,1]\n",
    "# Compute ROC curve and ROC area for each class\n",
    "fpr = dict()\n",
    "tpr = dict()\n",
    "roc_auc = dict()\n",
    "\n",
    "fpr, tpr, _ = metrics.roc_curve(Y, y_score, pos_label=1)\n",
    "roc_auc = auc(fpr, tpr)\n",
    "plt.plot(fpr, tpr, color='darkorange',label='ROC curve (area = %0.2f)' % roc_auc)\n",
    "plt.plot([0, 1], [0, 1], color='navy', linestyle='--')\n",
    "plt.xlim([-0.05, 1.0])\n",
    "plt.ylim([-0.05, 1.05])\n",
    "plt.xlabel('False Positive Rate')\n",
    "plt.ylabel('True Positive Rate')\n",
    "plt.title('Receiver operating characteristic for LOG REG')\n",
    "plt.legend(loc=\"lower right\")\n"
   ]
  }
 ],
 "metadata": {
  "colab": {
   "collapsed_sections": [],
   "name": "K-Means_dPLI_Hub_SET-1&2.ipynb",
   "provenance": []
  },
  "kernelspec": {
   "display_name": "Python 3 (ipykernel)",
   "language": "python",
   "name": "python3"
  },
  "language_info": {
   "codemirror_mode": {
    "name": "ipython",
    "version": 3
   },
   "file_extension": ".py",
   "mimetype": "text/x-python",
   "name": "python",
   "nbconvert_exporter": "python",
   "pygments_lexer": "ipython3",
   "version": "3.8.12"
  }
 },
 "nbformat": 4,
 "nbformat_minor": 1
}
