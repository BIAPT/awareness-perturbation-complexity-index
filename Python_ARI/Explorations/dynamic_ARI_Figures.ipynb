{
 "cells": [
  {
   "cell_type": "code",
   "execution_count": null,
   "id": "157f9264",
   "metadata": {},
   "outputs": [],
   "source": [
    "import matplotlib.pyplot as plt\n",
    "import pandas as pd\n",
    "import numpy as np\n",
    "import seaborn as sns\n",
    "import pickle\n",
    "import mne\n",
    "import json\n",
    "import warnings\n",
    "warnings.filterwarnings('ignore')"
   ]
  },
  {
   "cell_type": "code",
   "execution_count": null,
   "id": "75a94731",
   "metadata": {},
   "outputs": [],
   "source": [
    "def smooth(y, box_pts):\n",
    "    box = np.ones(box_pts)/box_pts\n",
    "    y_smooth = np.convolve(y, box, mode='same')\n",
    "    return y_smooth"
   ]
  },
  {
   "cell_type": "code",
   "execution_count": null,
   "id": "16b019c2",
   "metadata": {},
   "outputs": [],
   "source": [
    "#IDS: sub-WSAS09,10,11,12,13,20,25,27,28,29\n",
    "ID = \"20\""
   ]
  },
  {
   "cell_type": "code",
   "execution_count": null,
   "id": "a604a42d",
   "metadata": {},
   "outputs": [],
   "source": [
    "# load data\n",
    "with open(f\"RESULTS/WSAS_new/ARI_dynamic_alpha_WSAS{ID}.txt\", \"r\") as fp:\n",
    "    # Load the dictionary from the file\n",
    "    data = json.load(fp)\n",
    "\n",
    "dPLI_ARI_Indu = data['dPLI_ARI_Indu']\n",
    "Hub_ARI_Indu = data['Hub_ARI_Indu']\n",
    "\n",
    "dPLI_ARI_Anes = data['dPLI_ARI_Anes']\n",
    "Hub_ARI_Anes = data['Hub_ARI_Anes']\n",
    "\n",
    "\n",
    "dPLI_ARI_Emer = data['dPLI_ARI_Emer']\n",
    "Hub_ARI_Emer = data['Hub_ARI_Emer']\n",
    "\n",
    "dPLI_ARI_Reco = data['dPLI_ARI_Reco']\n",
    "Hub_ARI_Reco = data['Hub_ARI_Reco']\n",
    "\n",
    "conc_dpli_ARI = np.concatenate((dPLI_ARI_Indu,dPLI_ARI_Anes,dPLI_ARI_Emer,dPLI_ARI_Reco))\n",
    "conc_Hub_ARI = np.concatenate((Hub_ARI_Indu,Hub_ARI_Anes,Hub_ARI_Emer,Hub_ARI_Reco))\n",
    "len(conc_Hub_ARI)"
   ]
  },
  {
   "cell_type": "code",
   "execution_count": null,
   "id": "e5387434",
   "metadata": {},
   "outputs": [],
   "source": [
    "start_Anes = len(dPLI_ARI_Indu)\n",
    "start_Emer = len(dPLI_ARI_Indu)+len(dPLI_ARI_Anes)\n",
    "start_Reco = len(dPLI_ARI_Indu)+len(dPLI_ARI_Anes)+len(dPLI_ARI_Emer)\n"
   ]
  },
  {
   "cell_type": "code",
   "execution_count": null,
   "id": "4f9ea770",
   "metadata": {},
   "outputs": [],
   "source": [
    "plt.figure(figsize=(15,7))\n",
    "data_tmp = conc_dpli_ARI\n",
    "\n",
    "plt.axvspan(0,start_Anes, facecolor='yellow', alpha=0.2)\n",
    "plt.axvspan(start_Anes,start_Emer, facecolor='orange', alpha=0.2)\n",
    "plt.axvspan(start_Emer,start_Reco, facecolor='yellow', alpha=0.2)\n",
    "plt.axvspan(start_Reco,len(data_tmp), facecolor='green', alpha=0.2)\n",
    "\n",
    "plt.plot(data_tmp, alpha = 1)\n",
    "\n",
    "#plt.xlim(3, len(data)-3)\n",
    "plt.xlabel(\"time\")\n",
    "plt.ylabel('dPLI_ARI')\n",
    "plt.ylim(0,0.2)\n",
    "\n",
    "plt.title(f'subject_{ID}', fontsize = 15)\n",
    "plt.savefig(f'FIGURES/dPLI_ARI_subject_{ID}.png',dpi=300)"
   ]
  },
  {
   "cell_type": "code",
   "execution_count": null,
   "id": "9ecb2678",
   "metadata": {},
   "outputs": [],
   "source": [
    "plt.figure(figsize=(15,7))\n",
    "data_tmp = conc_Hub_ARI\n",
    "\n",
    "plt.axvspan(0,start_Anes, facecolor='yellow', alpha=0.2)\n",
    "plt.axvspan(start_Anes,start_Emer, facecolor='orange', alpha=0.2)\n",
    "plt.axvspan(start_Emer,start_Reco, facecolor='yellow', alpha=0.2)\n",
    "plt.axvspan(start_Reco,len(data_tmp), facecolor='green', alpha=0.2)\n",
    "\n",
    "plt.plot(data_tmp, alpha = 1)\n",
    "\n",
    "#plt.xlim(3, len(data)-3)\n",
    "plt.xlabel(\"time\")\n",
    "plt.ylabel('HUB_ARI')\n",
    "plt.ylim(0,2)\n",
    "\n",
    "plt.title(f'subject_{ID}', fontsize = 15)\n",
    "plt.savefig(f'FIGURES/Hub_ARI_subject_{ID}.png',dpi=300)"
   ]
  }
 ],
 "metadata": {
  "kernelspec": {
   "display_name": "Python 3 (ipykernel)",
   "language": "python",
   "name": "python3"
  },
  "language_info": {
   "codemirror_mode": {
    "name": "ipython",
    "version": 3
   },
   "file_extension": ".py",
   "mimetype": "text/x-python",
   "name": "python",
   "nbconvert_exporter": "python",
   "pygments_lexer": "ipython3",
   "version": "3.8.12"
  }
 },
 "nbformat": 4,
 "nbformat_minor": 5
}
