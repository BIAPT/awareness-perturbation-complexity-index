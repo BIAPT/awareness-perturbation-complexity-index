{
 "cells": [
  {
   "cell_type": "code",
   "execution_count": null,
   "id": "577d0148",
   "metadata": {},
   "outputs": [],
   "source": [
    "%%javascript\n",
    "IPython.OutputArea.prototype._should_scroll = function(lines) {\n",
    "    return false;\n",
    "}"
   ]
  },
  {
   "cell_type": "code",
   "execution_count": null,
   "id": "6ea5c32e",
   "metadata": {},
   "outputs": [],
   "source": [
    "import matplotlib.pyplot as plt\n",
    "import seaborn as sns\n",
    "import pandas as pd\n",
    "import numpy as np\n",
    "from scipy.stats import pearsonr, kendalltau\n"
   ]
  },
  {
   "cell_type": "code",
   "execution_count": null,
   "id": "76c89048",
   "metadata": {},
   "outputs": [],
   "source": [
    "#data_dir = 'RESULTS/WSAS/ARI_3states_alpha.txt'\n",
    "data_dir = 'RESULTS/WSAS/2state_ARI_Base_Anes_alpha.txt'\n",
    "patient_information = 'DATA/data_original/data_2states.txt'\n",
    "\n",
    "#data_dir = 'RESULTS/WSAS_new/ARI_max_2states_alpha.txt'\n",
    "#patient_information = 'DATA/continuous_derivative_WSAS/data_dyn_states.txt'\n",
    "\n",
    "#data_dir = 'RESULTS/NETICU/2state_ARI_Sedon1_Sedoff_alpha.txt'\n",
    "#patient_information = 'DATA/NET-ICU_derivative_standard/data_2states.txt'\n"
   ]
  },
  {
   "cell_type": "code",
   "execution_count": null,
   "id": "751b9771",
   "metadata": {
    "scrolled": true
   },
   "outputs": [],
   "source": [
    "# load patient info\n",
    "info = pd.read_csv(patient_information, sep = '\\t')\n",
    "info"
   ]
  },
  {
   "cell_type": "code",
   "execution_count": null,
   "id": "82487f63",
   "metadata": {},
   "outputs": [],
   "source": [
    "# load data\n",
    "features = pd.read_csv(data_dir, sep = ',')\n",
    "features['ARI'] = features['Hub_ARI'] + features['dPLI_ARI']\n",
    "features"
   ]
  },
  {
   "cell_type": "code",
   "execution_count": null,
   "id": "c545b0ee",
   "metadata": {},
   "outputs": [],
   "source": [
    "data = pd.concat([info, features], axis = 1)\n",
    "data_outcome = data[data['Group_Prog']!='Unknown']"
   ]
  },
  {
   "cell_type": "code",
   "execution_count": null,
   "id": "8be3a24b",
   "metadata": {},
   "outputs": [],
   "source": [
    "plt.figure(figsize = (7,5))\n",
    "sns.scatterplot(y = 'Hub_ARI', x = 'dPLI_ARI', data = data, hue='Group_Prog',style=\"State\", s = 100)\n",
    "\n",
    "plt.ylabel('Hub Reconfiguration', fontsize = 12)\n",
    "plt.xlabel('dPLI Reconfiguration', fontsize = 12)\n",
    "plt.tick_params(axis='both', which='major', labelsize=12)\n",
    "plt.legend(fontsize = 10)\n",
    "\n",
    "for i  in range(len(data)):\n",
    "    plt.annotate(data['ID'][i][-2:], (data['dPLI_ARI'][i], data['Hub_ARI'][i]), fontsize = 8)\n",
    "\n",
    "#plt.title('2-state ARI [Pre-Anesthesia/Anesthesia]\\n', fontsize = 20)"
   ]
  },
  {
   "cell_type": "code",
   "execution_count": null,
   "id": "53c527d2",
   "metadata": {},
   "outputs": [],
   "source": [
    "plt.figure(figsize = (8,5))\n",
    "sns.scatterplot(x = 'dPLI_ARI', y = 'Hub_ARI', data = data, hue='Group_Prog', s = 100)\n",
    "\n",
    "plt.ylabel('wPLI Hub Reconfiguration', fontsize = 20)\n",
    "plt.xlabel('dPLI Hub Reconfiguration', fontsize = 20)\n",
    "plt.tick_params(axis='both', which='major', labelsize=15)\n",
    "plt.legend(fontsize = 15)\n",
    "\n",
    "for i  in range(len(data)):\n",
    "    plt.annotate(data['ID'][i][-2:], (data['dPLI_ARI'][i], data['Hub_ARI'][i]), fontsize = 10)\n"
   ]
  },
  {
   "cell_type": "code",
   "execution_count": null,
   "id": "3f605e16",
   "metadata": {},
   "outputs": [],
   "source": [
    "sns.boxplot(y = 'ARI', x = 'Group_Prog', data = data_outcome)\n",
    "sns.scatterplot(y = 'ARI', x = 'Group_Prog', data = data_outcome, color ='black', s = 50)\n"
   ]
  },
  {
   "cell_type": "code",
   "execution_count": null,
   "id": "5684a791",
   "metadata": {},
   "outputs": [],
   "source": [
    "sns.boxplot(y = 'Hub_ARI', x = 'Group_Prog', data = data_outcome)\n",
    "sns.scatterplot(y = 'Hub_ARI', x = 'Group_Prog', data = data_outcome, color ='black', s = 50)\n"
   ]
  }
 ],
 "metadata": {
  "kernelspec": {
   "display_name": "Python 3 (ipykernel)",
   "language": "python",
   "name": "python3"
  },
  "language_info": {
   "codemirror_mode": {
    "name": "ipython",
    "version": 3
   },
   "file_extension": ".py",
   "mimetype": "text/x-python",
   "name": "python",
   "nbconvert_exporter": "python",
   "pygments_lexer": "ipython3",
   "version": "3.8.12"
  }
 },
 "nbformat": 4,
 "nbformat_minor": 5
}
