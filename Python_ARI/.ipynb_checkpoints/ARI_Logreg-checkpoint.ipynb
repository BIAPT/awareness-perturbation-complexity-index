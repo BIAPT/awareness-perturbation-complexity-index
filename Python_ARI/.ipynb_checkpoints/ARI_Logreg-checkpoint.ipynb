{
 "cells": [
  {
   "cell_type": "code",
   "execution_count": null,
   "metadata": {
    "colab": {},
    "colab_type": "code",
    "executionInfo": {
     "elapsed": 1036,
     "status": "ok",
     "timestamp": 1597432079387,
     "user": {
      "displayName": "lotte o",
      "photoUrl": "",
      "userId": "09078078803801089148"
     },
     "user_tz": 240
    },
    "id": "fLSO0VYJZYUj"
   },
   "outputs": [],
   "source": [
    "#  import some packages\n",
    "import pandas as pd\n",
    "import numpy as np\n",
    "import matplotlib.pyplot as plt\n",
    "from sklearn import preprocessing\n",
    "from sklearn.metrics import roc_curve, auc\n",
    "import numpy as np\n",
    "from sklearn import metrics\n",
    "import seaborn as sns\n",
    "from sklearn.linear_model import LogisticRegression\n",
    "from sklearn.metrics import accuracy_score\n",
    "from sklearn.model_selection import LeaveOneOut"
   ]
  },
  {
   "cell_type": "markdown",
   "metadata": {
    "colab_type": "text",
    "id": "0dMJpe-WWgJ9"
   },
   "source": [
    "#  import data and specify patient diagnose and outcome"
   ]
  },
  {
   "cell_type": "code",
   "execution_count": null,
   "metadata": {},
   "outputs": [],
   "source": [
    "#info = pd.read_csv('data/data_2states.txt', sep = '\\t')\n",
    "#features = pd.read_table('results/2state_ARI.txt',sep = ',')\n",
    "\n",
    "info = pd.read_csv('data/data_2states.txt', sep = '\\t')\n",
    "features = pd.read_table('results/2state_ARI.txt',sep = ',')\n",
    "\n",
    "data = pd.concat([info, features], axis = 1)\n",
    "# drop unknown measures\n",
    "data = data.drop(data[(data.Outcome_Prog == 3)].index)"
   ]
  },
  {
   "cell_type": "code",
   "execution_count": null,
   "metadata": {},
   "outputs": [],
   "source": [
    "data"
   ]
  },
  {
   "cell_type": "code",
   "execution_count": null,
   "metadata": {
    "colab": {},
    "colab_type": "code",
    "executionInfo": {
     "elapsed": 1032,
     "status": "ok",
     "timestamp": 1597432079392,
     "user": {
      "displayName": "lotte o",
      "photoUrl": "",
      "userId": "09078078803801089148"
     },
     "user_tz": 240
    },
    "id": "64RSzTf1WPeJ"
   },
   "outputs": [],
   "source": [
    "ID=data['ID']"
   ]
  },
  {
   "cell_type": "code",
   "execution_count": null,
   "metadata": {
    "colab": {},
    "colab_type": "code",
    "executionInfo": {
     "elapsed": 1030,
     "status": "ok",
     "timestamp": 1597432079395,
     "user": {
      "displayName": "lotte o",
      "photoUrl": "",
      "userId": "09078078803801089148"
     },
     "user_tz": 240
    },
    "id": "c1tv2dv4Xe5R"
   },
   "outputs": [],
   "source": [
    "dPLI=data['dPLI_ARI']"
   ]
  },
  {
   "cell_type": "code",
   "execution_count": null,
   "metadata": {
    "colab": {},
    "colab_type": "code",
    "executionInfo": {
     "elapsed": 1029,
     "status": "ok",
     "timestamp": 1597432079398,
     "user": {
      "displayName": "lotte o",
      "photoUrl": "",
      "userId": "09078078803801089148"
     },
     "user_tz": 240
    },
    "id": "UTM8CDf9YQTt"
   },
   "outputs": [],
   "source": [
    "Hub=data['Hub_ARI']"
   ]
  },
  {
   "cell_type": "code",
   "execution_count": null,
   "metadata": {
    "colab": {},
    "colab_type": "code",
    "executionInfo": {
     "elapsed": 1025,
     "status": "ok",
     "timestamp": 1597432079400,
     "user": {
      "displayName": "lotte o",
      "photoUrl": "",
      "userId": "09078078803801089148"
     },
     "user_tz": 240
    },
    "id": "ZOGoXmPnZRd5"
   },
   "outputs": [],
   "source": [
    "Outcome=data['Outcome_Prog']\n",
    "Diagnose=data['Outcome_Diag']\n",
    "CRSR=data['CRSR']"
   ]
  },
  {
   "cell_type": "code",
   "execution_count": null,
   "metadata": {
    "colab": {},
    "colab_type": "code",
    "executionInfo": {
     "elapsed": 1020,
     "status": "ok",
     "timestamp": 1597432079404,
     "user": {
      "displayName": "lotte o",
      "photoUrl": "",
      "userId": "09078078803801089148"
     },
     "user_tz": 240
    },
    "id": "cebIqcauZWHv"
   },
   "outputs": [],
   "source": [
    "data= np.stack((ID, dPLI, Hub, Outcome,Diagnose,CRSR),axis=1)"
   ]
  },
  {
   "cell_type": "markdown",
   "metadata": {
    "colab_type": "text",
    "id": "guqrqhyJve7g"
   },
   "source": [
    "I need to adapt the dataformat here into float and ineger (otherwise the numbers will be represented as a category)"
   ]
  },
  {
   "cell_type": "code",
   "execution_count": null,
   "metadata": {
    "colab": {},
    "colab_type": "code",
    "executionInfo": {
     "elapsed": 1017,
     "status": "ok",
     "timestamp": 1597432079406,
     "user": {
      "displayName": "lotte o",
      "photoUrl": "",
      "userId": "09078078803801089148"
     },
     "user_tz": 240
    },
    "id": "ksWIQR_lZnAB"
   },
   "outputs": [],
   "source": [
    "data=pd.DataFrame(data)\n",
    "data.columns=['ID','dPLI','Hub','Outcome','Diagnose','CRSR']\n",
    "data['dPLI']=data['dPLI'].astype(float)\n",
    "data['Hub']=data['Hub'].astype(float)\n",
    "data['Outcome']=data['Outcome'].astype(int)\n",
    "data['Diagnose']=data['Diagnose'].astype(int)\n",
    "data['CRSR']=data['CRSR'].astype(int)\n"
   ]
  },
  {
   "cell_type": "markdown",
   "metadata": {
    "colab_type": "text",
    "id": "PeolhGnSvryT"
   },
   "source": [
    "This is how the data looks like"
   ]
  },
  {
   "cell_type": "code",
   "execution_count": null,
   "metadata": {},
   "outputs": [],
   "source": [
    "data"
   ]
  },
  {
   "cell_type": "code",
   "execution_count": null,
   "metadata": {},
   "outputs": [],
   "source": [
    "\n",
    "ax = sns.boxplot(x=\"Outcome\", y=\"dPLI\", data=data)\n",
    "sns.swarmplot(x=\"Outcome\", y=\"dPLI\", data=data, color=\".25\", size = 6)\n",
    "ax.set_title('dPLI_DRI')\n",
    "ax.set_xticklabels(['Non-recovered','Recovered'])"
   ]
  },
  {
   "cell_type": "code",
   "execution_count": null,
   "metadata": {
    "scrolled": true
   },
   "outputs": [],
   "source": [
    "\n",
    "ax = sns.boxplot(x=\"Outcome\", y=\"Hub\", data=data)\n",
    "sns.swarmplot(x=\"Outcome\", y=\"Hub\", data=data,color=\".25\",size = 6)\n",
    "ax.set_title('Hub_DRI')\n",
    "ax.set_xticklabels(['Non-recovered','Recovered'])"
   ]
  },
  {
   "cell_type": "markdown",
   "metadata": {},
   "source": [
    "# Standardize the Data, show new data and plot"
   ]
  },
  {
   "cell_type": "code",
   "execution_count": null,
   "metadata": {},
   "outputs": [],
   "source": [
    "X = data[['dPLI','Hub']]\n",
    "scaler = preprocessing.StandardScaler()\n",
    "X_stand = pd.DataFrame(scaler.fit_transform(X))\n",
    "X_stand.columns=X.columns\n"
   ]
  },
  {
   "cell_type": "code",
   "execution_count": null,
   "metadata": {},
   "outputs": [],
   "source": [
    "data_stand = data.copy()\n",
    "data_stand['Hub']= X_stand['Hub'].copy()\n",
    "data_stand['dPLI']= X_stand['dPLI'].copy()\n",
    "data_stand['ARI']=data_stand['dPLI']+data_stand['Hub']\n",
    "data_stand"
   ]
  },
  {
   "cell_type": "markdown",
   "metadata": {},
   "source": [
    "# Perform Logistic Regression"
   ]
  },
  {
   "cell_type": "code",
   "execution_count": null,
   "metadata": {},
   "outputs": [],
   "source": [
    "X_stand = data_stand[['dPLI','Hub']]\n",
    "Y = data_stand['Outcome']"
   ]
  },
  {
   "cell_type": "code",
   "execution_count": null,
   "metadata": {},
   "outputs": [],
   "source": [
    "c = 10\n",
    "clf1 = LogisticRegression(random_state=0,penalty='l2',C = c).fit(X_stand, Y)\n",
    "preds = clf1.predict(X_stand)\n",
    "accuracy_score(Y,preds)\n"
   ]
  },
  {
   "cell_type": "code",
   "execution_count": null,
   "metadata": {},
   "outputs": [],
   "source": [
    "# implement LOSO\n",
    "loo = LeaveOneOut()\n",
    "loo.get_n_splits(X_stand)"
   ]
  },
  {
   "cell_type": "code",
   "execution_count": null,
   "metadata": {},
   "outputs": [],
   "source": [
    "LOSO_scores = []\n",
    "Preds = []\n",
    "for train_index, test_index in loo.split(X_stand):\n",
    "    print(\"TRAIN:\", train_index, \"TEST:\", test_index)\n",
    "    X_train, X_test = X_stand.iloc[train_index], X_stand.iloc[test_index]\n",
    "    y_train, y_test = Y[train_index], Y[test_index]\n",
    "    #print(X_train, X_test, y_train, y_test)\n",
    "    clf = LogisticRegression(random_state=0,penalty='l2', C = c).fit(X_train, y_train)\n",
    "    pred = clf.predict(X_test)\n",
    "    Preds.append(pred[0])\n",
    "    acc = clf.score(X_test, y_test)\n",
    "    print('LOSO Accuracy:  ', acc)\n",
    "    LOSO_scores.append(acc)"
   ]
  },
  {
   "cell_type": "code",
   "execution_count": null,
   "metadata": {},
   "outputs": [],
   "source": [
    "#Mean LOSO Score\n",
    "print('Overall LOSO Accuracy:  ', np.mean(LOSO_scores))"
   ]
  },
  {
   "cell_type": "code",
   "execution_count": null,
   "metadata": {},
   "outputs": [],
   "source": [
    "# Plot Model \n",
    "\n",
    "# Retrieve the model parameters.\n",
    "b = clf1.intercept_[0]\n",
    "w1, w2 = clf1.coef_.T\n",
    "# Calculate the intercept and gradient of the decision boundary.\n",
    "c = -b/w2\n",
    "m = -w1/w2\n",
    "\n",
    "# Plot the data and the classification with the decision boundary.\n",
    "xmin, xmax = -1.3,3.5\n",
    "ymin, ymax = -3, 2\n",
    "#xmin, xmax = -0.2, 0.2\n",
    "#ymin, ymax = 0, 2.5\n",
    "\n",
    "xd = np.array([xmin, xmax])\n",
    "yd = m*xd + c\n",
    "plt.plot(xd, yd, 'k', lw=1, ls='--')\n",
    "plt.fill_between(xd, yd, ymin, color='tab:orange', alpha=0.2)\n",
    "plt.fill_between(xd, yd, ymax, color='tab:blue', alpha=0.2)\n",
    "\n",
    "plt.scatter(X_stand['dPLI'][Y==1],X_stand['Hub'][Y==1], s = 30)\n",
    "plt.scatter(X_stand['dPLI'][Y==0],X_stand['Hub'][Y==0], s = 30)\n",
    "plt.xlim(xmin, xmax)\n",
    "plt.ylim(ymin, ymax)\n",
    "plt.ylabel('Standardized Hub Reconfiguration', fontsize = 12)\n",
    "plt.xlabel('Standardized dPLI Reconfiguration', fontsize = 12)\n",
    "plt.tick_params(axis='both', which='major', labelsize=12)\n",
    "\n",
    "plt.show()"
   ]
  },
  {
   "cell_type": "code",
   "execution_count": null,
   "metadata": {},
   "outputs": [],
   "source": [
    "#Confusion matrix, Accuracy, sensitivity and specificity\n",
    "from sklearn.metrics import confusion_matrix\n",
    "\n",
    "cm1 = confusion_matrix(Y,Preds)\n",
    "print('Confusion Matrix : \\n', cm1)\n",
    "\n",
    "total1=sum(sum(cm1))\n",
    "#####from confusion matrix calculate accuracy\n",
    "accuracy1=(cm1[0,0]+cm1[1,1])/total1\n",
    "print ('Accuracy : ', accuracy1)\n",
    "\n",
    "sensitivity1 = cm1[0,0]/(cm1[0,0]+cm1[0,1])\n",
    "print('Sensitivity : ', sensitivity1 )\n",
    "\n",
    "specificity1 = cm1[1,1]/(cm1[1,0]+cm1[1,1])\n",
    "print('Specificity : ', specificity1)"
   ]
  },
  {
   "cell_type": "code",
   "execution_count": null,
   "metadata": {
    "scrolled": false
   },
   "outputs": [],
   "source": [
    "# Plot Model differently \n",
    "\n",
    "fig = plt.figure()\n",
    "# Plot the data and the classification with the decision boundary.\n",
    "xmin, xmax = -1.5, 3.2\n",
    "ymin, ymax = -2, 2.5\n",
    "\n",
    "# define the x and y scale\n",
    "x1grid = np.arange(xmin, xmax, 0.1)\n",
    "x2grid = np.arange(ymin, ymax, 0.1)\n",
    "# create all of the lines and rows of the grid\n",
    "xx, yy = np.meshgrid(x1grid, x2grid)\n",
    "# flatten each grid to a vector\n",
    "r1, r2 = xx.flatten(), yy.flatten()\n",
    "r1, r2 = r1.reshape((len(r1), 1)), r2.reshape((len(r2), 1))\n",
    "\n",
    "# horizontal stack vectors to create x1,x2 input for the model\n",
    "grid = np.hstack((r1,r2))\n",
    "# define the model\n",
    "model = LogisticRegression()\n",
    "# fit the model\n",
    "model.fit(X_stand, Y)\n",
    "# make predictions for the grid\n",
    "yhat = model.predict_proba(grid)\n",
    "# keep just the probabilities for class 0\n",
    "yhat = yhat[:, 0]\n",
    "# reshape the predictions back into a grid\n",
    "zz = yhat.reshape(xx.shape)*100\n",
    "# plot the grid of x, y and z values as a surface\n",
    "c = plt.contourf(xx, yy, zz, cmap='RdBu',alpha= 0.3)\n",
    "# add a legend, called a color bar\n",
    "plt.colorbar(c)\n",
    "# create scatter plot for samples from each class\n",
    "\n",
    "# create scatter of these samples\n",
    "plt.scatter(X_stand['dPLI'][Y == 0], X_stand['Hub'][Y == 0], color = 'Blue',s = 50)\n",
    "plt.scatter(X_stand['dPLI'][Y == 1], X_stand['Hub'][Y == 1], color = 'Red',s = 50)\n",
    "\n",
    "# show the plot\n",
    "plt.show()"
   ]
  },
  {
   "cell_type": "code",
   "execution_count": null,
   "metadata": {},
   "outputs": [],
   "source": [
    "# GET ROC AUC\n",
    "y_score = clf1.predict_proba(X_stand)[:,1]\n",
    "# Compute ROC curve and ROC area for each class\n",
    "fpr = dict()\n",
    "tpr = dict()\n",
    "roc_auc = dict()\n",
    "\n",
    "fpr, tpr, _ = metrics.roc_curve(Y, y_score, pos_label=1)\n",
    "roc_auc = auc(fpr, tpr)\n",
    "plt.plot(fpr, tpr, color='darkorange',label='ROC curve (area = %0.2f)' % roc_auc)\n",
    "plt.plot([0, 1], [0, 1], color='navy', linestyle='--')\n",
    "plt.xlim([-0.05, 1.0])\n",
    "plt.ylim([-0.05, 1.05])\n",
    "plt.xlabel('False Positive Rate')\n",
    "plt.ylabel('True Positive Rate')\n",
    "plt.title('Receiver operating characteristic for LOG REG')\n",
    "plt.legend(loc=\"lower right\")\n"
   ]
  }
 ],
 "metadata": {
  "colab": {
   "collapsed_sections": [],
   "name": "K-Means_dPLI_Hub_SET-1&2.ipynb",
   "provenance": []
  },
  "kernelspec": {
   "display_name": "Python 3 (ipykernel)",
   "language": "python",
   "name": "python3"
  },
  "language_info": {
   "codemirror_mode": {
    "name": "ipython",
    "version": 3
   },
   "file_extension": ".py",
   "mimetype": "text/x-python",
   "name": "python",
   "nbconvert_exporter": "python",
   "pygments_lexer": "ipython3",
   "version": "3.8.12"
  }
 },
 "nbformat": 4,
 "nbformat_minor": 1
}
