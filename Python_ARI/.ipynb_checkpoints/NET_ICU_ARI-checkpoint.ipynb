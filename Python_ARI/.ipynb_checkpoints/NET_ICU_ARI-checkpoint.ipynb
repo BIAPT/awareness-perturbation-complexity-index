{
 "cells": [
  {
   "cell_type": "code",
   "execution_count": 1,
   "id": "577d0148",
   "metadata": {},
   "outputs": [
    {
     "data": {
      "application/javascript": [
       "IPython.OutputArea.prototype._should_scroll = function(lines) {\n",
       "    return false;\n",
       "}\n"
      ],
      "text/plain": [
       "<IPython.core.display.Javascript object>"
      ]
     },
     "metadata": {},
     "output_type": "display_data"
    }
   ],
   "source": [
    "%%javascript\n",
    "IPython.OutputArea.prototype._should_scroll = function(lines) {\n",
    "    return false;\n",
    "}"
   ]
  },
  {
   "cell_type": "code",
   "execution_count": 2,
   "id": "6ea5c32e",
   "metadata": {},
   "outputs": [],
   "source": [
    "import matplotlib.pyplot as plt\n",
    "import seaborn as sns\n",
    "import pandas as pd\n",
    "import numpy as np\n",
    "from scipy.stats import pearsonr, kendalltau\n"
   ]
  },
  {
   "cell_type": "code",
   "execution_count": 3,
   "id": "76c89048",
   "metadata": {},
   "outputs": [],
   "source": [
    "data_dir = 'results/ARI.txt'\n",
    "patient_information = 'data/data_3states.txt'\n"
   ]
  },
  {
   "cell_type": "code",
   "execution_count": 4,
   "id": "751b9771",
   "metadata": {
    "scrolled": true
   },
   "outputs": [
    {
     "data": {
      "text/html": [
       "<div>\n",
       "<style scoped>\n",
       "    .dataframe tbody tr th:only-of-type {\n",
       "        vertical-align: middle;\n",
       "    }\n",
       "\n",
       "    .dataframe tbody tr th {\n",
       "        vertical-align: top;\n",
       "    }\n",
       "\n",
       "    .dataframe thead th {\n",
       "        text-align: right;\n",
       "    }\n",
       "</style>\n",
       "<table border=\"1\" class=\"dataframe\">\n",
       "  <thead>\n",
       "    <tr style=\"text-align: right;\">\n",
       "      <th></th>\n",
       "      <th>Patient</th>\n",
       "      <th>Diag</th>\n",
       "      <th>Age</th>\n",
       "      <th>Sex</th>\n",
       "      <th>Injury</th>\n",
       "      <th>TSI</th>\n",
       "      <th>State</th>\n",
       "      <th>CRSR</th>\n",
       "      <th>Outcome_Diag</th>\n",
       "      <th>Group_Diag</th>\n",
       "      <th>Outcome_Prog</th>\n",
       "      <th>Group_Prog</th>\n",
       "    </tr>\n",
       "  </thead>\n",
       "  <tbody>\n",
       "    <tr>\n",
       "      <th>0</th>\n",
       "      <td>WSAS02</td>\n",
       "      <td>UWS</td>\n",
       "      <td>29</td>\n",
       "      <td>M</td>\n",
       "      <td>TBI</td>\n",
       "      <td>-</td>\n",
       "      <td>Acute</td>\n",
       "      <td>4</td>\n",
       "      <td>1</td>\n",
       "      <td>UWS</td>\n",
       "      <td>1</td>\n",
       "      <td>Recovered</td>\n",
       "    </tr>\n",
       "    <tr>\n",
       "      <th>1</th>\n",
       "      <td>WSAS05</td>\n",
       "      <td>MCS</td>\n",
       "      <td>28</td>\n",
       "      <td>M</td>\n",
       "      <td>TBI</td>\n",
       "      <td>9 Y</td>\n",
       "      <td>Chronic</td>\n",
       "      <td>10</td>\n",
       "      <td>2</td>\n",
       "      <td>MCS</td>\n",
       "      <td>3</td>\n",
       "      <td>Non-recovered</td>\n",
       "    </tr>\n",
       "    <tr>\n",
       "      <th>2</th>\n",
       "      <td>WSAS09</td>\n",
       "      <td>UWS</td>\n",
       "      <td>50</td>\n",
       "      <td>F</td>\n",
       "      <td>Stroke</td>\n",
       "      <td>25 D</td>\n",
       "      <td>Acute</td>\n",
       "      <td>4</td>\n",
       "      <td>1</td>\n",
       "      <td>UWS</td>\n",
       "      <td>1</td>\n",
       "      <td>Recovered</td>\n",
       "    </tr>\n",
       "    <tr>\n",
       "      <th>3</th>\n",
       "      <td>WSAS10</td>\n",
       "      <td>UWS</td>\n",
       "      <td>75</td>\n",
       "      <td>F</td>\n",
       "      <td>Stroke</td>\n",
       "      <td>NaN</td>\n",
       "      <td>Acute</td>\n",
       "      <td>5</td>\n",
       "      <td>1</td>\n",
       "      <td>UWS</td>\n",
       "      <td>0</td>\n",
       "      <td>Non-recovered</td>\n",
       "    </tr>\n",
       "    <tr>\n",
       "      <th>4</th>\n",
       "      <td>WSAS11</td>\n",
       "      <td>UWS</td>\n",
       "      <td>28</td>\n",
       "      <td>F</td>\n",
       "      <td>Anoxic</td>\n",
       "      <td>1Y</td>\n",
       "      <td>Chronic</td>\n",
       "      <td>6</td>\n",
       "      <td>1</td>\n",
       "      <td>UWS</td>\n",
       "      <td>0</td>\n",
       "      <td>Non-recovered</td>\n",
       "    </tr>\n",
       "    <tr>\n",
       "      <th>5</th>\n",
       "      <td>WSAS12</td>\n",
       "      <td>MCS</td>\n",
       "      <td>36</td>\n",
       "      <td>F</td>\n",
       "      <td>TBI</td>\n",
       "      <td>2Y</td>\n",
       "      <td>Chronic</td>\n",
       "      <td>11</td>\n",
       "      <td>2</td>\n",
       "      <td>MCS</td>\n",
       "      <td>0</td>\n",
       "      <td>Non-recovered</td>\n",
       "    </tr>\n",
       "    <tr>\n",
       "      <th>6</th>\n",
       "      <td>WSAS13</td>\n",
       "      <td>UWS</td>\n",
       "      <td>24</td>\n",
       "      <td>M</td>\n",
       "      <td>Anoxic</td>\n",
       "      <td>8Y</td>\n",
       "      <td>Chronic</td>\n",
       "      <td>5</td>\n",
       "      <td>1</td>\n",
       "      <td>UWS</td>\n",
       "      <td>0</td>\n",
       "      <td>Non-recovered</td>\n",
       "    </tr>\n",
       "    <tr>\n",
       "      <th>7</th>\n",
       "      <td>WSAS18</td>\n",
       "      <td>UWS</td>\n",
       "      <td>53</td>\n",
       "      <td>F</td>\n",
       "      <td>Anoxic</td>\n",
       "      <td>9M</td>\n",
       "      <td>Chronic</td>\n",
       "      <td>5</td>\n",
       "      <td>1</td>\n",
       "      <td>UWS</td>\n",
       "      <td>0</td>\n",
       "      <td>Non-recovered</td>\n",
       "    </tr>\n",
       "    <tr>\n",
       "      <th>8</th>\n",
       "      <td>WSAS19</td>\n",
       "      <td>Coma</td>\n",
       "      <td>40</td>\n",
       "      <td>M</td>\n",
       "      <td>Stroke</td>\n",
       "      <td>5D</td>\n",
       "      <td>Acute</td>\n",
       "      <td>0</td>\n",
       "      <td>0</td>\n",
       "      <td>Coma</td>\n",
       "      <td>3</td>\n",
       "      <td>Unknown</td>\n",
       "    </tr>\n",
       "    <tr>\n",
       "      <th>9</th>\n",
       "      <td>WSAS20</td>\n",
       "      <td>UWS</td>\n",
       "      <td>42</td>\n",
       "      <td>F</td>\n",
       "      <td>Stroke</td>\n",
       "      <td>20D</td>\n",
       "      <td>Acute</td>\n",
       "      <td>3</td>\n",
       "      <td>1</td>\n",
       "      <td>UWS</td>\n",
       "      <td>1</td>\n",
       "      <td>Recovered</td>\n",
       "    </tr>\n",
       "    <tr>\n",
       "      <th>10</th>\n",
       "      <td>WSAS22</td>\n",
       "      <td>UWS</td>\n",
       "      <td>18</td>\n",
       "      <td>F</td>\n",
       "      <td>TBI</td>\n",
       "      <td>20D</td>\n",
       "      <td>Acute</td>\n",
       "      <td>5</td>\n",
       "      <td>1</td>\n",
       "      <td>UWS</td>\n",
       "      <td>0</td>\n",
       "      <td>Non-recovered</td>\n",
       "    </tr>\n",
       "    <tr>\n",
       "      <th>11</th>\n",
       "      <td>WSAS25</td>\n",
       "      <td>UWS</td>\n",
       "      <td>66</td>\n",
       "      <td>M</td>\n",
       "      <td>ICH</td>\n",
       "      <td>3D</td>\n",
       "      <td>Acute</td>\n",
       "      <td>2</td>\n",
       "      <td>1</td>\n",
       "      <td>UWS</td>\n",
       "      <td>0</td>\n",
       "      <td>Non-recovered</td>\n",
       "    </tr>\n",
       "    <tr>\n",
       "      <th>12</th>\n",
       "      <td>WSAS27</td>\n",
       "      <td>UWS</td>\n",
       "      <td>38</td>\n",
       "      <td>F</td>\n",
       "      <td>ICH</td>\n",
       "      <td>24D</td>\n",
       "      <td>Acute</td>\n",
       "      <td>5</td>\n",
       "      <td>1</td>\n",
       "      <td>UWS</td>\n",
       "      <td>1</td>\n",
       "      <td>Recovered</td>\n",
       "    </tr>\n",
       "    <tr>\n",
       "      <th>13</th>\n",
       "      <td>WSAS28</td>\n",
       "      <td>MCS</td>\n",
       "      <td>38</td>\n",
       "      <td>F</td>\n",
       "      <td>ICH</td>\n",
       "      <td>23D</td>\n",
       "      <td>Acute</td>\n",
       "      <td>7</td>\n",
       "      <td>2</td>\n",
       "      <td>MCS</td>\n",
       "      <td>3</td>\n",
       "      <td>Recovered</td>\n",
       "    </tr>\n",
       "    <tr>\n",
       "      <th>14</th>\n",
       "      <td>WSAS29</td>\n",
       "      <td>Coma</td>\n",
       "      <td>74</td>\n",
       "      <td>F</td>\n",
       "      <td>ICH</td>\n",
       "      <td>33D</td>\n",
       "      <td>Acute</td>\n",
       "      <td>0</td>\n",
       "      <td>0</td>\n",
       "      <td>Coma</td>\n",
       "      <td>3</td>\n",
       "      <td>Unknown</td>\n",
       "    </tr>\n",
       "  </tbody>\n",
       "</table>\n",
       "</div>"
      ],
      "text/plain": [
       "   Patient  Diag  Age Sex  Injury   TSI    State  CRSR  Outcome_Diag  \\\n",
       "0   WSAS02   UWS   29   M     TBI     -    Acute     4             1   \n",
       "1   WSAS05   MCS   28   M     TBI   9 Y  Chronic    10             2   \n",
       "2   WSAS09   UWS   50   F  Stroke  25 D    Acute     4             1   \n",
       "3   WSAS10   UWS   75   F  Stroke   NaN    Acute     5             1   \n",
       "4   WSAS11   UWS   28   F  Anoxic    1Y  Chronic     6             1   \n",
       "5   WSAS12   MCS   36   F     TBI    2Y  Chronic    11             2   \n",
       "6   WSAS13   UWS   24   M  Anoxic    8Y  Chronic     5             1   \n",
       "7   WSAS18   UWS   53   F  Anoxic    9M  Chronic     5             1   \n",
       "8   WSAS19  Coma   40   M  Stroke    5D    Acute     0             0   \n",
       "9   WSAS20   UWS   42   F  Stroke   20D    Acute     3             1   \n",
       "10  WSAS22   UWS   18   F     TBI   20D    Acute     5             1   \n",
       "11  WSAS25   UWS   66   M     ICH    3D    Acute     2             1   \n",
       "12  WSAS27   UWS   38   F     ICH   24D    Acute     5             1   \n",
       "13  WSAS28   MCS   38   F     ICH   23D    Acute     7             2   \n",
       "14  WSAS29  Coma   74   F     ICH   33D    Acute     0             0   \n",
       "\n",
       "   Group_Diag  Outcome_Prog     Group_Prog  \n",
       "0         UWS             1      Recovered  \n",
       "1         MCS             3  Non-recovered  \n",
       "2         UWS             1      Recovered  \n",
       "3         UWS             0  Non-recovered  \n",
       "4         UWS             0  Non-recovered  \n",
       "5         MCS             0  Non-recovered  \n",
       "6         UWS             0  Non-recovered  \n",
       "7         UWS             0  Non-recovered  \n",
       "8        Coma             3        Unknown  \n",
       "9         UWS             1      Recovered  \n",
       "10        UWS             0  Non-recovered  \n",
       "11        UWS             0  Non-recovered  \n",
       "12        UWS             1      Recovered  \n",
       "13        MCS             3      Recovered  \n",
       "14       Coma             3        Unknown  "
      ]
     },
     "execution_count": 4,
     "metadata": {},
     "output_type": "execute_result"
    }
   ],
   "source": [
    "# load patient info\n",
    "info = pd.read_csv(patient_information, sep = '\\t')\n",
    "info"
   ]
  },
  {
   "cell_type": "code",
   "execution_count": 5,
   "id": "26a28804",
   "metadata": {},
   "outputs": [
    {
     "data": {
      "text/html": [
       "<div>\n",
       "<style scoped>\n",
       "    .dataframe tbody tr th:only-of-type {\n",
       "        vertical-align: middle;\n",
       "    }\n",
       "\n",
       "    .dataframe tbody tr th {\n",
       "        vertical-align: top;\n",
       "    }\n",
       "\n",
       "    .dataframe thead th {\n",
       "        text-align: right;\n",
       "    }\n",
       "</style>\n",
       "<table border=\"1\" class=\"dataframe\">\n",
       "  <thead>\n",
       "    <tr style=\"text-align: right;\">\n",
       "      <th></th>\n",
       "      <th>ID</th>\n",
       "      <th>dPLI_ARI</th>\n",
       "      <th>Hub_ARI</th>\n",
       "      <th>dirhub_ARI</th>\n",
       "      <th>ARI</th>\n",
       "    </tr>\n",
       "  </thead>\n",
       "  <tbody>\n",
       "    <tr>\n",
       "      <th>0</th>\n",
       "      <td>WSAS02</td>\n",
       "      <td>2.438002</td>\n",
       "      <td>2.095496</td>\n",
       "      <td>0.296768</td>\n",
       "      <td>4.533498</td>\n",
       "    </tr>\n",
       "    <tr>\n",
       "      <th>1</th>\n",
       "      <td>WSAS05</td>\n",
       "      <td>2.547930</td>\n",
       "      <td>1.379833</td>\n",
       "      <td>0.556905</td>\n",
       "      <td>3.927763</td>\n",
       "    </tr>\n",
       "    <tr>\n",
       "      <th>2</th>\n",
       "      <td>WSAS09</td>\n",
       "      <td>9.978531</td>\n",
       "      <td>1.903660</td>\n",
       "      <td>2.145467</td>\n",
       "      <td>11.882191</td>\n",
       "    </tr>\n",
       "    <tr>\n",
       "      <th>3</th>\n",
       "      <td>WSAS10</td>\n",
       "      <td>3.520078</td>\n",
       "      <td>0.930806</td>\n",
       "      <td>0.683015</td>\n",
       "      <td>4.450884</td>\n",
       "    </tr>\n",
       "    <tr>\n",
       "      <th>4</th>\n",
       "      <td>WSAS11</td>\n",
       "      <td>1.662725</td>\n",
       "      <td>1.271518</td>\n",
       "      <td>0.472232</td>\n",
       "      <td>2.934243</td>\n",
       "    </tr>\n",
       "    <tr>\n",
       "      <th>5</th>\n",
       "      <td>WSAS12</td>\n",
       "      <td>3.073470</td>\n",
       "      <td>0.736905</td>\n",
       "      <td>0.772222</td>\n",
       "      <td>3.810376</td>\n",
       "    </tr>\n",
       "    <tr>\n",
       "      <th>6</th>\n",
       "      <td>WSAS13</td>\n",
       "      <td>3.432728</td>\n",
       "      <td>0.888126</td>\n",
       "      <td>0.732878</td>\n",
       "      <td>4.320854</td>\n",
       "    </tr>\n",
       "    <tr>\n",
       "      <th>7</th>\n",
       "      <td>WSAS18</td>\n",
       "      <td>2.700484</td>\n",
       "      <td>0.955514</td>\n",
       "      <td>0.675736</td>\n",
       "      <td>3.655998</td>\n",
       "    </tr>\n",
       "    <tr>\n",
       "      <th>8</th>\n",
       "      <td>WSAS19</td>\n",
       "      <td>8.096561</td>\n",
       "      <td>1.509674</td>\n",
       "      <td>2.647417</td>\n",
       "      <td>9.606235</td>\n",
       "    </tr>\n",
       "    <tr>\n",
       "      <th>9</th>\n",
       "      <td>WSAS20</td>\n",
       "      <td>3.928323</td>\n",
       "      <td>1.965077</td>\n",
       "      <td>1.257231</td>\n",
       "      <td>5.893400</td>\n",
       "    </tr>\n",
       "    <tr>\n",
       "      <th>10</th>\n",
       "      <td>WSAS22</td>\n",
       "      <td>2.248087</td>\n",
       "      <td>0.775548</td>\n",
       "      <td>0.339516</td>\n",
       "      <td>3.023635</td>\n",
       "    </tr>\n",
       "    <tr>\n",
       "      <th>11</th>\n",
       "      <td>WSAS25</td>\n",
       "      <td>2.175073</td>\n",
       "      <td>1.440326</td>\n",
       "      <td>0.913997</td>\n",
       "      <td>3.615399</td>\n",
       "    </tr>\n",
       "    <tr>\n",
       "      <th>12</th>\n",
       "      <td>WSAS27</td>\n",
       "      <td>3.796649</td>\n",
       "      <td>1.083362</td>\n",
       "      <td>1.692428</td>\n",
       "      <td>4.880011</td>\n",
       "    </tr>\n",
       "    <tr>\n",
       "      <th>13</th>\n",
       "      <td>WSAS28</td>\n",
       "      <td>6.955695</td>\n",
       "      <td>1.623754</td>\n",
       "      <td>2.168300</td>\n",
       "      <td>8.579449</td>\n",
       "    </tr>\n",
       "    <tr>\n",
       "      <th>14</th>\n",
       "      <td>WSAS29</td>\n",
       "      <td>1.945123</td>\n",
       "      <td>1.128796</td>\n",
       "      <td>0.533604</td>\n",
       "      <td>3.073920</td>\n",
       "    </tr>\n",
       "  </tbody>\n",
       "</table>\n",
       "</div>"
      ],
      "text/plain": [
       "        ID  dPLI_ARI   Hub_ARI  dirhub_ARI        ARI\n",
       "0   WSAS02  2.438002  2.095496    0.296768   4.533498\n",
       "1   WSAS05  2.547930  1.379833    0.556905   3.927763\n",
       "2   WSAS09  9.978531  1.903660    2.145467  11.882191\n",
       "3   WSAS10  3.520078  0.930806    0.683015   4.450884\n",
       "4   WSAS11  1.662725  1.271518    0.472232   2.934243\n",
       "5   WSAS12  3.073470  0.736905    0.772222   3.810376\n",
       "6   WSAS13  3.432728  0.888126    0.732878   4.320854\n",
       "7   WSAS18  2.700484  0.955514    0.675736   3.655998\n",
       "8   WSAS19  8.096561  1.509674    2.647417   9.606235\n",
       "9   WSAS20  3.928323  1.965077    1.257231   5.893400\n",
       "10  WSAS22  2.248087  0.775548    0.339516   3.023635\n",
       "11  WSAS25  2.175073  1.440326    0.913997   3.615399\n",
       "12  WSAS27  3.796649  1.083362    1.692428   4.880011\n",
       "13  WSAS28  6.955695  1.623754    2.168300   8.579449\n",
       "14  WSAS29  1.945123  1.128796    0.533604   3.073920"
      ]
     },
     "execution_count": 5,
     "metadata": {},
     "output_type": "execute_result"
    }
   ],
   "source": [
    "# load data\n",
    "features = pd.read_csv(data_dir, sep = ',')\n",
    "features['ARI'] = features['Hub_ARI'] + features['dPLI_ARI']\n",
    "features"
   ]
  },
  {
   "cell_type": "code",
   "execution_count": 6,
   "id": "c545b0ee",
   "metadata": {},
   "outputs": [],
   "source": [
    "data = pd.concat([info, features], axis = 1)\n",
    "data_outcome = data[data['Group_Prog']!='Unknown']"
   ]
  },
  {
   "cell_type": "code",
   "execution_count": 12,
   "id": "8be3a24b",
   "metadata": {},
   "outputs": [
    {
     "data": {
      "text/plain": [
       "Text(0.5, 0, 'dPLI Reconfiguration')"
      ]
     },
     "execution_count": 12,
     "metadata": {},
     "output_type": "execute_result"
    },
    {
     "data": {
      "image/png": "[encoded data removed]",
      "text/plain": [
       "<Figure size 432x288 with 1 Axes>"
      ]
     },
     "metadata": {
      "needs_background": "light"
     },
     "output_type": "display_data"
    }
   ],
   "source": [
    "sns.scatterplot(y = 'Hub_ARI', x = 'dPLI_ARI', data = data, hue='Group_Prog', s = 100)\n",
    "\n",
    "plt.ylabel('Hub Reconfiguration', fontsize = 20)\n",
    "plt.xlabel('dPLI Reconfiguration', fontsize = 20)"
   ]
  },
  {
   "cell_type": "code",
   "execution_count": 13,
   "id": "53c527d2",
   "metadata": {},
   "outputs": [
    {
     "data": {
      "text/plain": [
       "Text(0.5, 0, 'dPLI Hub Reconfiguration')"
      ]
     },
     "execution_count": 13,
     "metadata": {},
     "output_type": "execute_result"
    },
    {
     "data": {
      "image/png": "[encoded data removed]",
      "text/plain": [
       "<Figure size 432x288 with 1 Axes>"
      ]
     },
     "metadata": {
      "needs_background": "light"
     },
     "output_type": "display_data"
    }
   ],
   "source": [
    "sns.scatterplot(y = 'dirhub_ARI', x = 'Hub_ARI', data = data, hue='Group_Prog', s = 100)\n",
    "\n",
    "plt.ylabel('wPLI Hub Reconfiguration', fontsize = 20)\n",
    "plt.xlabel('dPLI Hub Reconfiguration', fontsize = 20)"
   ]
  },
  {
   "cell_type": "code",
   "execution_count": 9,
   "id": "3f605e16",
   "metadata": {},
   "outputs": [
    {
     "data": {
      "text/plain": [
       "<AxesSubplot:xlabel='Group_Prog', ylabel='dirhub_ARI'>"
      ]
     },
     "execution_count": 9,
     "metadata": {},
     "output_type": "execute_result"
    },
    {
     "data": {
      "image/png": "[encoded data removed]",
      "text/plain": [
       "<Figure size 432x288 with 1 Axes>"
      ]
     },
     "metadata": {
      "needs_background": "light"
     },
     "output_type": "display_data"
    }
   ],
   "source": [
    "sns.boxplot(y = 'dirhub_ARI', x = 'Group_Prog', data = data_outcome)\n",
    "sns.scatterplot(y = 'dirhub_ARI', x = 'Group_Prog', data = data_outcome, color ='black', s = 50)\n"
   ]
  },
  {
   "cell_type": "code",
   "execution_count": 10,
   "id": "5684a791",
   "metadata": {},
   "outputs": [
    {
     "data": {
      "text/plain": [
       "<AxesSubplot:xlabel='Group_Prog', ylabel='Hub_ARI'>"
      ]
     },
     "execution_count": 10,
     "metadata": {},
     "output_type": "execute_result"
    },
    {
     "data": {
      "image/png": "[encoded data removed]",
      "text/plain": [
       "<Figure size 432x288 with 1 Axes>"
      ]
     },
     "metadata": {
      "needs_background": "light"
     },
     "output_type": "display_data"
    }
   ],
   "source": [
    "sns.boxplot(y = 'Hub_ARI', x = 'Group_Prog', data = data_outcome)\n",
    "sns.scatterplot(y = 'Hub_ARI', x = 'Group_Prog', data = data_outcome, color ='black', s = 50)\n"
   ]
  }
 ],
 "metadata": {
  "kernelspec": {
   "display_name": "Python 3 (ipykernel)",
   "language": "python",
   "name": "python3"
  },
  "language_info": {
   "codemirror_mode": {
    "name": "ipython",
    "version": 3
   },
   "file_extension": ".py",
   "mimetype": "text/x-python",
   "name": "python",
   "nbconvert_exporter": "python",
   "pygments_lexer": "ipython3",
   "version": "3.8.14"
  }
 },
 "nbformat": 4,
 "nbformat_minor": 5
}
